{
 "cells": [
  {
   "attachments": {},
   "cell_type": "markdown",
   "id": "4123c4da-15c8-47f8-9781-7c14c94e2910",
   "metadata": {
    "tags": [],
    "user_expressions": []
   },
   "source": [
    "<!-- ---\n",
    "title: Sparse Observations\n",
    "date: 2023-04-01\n",
    "authors:\n",
    "  - name: J. Emmanuel Johnson\n",
    "    affiliations:\n",
    "      - MEOM Lab\n",
    "    roles:\n",
    "      - Primary Programmer\n",
    "    email: jemanjohnson34@gmail.com\n",
    "license: CC-BY-4.0\n",
    "keywords: NerFs, SWOT\n",
    "--- -->\n",
    "# OSE NADIR"
   ]
  },
  {
   "cell_type": "code",
   "execution_count": null,
   "id": "6028f5f4-c74e-42aa-a147-be448542e2de",
   "metadata": {
    "tags": []
   },
   "outputs": [],
   "source": [
    "import autoroot\n",
    "import jax\n",
    "import jax.numpy as jnp\n",
    "import jax.scipy as jsp\n",
    "import jax.random as jrandom\n",
    "import numpy as np\n",
    "import numba as nb\n",
    "import equinox as eqx\n",
    "import kernex as kex\n",
    "import finitediffx as fdx\n",
    "import diffrax as dfx\n",
    "import xarray as xr\n",
    "import metpy\n",
    "import matplotlib.pyplot as plt\n",
    "import seaborn as sns\n",
    "from tqdm.notebook import tqdm, trange\n",
    "from jaxtyping import Float, Array, PyTree, ArrayLike\n",
    "import wandb\n",
    "from omegaconf import OmegaConf\n",
    "import hydra\n",
    "from sklearn import pipeline\n",
    "from sklearn.compose import ColumnTransformer\n",
    "from sklearn.pipeline import Pipeline\n",
    "from jejeqx._src.transforms.dataframe.spatial import Spherical2Cartesian\n",
    "from jejeqx._src.transforms.dataframe.temporal import TimeDelta\n",
    "from jejeqx._src.transforms.dataframe.scaling import MinMaxDF\n",
    "\n",
    "sns.reset_defaults()\n",
    "sns.set_context(context=\"talk\", font_scale=0.7)\n",
    "# Ensure TF does not see GPU and grab all GPU memory.\n",
    "%env XLA_PYTHON_CLIENT_PREALLOCATE=false\n",
    "jax.config.update(\"jax_enable_x64\", False)\n",
    "\n",
    "%matplotlib inline\n",
    "%load_ext autoreload\n",
    "%autoreload 2"
   ]
  },
  {
   "attachments": {},
   "cell_type": "markdown",
   "id": "c71086b9-24cb-4b1d-9eab-93ce21ac8d12",
   "metadata": {
    "tags": [],
    "user_expressions": []
   },
   "source": [
    "## Recap Formulation\n",
    "\n",
    "We are interested in learning non-linear functions $\\boldsymbol{f}$.\n",
    "\n",
    "$$\n",
    "\\begin{aligned}\n",
    "\\boldsymbol{f}(\\mathbf{x}) &=\n",
    "\\mathbf{w}^\\top\\boldsymbol{\\phi}(\\mathbf{x})+\\mathbf{b}\n",
    "\\end{aligned}\n",
    "$$\n",
    "\n",
    "where the $\\boldsymbol{\\phi}(\\cdot)$ is a basis function. Neural Fields typically try to learn this basis funciton via a series of composite functions of the form\n",
    "\n",
    "$$\n",
    "\\boldsymbol{\\phi}(\\mathbf{x}) =\n",
    "\\boldsymbol{\\phi}_L\\circ\\boldsymbol{\\phi}_{L-1}\n",
    "\\circ\\cdots\\circ\n",
    "\\boldsymbol{\\phi}_2\\circ\\boldsymbol{\\phi}_{1}(\\mathbf{x})\n",
    "$$"
   ]
  },
  {
   "attachments": {},
   "cell_type": "markdown",
   "id": "c9495206-f1e1-42d6-beba-13fe42d9253f",
   "metadata": {
    "user_expressions": []
   },
   "source": [
    "## Problems\n",
    "\n",
    "Here, we will demonstrate a problem that a naive network has."
   ]
  },
  {
   "attachments": {},
   "cell_type": "markdown",
   "id": "5ac67435-b31d-4788-b79d-3d2e3b5ac1df",
   "metadata": {
    "user_expressions": []
   },
   "source": [
    "## Sparse Observations"
   ]
  },
  {
   "attachments": {},
   "cell_type": "markdown",
   "id": "e1a64840-9539-4eef-b173-436d7abfe6f8",
   "metadata": {
    "user_expressions": []
   },
   "source": [
    "In the previous examples, we were demonstrating how NerFs perform when we have some clean simulation. \n",
    "However, in many real problems, we do not have access to such clean\n",
    "\n",
    "For this example, we are going to look at the case when we have very sparse observations: as in the case with satellite altimetry data like SWOT. In this case"
   ]
  },
  {
   "cell_type": "code",
   "execution_count": null,
   "id": "aefda25b-01ae-4654-b4ce-03c17732a4a6",
   "metadata": {},
   "outputs": [],
   "source": [
    "# !wget -nc \"https://s3.us-east-1.wasabisys.com/melody/osse_data/data/gridded_data_swot_wocorr/dataset_nadir_0d_swot.nc\""
   ]
  },
  {
   "cell_type": "code",
   "execution_count": null,
   "id": "49682937-4e5c-4707-b7db-cedc7c60ee93",
   "metadata": {},
   "outputs": [],
   "source": [
    "!ls /gpfswork/rech/yrf/commun/data_challenges/dc21a_ose/test/train/"
   ]
  },
  {
   "cell_type": "code",
   "execution_count": null,
   "id": "80de7073-939d-4ab9-a419-d5564a660681",
   "metadata": {},
   "outputs": [],
   "source": [
    "from pathlib import Path"
   ]
  },
  {
   "cell_type": "code",
   "execution_count": null,
   "id": "940d5566-74c1-484e-9469-e5b95ddd9d51",
   "metadata": {},
   "outputs": [],
   "source": [
    "from dataclasses import dataclass, field\n",
    "from typing import List, Dict\n",
    "\n",
    "\n",
    "@dataclass\n",
    "class SSHDM:\n",
    "    _target_: str = \"jejeqx._src.datamodules.coords.AlongTrackDM\"\n",
    "    paths: str = (\n",
    "        \"/gpfswork/rech/yrf/commun/data_challenges/dc21a_ose/test/train/dt_gulfstream_*\"\n",
    "    )\n",
    "    batch_size: int = 5_000\n",
    "    shuffle: bool = True\n",
    "    train_size: float = 0.80\n",
    "    # subset_size: float = 0.50\n",
    "    spatial_coords: List = field(default_factory=lambda: [\"lat\", \"lon\"])\n",
    "    temporal_coords: List = field(default_factory=lambda: [\"time\"])\n",
    "    variables: List = field(default_factory=lambda: [\"sla_unfiltered\"])\n",
    "    time_units: str = \"seconds since 2016-12-01\"\n",
    "\n",
    "\n",
    "# spatial transform\n",
    "spatial_transforms = Pipeline(\n",
    "    [\n",
    "        (\"cartesian3d\", Spherical2Cartesian(radius=1.0, units=\"degrees\")),\n",
    "        (\"spatialminmax\", MinMaxDF([\"x\", \"y\", \"z\"], -1, 1)),\n",
    "    ]\n",
    ")\n",
    "\n",
    "temporal_transforms = Pipeline(\n",
    "    [\n",
    "        (\"timedelta\", TimeDelta(\"2016-12-01\", 1, \"s\")),\n",
    "        (\"timeminmax\", MinMaxDF([\"time\"], -1, 1)),\n",
    "    ]\n",
    ")"
   ]
  },
  {
   "cell_type": "code",
   "execution_count": null,
   "id": "7f5bf5af-e023-4d3b-a5bc-4bd14de193a4",
   "metadata": {},
   "outputs": [],
   "source": [
    "select = {\"time\": slice(\"2016-12-01\", \"2018-01-31\")}\n",
    "\n",
    "config_dm = OmegaConf.structured(SSHDM())\n",
    "\n",
    "dm = hydra.utils.instantiate(\n",
    "    config_dm,\n",
    "    select=select,\n",
    "    spatial_transform=spatial_transforms,\n",
    "    temporal_transform=temporal_transforms,\n",
    ")\n",
    "\n",
    "dm.setup()\n",
    "\n",
    "\n",
    "init = dm.ds_train[:32]\n",
    "x_init, t_init, y_init = init[\"spatial\"], init[\"temporal\"], init[\"data\"]\n",
    "x_init.min(), x_init.max(), x_init.shape, t_init.min(), t_init.max(), t_init.shape"
   ]
  },
  {
   "cell_type": "code",
   "execution_count": null,
   "id": "7aada7fe-c387-4dee-aea9-f60b0c698013",
   "metadata": {},
   "outputs": [],
   "source": [
    "len(dm.ds_train)"
   ]
  },
  {
   "cell_type": "code",
   "execution_count": null,
   "id": "9e367177-80a4-4490-acdc-02d6a2932f73",
   "metadata": {},
   "outputs": [],
   "source": [
    "# xrda_obs = dm.load_xrds()\n",
    "# xrda_obs"
   ]
  },
  {
   "cell_type": "code",
   "execution_count": null,
   "id": "2d5da277-9e83-4475-863c-d853d64710ae",
   "metadata": {},
   "outputs": [],
   "source": [
    "# fig, ax = plt.subplots(ncols=1, figsize=(5,4))\n",
    "\n",
    "# xrda_obs.ssh_obs.isel(time=1).plot.pcolormesh(ax=ax, cmap=\"viridis\")\n",
    "# ax.set(title=\"Original\")\n",
    "\n",
    "# plt.tight_layout()\n",
    "# plt.show()"
   ]
  },
  {
   "cell_type": "code",
   "execution_count": null,
   "id": "b6041259-00a2-4de1-85b1-2569744ee922",
   "metadata": {},
   "outputs": [],
   "source": [
    "# import geoviews as gv\n",
    "# import geoviews.feature as gf\n",
    "# from cartopy import crs\n",
    "\n",
    "# gv.extension('bokeh', 'matplotlib')"
   ]
  },
  {
   "cell_type": "code",
   "execution_count": null,
   "id": "b2043e33-8790-4e66-af64-c7f0f2758af8",
   "metadata": {},
   "outputs": [],
   "source": [
    "# xrda_obs"
   ]
  },
  {
   "cell_type": "code",
   "execution_count": null,
   "id": "405d8c5d-7fe3-4d1f-8943-d8268fc87de3",
   "metadata": {},
   "outputs": [],
   "source": [
    "# dataset = gv.Dataset(xrda_obs)\n",
    "# ensemble1 = dataset.to(gv.Image, ['lon', 'lat'], \"ssh_obs\")\n",
    "# gv.output(ensemble1.opts(cmap='viridis', colorbar=True, fig_size=200, backend='matplotlib') * gf.coastline(),\n",
    "#           backend='matplotlib')"
   ]
  },
  {
   "attachments": {},
   "cell_type": "markdown",
   "id": "7c674973-f5a6-4d61-9d77-53b1b935bf10",
   "metadata": {
    "user_expressions": []
   },
   "source": [
    "## Model"
   ]
  },
  {
   "attachments": {},
   "cell_type": "markdown",
   "id": "fdbada9e-5be2-4abd-b5bc-1693d0ef2523",
   "metadata": {
    "pycharm": {
     "name": "#%% md\n"
    },
    "user_expressions": []
   },
   "source": [
    "The input data is a coordinate vector, $\\mathbf{x}_\\phi$, of the image coordinates.\n",
    "\n",
    "$$\n",
    "\\mathbf{x}_\\phi \\in \\mathbb{R}^{D_\\phi}\n",
    "$$\n",
    "\n",
    "where $D_\\phi = [\\text{x}, \\text{y}]$. So we are interested in learning a function, $\\boldsymbol{f}$, such that we can input a coordinate vector and output a scaler/vector value of the pixel value.\n",
    "\n",
    "$$\n",
    "\\mathbf{u} = \\boldsymbol{f}(\\mathbf{x}_\\phi; \\boldsymbol{\\theta})\n",
    "$$"
   ]
  },
  {
   "attachments": {},
   "cell_type": "markdown",
   "id": "667bed9f-1fdc-4f68-8884-6fb0ab2dacb8",
   "metadata": {
    "pycharm": {
     "name": "#%% md\n"
    },
    "user_expressions": []
   },
   "source": [
    "### SIREN Layer\n",
    "\n",
    "$$\n",
    "\\boldsymbol{\\phi}^{(\\ell)}(\\mathbf{x}) = \\sin\n",
    "\\left(\n",
    "\\omega^{(\\ell)}\\left(\n",
    "\\mathbf{w}^{(\\ell)}\\mathbf{x} + \\mathbf{b}^{(\\ell)} + \\mathbf{s}^{(\\ell)}\n",
    "\\right)\\right)\n",
    "$$\n",
    "\n",
    "where $\\mathbf{s}$ is the modulation\n",
    "\n",
    "$$\n",
    "\\mathbf{s}^{(\\ell)} = \\mathbf{w}_z^{(\\ell)}\\mathbf{z} + \\mathbf{b}_z^{(\\ell)}\n",
    "$$"
   ]
  },
  {
   "cell_type": "code",
   "execution_count": null,
   "id": "75094d0f-21d6-4422-b4ea-3ab4c66e60b3",
   "metadata": {},
   "outputs": [],
   "source": [
    "from jejeqx._src.nets.nerfs.ffn import RFFLayer\n",
    "\n",
    "model_name = \"rff\"\n",
    "\n",
    "\n",
    "model = eqx.nn.Sequential(\n",
    "    [\n",
    "        RFFLayer(in_dim=4, num_features=256, out_dim=256, key=jrandom.PRNGKey(42)),\n",
    "        RFFLayer(in_dim=256, num_features=256, out_dim=256, key=jrandom.PRNGKey(123)),\n",
    "        RFFLayer(in_dim=256, num_features=256, out_dim=256, key=jrandom.PRNGKey(23)),\n",
    "        RFFLayer(in_dim=256, num_features=256, out_dim=256, key=jrandom.PRNGKey(81)),\n",
    "        RFFLayer(in_dim=256, num_features=256, out_dim=1, key=jrandom.PRNGKey(32)),\n",
    "    ]\n",
    ")\n",
    "# check output of models\n",
    "out = jax.vmap(model)(jnp.hstack([x_init, t_init]))\n",
    "\n",
    "assert out.shape == y_init.shape"
   ]
  },
  {
   "attachments": {},
   "cell_type": "markdown",
   "id": "1b3580d3-6711-4cfd-8e73-fc5703c0842b",
   "metadata": {
    "user_expressions": []
   },
   "source": [
    "## Optimizer (+ Learning Rate)"
   ]
  },
  {
   "attachments": {},
   "cell_type": "markdown",
   "id": "bee6f311-5612-46dd-ade3-335142f3c0b3",
   "metadata": {
    "user_expressions": []
   },
   "source": [
    "For this, we will use a simple adam optimizer with a `learning_rate` of 1e-4. From many studies, it appears that a lower learning rate works well with this methods because there is a lot of data. In addition, a bigger `batch_size` is also desireable. We will set the `num_epochs` to `1_000` which should be good enough for a single image. Obviously more epochs and a better learning rate scheduler would result in better results but this will be sufficient for this demo."
   ]
  },
  {
   "cell_type": "code",
   "execution_count": null,
   "id": "1c3c5f88-0721-4aa5-bce9-32f15612c197",
   "metadata": {
    "tags": []
   },
   "outputs": [],
   "source": [
    "import optax\n",
    "\n",
    "num_epochs = 1_000\n",
    "\n",
    "\n",
    "@dataclass\n",
    "class Optimizer:\n",
    "    _target_: str = \"optax.adam\"\n",
    "    learning_rate: float = 1e-4\n",
    "\n",
    "\n",
    "# @dataclass\n",
    "# class Scheduler:\n",
    "#     _target_: str = \"optax.warmup_exponential_decay_schedule\"\n",
    "#     init_value: float = 0.0\n",
    "#     peak_value: float = 1e-2\n",
    "#     warmup_steps: int = 100\n",
    "#     end_value: float = 1e-5\n",
    "#     decay_rate: float = 0.1\n",
    "\n",
    "\n",
    "# FINETUNE!\n",
    "@dataclass\n",
    "class Scheduler:\n",
    "    _target_: str = \"optax.warmup_cosine_decay_schedule\"\n",
    "    init_value: float = 0.0\n",
    "    peak_value: float = 1e-2\n",
    "    warmup_steps: int = 500\n",
    "    end_value: float = 1e-6\n",
    "\n",
    "\n",
    "scheduler_config = OmegaConf.structured(Scheduler())"
   ]
  },
  {
   "cell_type": "code",
   "execution_count": null,
   "id": "2bdfcf58-b5e3-4b9a-afe6-9e515a261404",
   "metadata": {
    "tags": []
   },
   "outputs": [],
   "source": [
    "optim_config = OmegaConf.structured(Optimizer())\n",
    "\n",
    "optimizer = hydra.utils.instantiate(optim_config)\n",
    "\n",
    "# num_steps_per_epoch = len(dm.ds_train)\n",
    "\n",
    "# scheduler = hydra.utils.instantiate(\n",
    "#     scheduler_config,\n",
    "#     decay_steps=int(num_epochs * num_steps_per_epoch)\n",
    "# )\n",
    "\n",
    "# optimizer = optax.chain(optimizer, optax.scale_by_schedule(scheduler))"
   ]
  },
  {
   "attachments": {},
   "cell_type": "markdown",
   "id": "7327bdf1-7e7d-458c-99f7-2d85ba48d185",
   "metadata": {
    "user_expressions": []
   },
   "source": [
    "## Trainer Module"
   ]
  },
  {
   "cell_type": "code",
   "execution_count": null,
   "id": "8a54b919-1dd4-4bad-bd4d-1c9d4dc92a0f",
   "metadata": {
    "jupyter": {
     "outputs_hidden": false
    }
   },
   "outputs": [],
   "source": [
    "import glob\n",
    "import os\n",
    "from pathlib import Path\n",
    "\n",
    "from jejeqx._src.trainers.base import TrainerModule\n",
    "from jejeqx._src.trainers.callbacks import wandb_model_artifact\n",
    "from jejeqx._src.losses import psnr\n",
    "\n",
    "\n",
    "class RegressorTrainer(TrainerModule):\n",
    "    def __init__(self, model, optimizer, **kwargs):\n",
    "        super().__init__(model=model, optimizer=optimizer, pl_logger=None, **kwargs)\n",
    "\n",
    "    @property\n",
    "    def model(self):\n",
    "        return self.state.params\n",
    "\n",
    "    @property\n",
    "    def model_batch(self):\n",
    "        return jax.vmap(self.state.params, in_axes=(0, 0))\n",
    "\n",
    "    def create_functions(self):\n",
    "        @eqx.filter_value_and_grad\n",
    "        def mse_loss(model, batch):\n",
    "            x, t, y = batch[\"spatial\"], batch[\"temporal\"], batch[\"data\"]\n",
    "            # pred = jax.vmap(model, in_axes=(0,0))(x, t)\n",
    "            pred = jax.vmap(model)(jnp.hstack([x, t]))\n",
    "            loss = jnp.mean((y - pred) ** 2)\n",
    "            return loss\n",
    "\n",
    "        def train_step(state, batch):\n",
    "            loss, grads = mse_loss(state.params, batch)\n",
    "            state = state.update_state(state, grads)\n",
    "            psnr_loss = psnr(loss)\n",
    "            metrics = {\"loss\": loss, \"psnr\": psnr_loss}\n",
    "            return state, loss, metrics\n",
    "\n",
    "        def eval_step(model, batch):\n",
    "            loss, _ = mse_loss(model, batch)\n",
    "            psnr_loss = psnr(loss)\n",
    "            return {\"loss\": loss, \"psnr\": psnr_loss}\n",
    "\n",
    "        def test_step(model, batch):\n",
    "            x, t, y = batch[\"spatial\"], batch[\"temporal\"], batch[\"data\"]\n",
    "            pred = jax.vmap(model)(jnp.hstack([x, t]))\n",
    "            loss, _ = mse_loss(model, batch)\n",
    "            psnr_loss = psnr(loss)\n",
    "            return pred, {\"loss\": loss, \"psnr\": psnr_loss}\n",
    "\n",
    "        def predict_step(model, batch):\n",
    "            x, t = batch[\"spatial\"], batch[\"temporal\"]\n",
    "            pred = jax.vmap(model)(jnp.hstack([x, t]))\n",
    "            return pred\n",
    "\n",
    "        return train_step, eval_step, test_step, predict_step\n",
    "\n",
    "    def on_training_end(\n",
    "        self,\n",
    "    ):\n",
    "        if self.pl_logger:\n",
    "            save_dir = Path(self.log_dir).joinpath(self.save_name)\n",
    "            self.save_model(save_dir)\n",
    "            wandb_model_artifact(self)\n",
    "            self.pl_logger.finalize(\"success\")"
   ]
  },
  {
   "cell_type": "code",
   "execution_count": null,
   "id": "e1df158c-9126-4e8e-b5ab-ae01c0a34c06",
   "metadata": {
    "jupyter": {
     "outputs_hidden": false
    }
   },
   "outputs": [],
   "source": [
    "seed = 123\n",
    "debug = False\n",
    "enable_progress_bar = False\n",
    "log_dir = \"./\"\n",
    "\n",
    "trainer = RegressorTrainer(\n",
    "    model,\n",
    "    optimizer,\n",
    "    seed=seed,\n",
    "    debug=debug,\n",
    "    enable_progress_bar=enable_progress_bar,\n",
    "    log_dir=log_dir,\n",
    ")\n",
    "\n",
    "train_more = True\n",
    "save_more = True"
   ]
  },
  {
   "cell_type": "code",
   "execution_count": null,
   "id": "54591d79-21a2-4787-8bb8-7f25c595f2e7",
   "metadata": {},
   "outputs": [],
   "source": [
    "%%time\n",
    "\n",
    "out, metrics = trainer.test_model(dm.test_dataloader())\n",
    "metrics"
   ]
  },
  {
   "cell_type": "code",
   "execution_count": null,
   "id": "e6dff88d",
   "metadata": {
    "tags": []
   },
   "outputs": [],
   "source": [
    "if model_name == \"rff\":\n",
    "    # trainer.load_model(\"./checkpoints/checkpoint_model_rff_ssh_nadir.ckpt\")\n",
    "    # trainer.load_model(\"./checkpoints/checkpoint_model_rff_ssh_swot.ckpt\")\n",
    "    # trainer.load_model(\"./checkpoints/checkpoint_natl60_model_rff.ckpt\")\n",
    "    trainer.load_model(\"./checkpoints/checkpoint_model_rff_ssh_ose_year.ckpt\")\n",
    "    pass\n",
    "elif model_name == \"siren\":\n",
    "    trainer.load_model(\"./checkpoints/checkpoint_model_siren_ssh_swot.ckpt\")"
   ]
  },
  {
   "cell_type": "code",
   "execution_count": null,
   "id": "8616b022-0b0b-42bd-ad8a-eb8683311ca5",
   "metadata": {},
   "outputs": [],
   "source": [
    "%%time\n",
    "\n",
    "out, metrics = trainer.test_model(dm.test_dataloader())\n",
    "metrics"
   ]
  },
  {
   "cell_type": "code",
   "execution_count": null,
   "id": "73b5d0fd-628d-45f4-8eff-21be28d1c977",
   "metadata": {
    "tags": []
   },
   "outputs": [],
   "source": [
    "%%time\n",
    "\n",
    "metrics = trainer.train_model(dm, num_epochs=num_epochs)"
   ]
  },
  {
   "cell_type": "code",
   "execution_count": null,
   "id": "68ad3663-3e31-4504-a584-fadb4a5b0efe",
   "metadata": {},
   "outputs": [],
   "source": [
    "%%time\n",
    "\n",
    "out, metrics = trainer.test_model(dm.test_dataloader())\n",
    "metrics"
   ]
  },
  {
   "cell_type": "code",
   "execution_count": null,
   "id": "20449b9d-6229-400b-8502-ac280a2faf67",
   "metadata": {},
   "outputs": [],
   "source": [
    "if save_more:\n",
    "    if model_name == \"rff\":\n",
    "        # trainer.save_model(\"./checkpoints/checkpoint_model_rff_ssh_swot.ckpt\")\n",
    "        trainer.save_model(\"./checkpoints/checkpoint_model_rff_ssh_ose_year.ckpt\")\n",
    "    elif model_name == \"siren\":\n",
    "        trainer.save_model(\"./checkpoints/checkpoint_model_siren_ssh_ose.ckpt\")"
   ]
  },
  {
   "cell_type": "code",
   "execution_count": null,
   "id": "f0b4c8b2-6360-4223-9b15-33d83ac0902a",
   "metadata": {},
   "outputs": [],
   "source": []
  },
  {
   "attachments": {},
   "cell_type": "markdown",
   "id": "ef03a37b-f7e6-4ce1-b1e7-9da15fe08f59",
   "metadata": {},
   "source": [
    "## Evaluation"
   ]
  },
  {
   "cell_type": "code",
   "execution_count": null,
   "id": "7184e3e4-0edb-40ac-816f-34e0b1a6a56d",
   "metadata": {},
   "outputs": [],
   "source": [
    "!ls /gpfswork/rech/yrf/commun/data_challenges/dc21a_ose/test/test/"
   ]
  },
  {
   "cell_type": "code",
   "execution_count": null,
   "id": "7e854afb-5f82-4231-8b0e-1852b4ee9136",
   "metadata": {},
   "outputs": [],
   "source": [
    "from dataclasses import dataclass, field\n",
    "from typing import List, Dict\n",
    "\n",
    "\n",
    "@dataclass\n",
    "class SSHDMEVAL:\n",
    "    _target_: str = \"jejeqx._src.datamodules.coords.AlongTrackDM\"\n",
    "    paths: str = (\n",
    "        \"/gpfswork/rech/yrf/commun/data_challenges/dc21a_ose/test/test/dt_gulfstream_*\"\n",
    "    )\n",
    "    batch_size: int = 10_000\n",
    "    evaluation: bool = True\n",
    "    # subset_size: float = None\n",
    "    spatial_coords: List = field(default_factory=lambda: [\"lat\", \"lon\"])\n",
    "    temporal_coords: List = field(default_factory=lambda: [\"time\"])\n",
    "    variables: List = field(default_factory=lambda: [\"sla_unfiltered\"])\n",
    "    time_units: str = \"seconds since 2016-12-01\""
   ]
  },
  {
   "cell_type": "code",
   "execution_count": null,
   "id": "1fdfd2d7-7c7d-489a-94e5-044d39f9f9c4",
   "metadata": {},
   "outputs": [],
   "source": [
    "select = {\"time\": slice(\"2017-01-01\", \"2017-12-31\")}\n",
    "\n",
    "config_dm = OmegaConf.structured(SSHDMEVAL())\n",
    "\n",
    "dm_eval = hydra.utils.instantiate(\n",
    "    config_dm,\n",
    "    select=select,\n",
    "    spatial_transform=dm.spatial_transform,\n",
    "    temporal_transform=dm.temporal_transform,\n",
    ")\n",
    "\n",
    "dm_eval.setup()"
   ]
  },
  {
   "cell_type": "code",
   "execution_count": null,
   "id": "b1b19158-a9d9-4299-a134-5a24b1bd73de",
   "metadata": {},
   "outputs": [],
   "source": [
    "%%time\n",
    "\n",
    "out, metrics = trainer.test_model(dm_eval.test_dataloader())\n",
    "metrics"
   ]
  },
  {
   "cell_type": "code",
   "execution_count": null,
   "id": "009f77fa-6c2b-4657-8621-27525726abc2",
   "metadata": {},
   "outputs": [],
   "source": []
  },
  {
   "attachments": {},
   "cell_type": "markdown",
   "id": "96d51ff8-ad49-4d64-bafe-b54a044adcd3",
   "metadata": {
    "user_expressions": []
   },
   "source": [
    "## Evaluation\n",
    "\n",
    "We will predict the whole dataset at the full resolution available for the same time period.\n",
    "\n",
    "`01-June-2013 :--> 15-June-2013`"
   ]
  },
  {
   "cell_type": "code",
   "execution_count": null,
   "id": "8894b25c-5ade-4270-9294-4927cf90b336",
   "metadata": {},
   "outputs": [],
   "source": [
    "from dataclasses import dataclass, field\n",
    "from typing import List, Dict\n",
    "from jejeqx._src.types.xrdata import Bounds, Period\n",
    "\n",
    "\n",
    "@dataclass\n",
    "class SSHDMEVAL:\n",
    "    _target_: str = \"jejeqx._src.datamodules.coords.EvalGridDM\"\n",
    "    lon_limits: Bounds = Bounds(-65, -55, 0.1)\n",
    "    lat_limits: Bounds = Bounds(33, 43, 0.1)\n",
    "    time_limits: Period = Period(\"2017-01-01\", \"2018-01-01\", 1, \"D\")\n",
    "    spatial_coords: List = field(default_factory=lambda: [\"lat\", \"lon\"])\n",
    "    temporal_coords: List = field(default_factory=lambda: [\"time\"])"
   ]
  },
  {
   "cell_type": "code",
   "execution_count": null,
   "id": "5b9f1ee9-07d7-4d76-82b8-69453a87e036",
   "metadata": {
    "tags": []
   },
   "outputs": [],
   "source": [
    "%%time\n",
    "\n",
    "config_dm = OmegaConf.structured(SSHDMEVAL())\n",
    "\n",
    "dm_eval = hydra.utils.instantiate(\n",
    "    config_dm,\n",
    "    spatial_transform=dm.spatial_transform,\n",
    "    temporal_transform=dm.temporal_transform,\n",
    ")\n",
    "\n",
    "dm_eval.setup()"
   ]
  },
  {
   "cell_type": "code",
   "execution_count": null,
   "id": "36ca3be9-35e9-40e8-beac-736a1cf4fc4e",
   "metadata": {},
   "outputs": [],
   "source": [
    "len(dm_eval.ds_predict)"
   ]
  },
  {
   "cell_type": "code",
   "execution_count": null,
   "id": "b54a93cc-dff4-4c91-a121-e17a57ce69e4",
   "metadata": {},
   "outputs": [],
   "source": [
    "%%time\n",
    "\n",
    "out = trainer.predict_model(dm_eval.predict_dataloader())"
   ]
  },
  {
   "cell_type": "code",
   "execution_count": null,
   "id": "d1336da9-e5aa-4611-bffe-311e810c4f89",
   "metadata": {},
   "outputs": [],
   "source": [
    "xrda = dm_eval.data_to_df(out).to_xarray()\n",
    "\n",
    "xrda"
   ]
  },
  {
   "cell_type": "code",
   "execution_count": null,
   "id": "e9f00e4c-beeb-4328-b0b9-7e876775263e",
   "metadata": {},
   "outputs": [],
   "source": [
    "fig, ax = plt.subplots()\n",
    "itime = 5\n",
    "\n",
    "xrda.ssh.isel(time=0).plot.pcolormesh(ax=ax, cmap=\"viridis\", robust=False)\n",
    "ax.set(title=\"Random Feature Expansions\")\n",
    "plt.tight_layout()\n",
    "plt.show()"
   ]
  },
  {
   "cell_type": "code",
   "execution_count": null,
   "id": "3f04af13-ef86-4541-95c2-18cfd071e50e",
   "metadata": {},
   "outputs": [],
   "source": [
    "import common_utils as cutils"
   ]
  },
  {
   "cell_type": "code",
   "execution_count": null,
   "id": "ace67592-44bf-40f1-9dfe-799c9cae4910",
   "metadata": {},
   "outputs": [],
   "source": [
    "ds_rff = cutils.calculate_physical_quantities(xrda.ssh)\n",
    "\n",
    "ds_rff"
   ]
  },
  {
   "cell_type": "code",
   "execution_count": null,
   "id": "905c35fc-831d-4422-baaa-b6e8b8c33ede",
   "metadata": {},
   "outputs": [],
   "source": [
    "fig, ax = cutils.plot_analysis_vars([ds_rff.isel(time=5)])\n",
    "plt.show()"
   ]
  },
  {
   "cell_type": "code",
   "execution_count": null,
   "id": "df77c953-1b4d-4ef3-b98d-3b2c230ea634",
   "metadata": {},
   "outputs": [],
   "source": [
    "ds_psd_rff = cutils.calculate_isotropic_psd(ds_rff)"
   ]
  },
  {
   "cell_type": "code",
   "execution_count": null,
   "id": "64535592-be0c-46d8-a5fb-ea3c43c5cf39",
   "metadata": {},
   "outputs": [],
   "source": [
    "fig, ax = cutils.plot_analysis_psd_iso([ds_psd_rff], [\"RFE\"])\n",
    "plt.show()"
   ]
  },
  {
   "cell_type": "code",
   "execution_count": null,
   "id": "98ab4395-a02e-4bfa-a4b5-260e96afd7a3",
   "metadata": {},
   "outputs": [],
   "source": [
    "ds_psd_rff = cutils.calculate_spacetime_psd(ds_rff)"
   ]
  },
  {
   "cell_type": "code",
   "execution_count": null,
   "id": "ef11b2a3-2b2b-40f2-9073-cd3ba8b80fda",
   "metadata": {},
   "outputs": [],
   "source": [
    "fig, ax = cutils.plot_analysis_psd_spacetime([ds_psd_rff], [\"RFE\"])\n",
    "plt.show()"
   ]
  },
  {
   "cell_type": "code",
   "execution_count": null,
   "id": "ac8b1e5f-ca49-4f56-aa59-28562e79cec8",
   "metadata": {},
   "outputs": [],
   "source": []
  },
  {
   "cell_type": "code",
   "execution_count": null,
   "id": "82edf17b-4f0a-4e3f-9758-90b21c30c5f0",
   "metadata": {},
   "outputs": [],
   "source": []
  }
 ],
 "metadata": {
  "kernelspec": {
   "display_name": "Python [conda env:miniconda3-jejeqx]",
   "language": "python",
   "name": "conda-env-miniconda3-jejeqx-py"
  },
  "language_info": {
   "codemirror_mode": {
    "name": "ipython",
    "version": 3
   },
   "file_extension": ".py",
   "mimetype": "text/x-python",
   "name": "python",
   "nbconvert_exporter": "python",
   "pygments_lexer": "ipython3",
   "version": "3.10.10"
  }
 },
 "nbformat": 4,
 "nbformat_minor": 5
}
