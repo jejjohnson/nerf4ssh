{
 "cells": [
  {
   "attachments": {},
   "cell_type": "markdown",
   "id": "4123c4da-15c8-47f8-9781-7c14c94e2910",
   "metadata": {
    "tags": [],
    "user_expressions": []
   },
   "source": [
    "<!-- ---\n",
    "title: Gradient Considerations\n",
    "date: 2023-04-01\n",
    "authors:\n",
    "  - name: J. Emmanuel Johnson\n",
    "    affiliations:\n",
    "      - MEOM Lab\n",
    "    roles:\n",
    "      - Primary Programmer\n",
    "    email: jemanjohnson34@gmail.com\n",
    "license: CC-BY-4.0\n",
    "keywords: NerFs, Images\n",
    "--- -->\n",
    "# Gradient Considerations"
   ]
  },
  {
   "attachments": {},
   "cell_type": "markdown",
   "id": "835a45b4",
   "metadata": {},
   "source": []
  },
  {
   "cell_type": "code",
   "execution_count": 1,
   "id": "0c777be9",
   "metadata": {},
   "outputs": [],
   "source": [
    "import autoroot"
   ]
  },
  {
   "cell_type": "code",
   "execution_count": 2,
   "id": "b72c1f71",
   "metadata": {},
   "outputs": [
    {
     "data": {
      "text/html": [
       "<div><svg style=\"position: absolute; width: 0; height: 0; overflow: hidden\">\n",
       "<defs>\n",
       "<symbol id=\"icon-database\" viewBox=\"0 0 32 32\">\n",
       "<path d=\"M16 0c-8.837 0-16 2.239-16 5v4c0 2.761 7.163 5 16 5s16-2.239 16-5v-4c0-2.761-7.163-5-16-5z\"></path>\n",
       "<path d=\"M16 17c-8.837 0-16-2.239-16-5v6c0 2.761 7.163 5 16 5s16-2.239 16-5v-6c0 2.761-7.163 5-16 5z\"></path>\n",
       "<path d=\"M16 26c-8.837 0-16-2.239-16-5v6c0 2.761 7.163 5 16 5s16-2.239 16-5v-6c0 2.761-7.163 5-16 5z\"></path>\n",
       "</symbol>\n",
       "<symbol id=\"icon-file-text2\" viewBox=\"0 0 32 32\">\n",
       "<path d=\"M28.681 7.159c-0.694-0.947-1.662-2.053-2.724-3.116s-2.169-2.030-3.116-2.724c-1.612-1.182-2.393-1.319-2.841-1.319h-15.5c-1.378 0-2.5 1.121-2.5 2.5v27c0 1.378 1.122 2.5 2.5 2.5h23c1.378 0 2.5-1.122 2.5-2.5v-19.5c0-0.448-0.137-1.23-1.319-2.841zM24.543 5.457c0.959 0.959 1.712 1.825 2.268 2.543h-4.811v-4.811c0.718 0.556 1.584 1.309 2.543 2.268zM28 29.5c0 0.271-0.229 0.5-0.5 0.5h-23c-0.271 0-0.5-0.229-0.5-0.5v-27c0-0.271 0.229-0.5 0.5-0.5 0 0 15.499-0 15.5 0v7c0 0.552 0.448 1 1 1h7v19.5z\"></path>\n",
       "<path d=\"M23 26h-14c-0.552 0-1-0.448-1-1s0.448-1 1-1h14c0.552 0 1 0.448 1 1s-0.448 1-1 1z\"></path>\n",
       "<path d=\"M23 22h-14c-0.552 0-1-0.448-1-1s0.448-1 1-1h14c0.552 0 1 0.448 1 1s-0.448 1-1 1z\"></path>\n",
       "<path d=\"M23 18h-14c-0.552 0-1-0.448-1-1s0.448-1 1-1h14c0.552 0 1 0.448 1 1s-0.448 1-1 1z\"></path>\n",
       "</symbol>\n",
       "</defs>\n",
       "</svg>\n",
       "<style>/* CSS stylesheet for displaying xarray objects in jupyterlab.\n",
       " *\n",
       " */\n",
       "\n",
       ":root {\n",
       "  --xr-font-color0: var(--jp-content-font-color0, rgba(0, 0, 0, 1));\n",
       "  --xr-font-color2: var(--jp-content-font-color2, rgba(0, 0, 0, 0.54));\n",
       "  --xr-font-color3: var(--jp-content-font-color3, rgba(0, 0, 0, 0.38));\n",
       "  --xr-border-color: var(--jp-border-color2, #e0e0e0);\n",
       "  --xr-disabled-color: var(--jp-layout-color3, #bdbdbd);\n",
       "  --xr-background-color: var(--jp-layout-color0, white);\n",
       "  --xr-background-color-row-even: var(--jp-layout-color1, white);\n",
       "  --xr-background-color-row-odd: var(--jp-layout-color2, #eeeeee);\n",
       "}\n",
       "\n",
       "html[theme=dark],\n",
       "body[data-theme=dark],\n",
       "body.vscode-dark {\n",
       "  --xr-font-color0: rgba(255, 255, 255, 1);\n",
       "  --xr-font-color2: rgba(255, 255, 255, 0.54);\n",
       "  --xr-font-color3: rgba(255, 255, 255, 0.38);\n",
       "  --xr-border-color: #1F1F1F;\n",
       "  --xr-disabled-color: #515151;\n",
       "  --xr-background-color: #111111;\n",
       "  --xr-background-color-row-even: #111111;\n",
       "  --xr-background-color-row-odd: #313131;\n",
       "}\n",
       "\n",
       ".xr-wrap {\n",
       "  display: block !important;\n",
       "  min-width: 300px;\n",
       "  max-width: 700px;\n",
       "}\n",
       "\n",
       ".xr-text-repr-fallback {\n",
       "  /* fallback to plain text repr when CSS is not injected (untrusted notebook) */\n",
       "  display: none;\n",
       "}\n",
       "\n",
       ".xr-header {\n",
       "  padding-top: 6px;\n",
       "  padding-bottom: 6px;\n",
       "  margin-bottom: 4px;\n",
       "  border-bottom: solid 1px var(--xr-border-color);\n",
       "}\n",
       "\n",
       ".xr-header > div,\n",
       ".xr-header > ul {\n",
       "  display: inline;\n",
       "  margin-top: 0;\n",
       "  margin-bottom: 0;\n",
       "}\n",
       "\n",
       ".xr-obj-type,\n",
       ".xr-array-name {\n",
       "  margin-left: 2px;\n",
       "  margin-right: 10px;\n",
       "}\n",
       "\n",
       ".xr-obj-type {\n",
       "  color: var(--xr-font-color2);\n",
       "}\n",
       "\n",
       ".xr-sections {\n",
       "  padding-left: 0 !important;\n",
       "  display: grid;\n",
       "  grid-template-columns: 150px auto auto 1fr 20px 20px;\n",
       "}\n",
       "\n",
       ".xr-section-item {\n",
       "  display: contents;\n",
       "}\n",
       "\n",
       ".xr-section-item input {\n",
       "  display: none;\n",
       "}\n",
       "\n",
       ".xr-section-item input + label {\n",
       "  color: var(--xr-disabled-color);\n",
       "}\n",
       "\n",
       ".xr-section-item input:enabled + label {\n",
       "  cursor: pointer;\n",
       "  color: var(--xr-font-color2);\n",
       "}\n",
       "\n",
       ".xr-section-item input:enabled + label:hover {\n",
       "  color: var(--xr-font-color0);\n",
       "}\n",
       "\n",
       ".xr-section-summary {\n",
       "  grid-column: 1;\n",
       "  color: var(--xr-font-color2);\n",
       "  font-weight: 500;\n",
       "}\n",
       "\n",
       ".xr-section-summary > span {\n",
       "  display: inline-block;\n",
       "  padding-left: 0.5em;\n",
       "}\n",
       "\n",
       ".xr-section-summary-in:disabled + label {\n",
       "  color: var(--xr-font-color2);\n",
       "}\n",
       "\n",
       ".xr-section-summary-in + label:before {\n",
       "  display: inline-block;\n",
       "  content: '►';\n",
       "  font-size: 11px;\n",
       "  width: 15px;\n",
       "  text-align: center;\n",
       "}\n",
       "\n",
       ".xr-section-summary-in:disabled + label:before {\n",
       "  color: var(--xr-disabled-color);\n",
       "}\n",
       "\n",
       ".xr-section-summary-in:checked + label:before {\n",
       "  content: '▼';\n",
       "}\n",
       "\n",
       ".xr-section-summary-in:checked + label > span {\n",
       "  display: none;\n",
       "}\n",
       "\n",
       ".xr-section-summary,\n",
       ".xr-section-inline-details {\n",
       "  padding-top: 4px;\n",
       "  padding-bottom: 4px;\n",
       "}\n",
       "\n",
       ".xr-section-inline-details {\n",
       "  grid-column: 2 / -1;\n",
       "}\n",
       "\n",
       ".xr-section-details {\n",
       "  display: none;\n",
       "  grid-column: 1 / -1;\n",
       "  margin-bottom: 5px;\n",
       "}\n",
       "\n",
       ".xr-section-summary-in:checked ~ .xr-section-details {\n",
       "  display: contents;\n",
       "}\n",
       "\n",
       ".xr-array-wrap {\n",
       "  grid-column: 1 / -1;\n",
       "  display: grid;\n",
       "  grid-template-columns: 20px auto;\n",
       "}\n",
       "\n",
       ".xr-array-wrap > label {\n",
       "  grid-column: 1;\n",
       "  vertical-align: top;\n",
       "}\n",
       "\n",
       ".xr-preview {\n",
       "  color: var(--xr-font-color3);\n",
       "}\n",
       "\n",
       ".xr-array-preview,\n",
       ".xr-array-data {\n",
       "  padding: 0 5px !important;\n",
       "  grid-column: 2;\n",
       "}\n",
       "\n",
       ".xr-array-data,\n",
       ".xr-array-in:checked ~ .xr-array-preview {\n",
       "  display: none;\n",
       "}\n",
       "\n",
       ".xr-array-in:checked ~ .xr-array-data,\n",
       ".xr-array-preview {\n",
       "  display: inline-block;\n",
       "}\n",
       "\n",
       ".xr-dim-list {\n",
       "  display: inline-block !important;\n",
       "  list-style: none;\n",
       "  padding: 0 !important;\n",
       "  margin: 0;\n",
       "}\n",
       "\n",
       ".xr-dim-list li {\n",
       "  display: inline-block;\n",
       "  padding: 0;\n",
       "  margin: 0;\n",
       "}\n",
       "\n",
       ".xr-dim-list:before {\n",
       "  content: '(';\n",
       "}\n",
       "\n",
       ".xr-dim-list:after {\n",
       "  content: ')';\n",
       "}\n",
       "\n",
       ".xr-dim-list li:not(:last-child):after {\n",
       "  content: ',';\n",
       "  padding-right: 5px;\n",
       "}\n",
       "\n",
       ".xr-has-index {\n",
       "  font-weight: bold;\n",
       "}\n",
       "\n",
       ".xr-var-list,\n",
       ".xr-var-item {\n",
       "  display: contents;\n",
       "}\n",
       "\n",
       ".xr-var-item > div,\n",
       ".xr-var-item label,\n",
       ".xr-var-item > .xr-var-name span {\n",
       "  background-color: var(--xr-background-color-row-even);\n",
       "  margin-bottom: 0;\n",
       "}\n",
       "\n",
       ".xr-var-item > .xr-var-name:hover span {\n",
       "  padding-right: 5px;\n",
       "}\n",
       "\n",
       ".xr-var-list > li:nth-child(odd) > div,\n",
       ".xr-var-list > li:nth-child(odd) > label,\n",
       ".xr-var-list > li:nth-child(odd) > .xr-var-name span {\n",
       "  background-color: var(--xr-background-color-row-odd);\n",
       "}\n",
       "\n",
       ".xr-var-name {\n",
       "  grid-column: 1;\n",
       "}\n",
       "\n",
       ".xr-var-dims {\n",
       "  grid-column: 2;\n",
       "}\n",
       "\n",
       ".xr-var-dtype {\n",
       "  grid-column: 3;\n",
       "  text-align: right;\n",
       "  color: var(--xr-font-color2);\n",
       "}\n",
       "\n",
       ".xr-var-preview {\n",
       "  grid-column: 4;\n",
       "}\n",
       "\n",
       ".xr-index-preview {\n",
       "  grid-column: 2 / 5;\n",
       "  color: var(--xr-font-color2);\n",
       "}\n",
       "\n",
       ".xr-var-name,\n",
       ".xr-var-dims,\n",
       ".xr-var-dtype,\n",
       ".xr-preview,\n",
       ".xr-attrs dt {\n",
       "  white-space: nowrap;\n",
       "  overflow: hidden;\n",
       "  text-overflow: ellipsis;\n",
       "  padding-right: 10px;\n",
       "}\n",
       "\n",
       ".xr-var-name:hover,\n",
       ".xr-var-dims:hover,\n",
       ".xr-var-dtype:hover,\n",
       ".xr-attrs dt:hover {\n",
       "  overflow: visible;\n",
       "  width: auto;\n",
       "  z-index: 1;\n",
       "}\n",
       "\n",
       ".xr-var-attrs,\n",
       ".xr-var-data,\n",
       ".xr-index-data {\n",
       "  display: none;\n",
       "  background-color: var(--xr-background-color) !important;\n",
       "  padding-bottom: 5px !important;\n",
       "}\n",
       "\n",
       ".xr-var-attrs-in:checked ~ .xr-var-attrs,\n",
       ".xr-var-data-in:checked ~ .xr-var-data,\n",
       ".xr-index-data-in:checked ~ .xr-index-data {\n",
       "  display: block;\n",
       "}\n",
       "\n",
       ".xr-var-data > table {\n",
       "  float: right;\n",
       "}\n",
       "\n",
       ".xr-var-name span,\n",
       ".xr-var-data,\n",
       ".xr-index-name div,\n",
       ".xr-index-data,\n",
       ".xr-attrs {\n",
       "  padding-left: 25px !important;\n",
       "}\n",
       "\n",
       ".xr-attrs,\n",
       ".xr-var-attrs,\n",
       ".xr-var-data,\n",
       ".xr-index-data {\n",
       "  grid-column: 1 / -1;\n",
       "}\n",
       "\n",
       "dl.xr-attrs {\n",
       "  padding: 0;\n",
       "  margin: 0;\n",
       "  display: grid;\n",
       "  grid-template-columns: 125px auto;\n",
       "}\n",
       "\n",
       ".xr-attrs dt,\n",
       ".xr-attrs dd {\n",
       "  padding: 0;\n",
       "  margin: 0;\n",
       "  float: left;\n",
       "  padding-right: 10px;\n",
       "  width: auto;\n",
       "}\n",
       "\n",
       ".xr-attrs dt {\n",
       "  font-weight: normal;\n",
       "  grid-column: 1;\n",
       "}\n",
       "\n",
       ".xr-attrs dt:hover span {\n",
       "  display: inline-block;\n",
       "  background: var(--xr-background-color);\n",
       "  padding-right: 10px;\n",
       "}\n",
       "\n",
       ".xr-attrs dd {\n",
       "  grid-column: 2;\n",
       "  white-space: pre-wrap;\n",
       "  word-break: break-all;\n",
       "}\n",
       "\n",
       ".xr-icon-database,\n",
       ".xr-icon-file-text2,\n",
       ".xr-no-icon {\n",
       "  display: inline-block;\n",
       "  vertical-align: middle;\n",
       "  width: 1em;\n",
       "  height: 1.5em !important;\n",
       "  stroke-width: 0;\n",
       "  stroke: currentColor;\n",
       "  fill: currentColor;\n",
       "}\n",
       "</style><pre class='xr-text-repr-fallback'>&lt;xarray.Dataset&gt;\n",
       "Dimensions:      (lat: 201, lon: 201, time: 365)\n",
       "Coordinates:\n",
       "  * lon          (lon) float64 -65.0 -64.95 -64.9 -64.85 ... -55.1 -55.05 -55.0\n",
       "  * lat          (lat) float64 33.0 33.05 33.1 33.15 ... 42.85 42.9 42.95 43.0\n",
       "  * time         (time) datetime64[ns] 2012-10-01 2012-10-02 ... 2013-09-30\n",
       "Data variables:\n",
       "    mask         (lat, lon) float64 ...\n",
       "    lag          (time, lat, lon) float64 ...\n",
       "    flag         (time, lat, lon) float64 ...\n",
       "    ssh_obs      (time, lat, lon) float64 ...\n",
       "    ssh_mod      (time, lat, lon) float64 ...\n",
       "    anomaly_obs  (time, lat, lon) float64 ...\n",
       "    anomaly_mod  (time, lat, lon) float64 ...</pre><div class='xr-wrap' style='display:none'><div class='xr-header'><div class='xr-obj-type'>xarray.Dataset</div></div><ul class='xr-sections'><li class='xr-section-item'><input id='section-a7c16844-d6d8-405f-a294-72b1fdad00fa' class='xr-section-summary-in' type='checkbox' disabled ><label for='section-a7c16844-d6d8-405f-a294-72b1fdad00fa' class='xr-section-summary'  title='Expand/collapse section'>Dimensions:</label><div class='xr-section-inline-details'><ul class='xr-dim-list'><li><span class='xr-has-index'>lat</span>: 201</li><li><span class='xr-has-index'>lon</span>: 201</li><li><span class='xr-has-index'>time</span>: 365</li></ul></div><div class='xr-section-details'></div></li><li class='xr-section-item'><input id='section-b4226f71-5a0f-4f4a-9d9a-b4d4ce47e57f' class='xr-section-summary-in' type='checkbox'  checked><label for='section-b4226f71-5a0f-4f4a-9d9a-b4d4ce47e57f' class='xr-section-summary' >Coordinates: <span>(3)</span></label><div class='xr-section-inline-details'></div><div class='xr-section-details'><ul class='xr-var-list'><li class='xr-var-item'><div class='xr-var-name'><span class='xr-has-index'>lon</span></div><div class='xr-var-dims'>(lon)</div><div class='xr-var-dtype'>float64</div><div class='xr-var-preview xr-preview'>-65.0 -64.95 -64.9 ... -55.05 -55.0</div><input id='attrs-6fa8f581-f6a9-463c-b699-e755ab0aa32f' class='xr-var-attrs-in' type='checkbox' disabled><label for='attrs-6fa8f581-f6a9-463c-b699-e755ab0aa32f' title='Show/Hide attributes'><svg class='icon xr-icon-file-text2'><use xlink:href='#icon-file-text2'></use></svg></label><input id='data-fbc4d4d2-6201-4cd6-82a3-8ea226c43d79' class='xr-var-data-in' type='checkbox'><label for='data-fbc4d4d2-6201-4cd6-82a3-8ea226c43d79' title='Show/Hide data repr'><svg class='icon xr-icon-database'><use xlink:href='#icon-database'></use></svg></label><div class='xr-var-attrs'><dl class='xr-attrs'></dl></div><div class='xr-var-data'><pre>array([-65.  , -64.95, -64.9 , ..., -55.1 , -55.05, -55.  ])</pre></div></li><li class='xr-var-item'><div class='xr-var-name'><span class='xr-has-index'>lat</span></div><div class='xr-var-dims'>(lat)</div><div class='xr-var-dtype'>float64</div><div class='xr-var-preview xr-preview'>33.0 33.05 33.1 ... 42.9 42.95 43.0</div><input id='attrs-de40c176-a62d-48da-a087-d6b96759b64f' class='xr-var-attrs-in' type='checkbox' disabled><label for='attrs-de40c176-a62d-48da-a087-d6b96759b64f' title='Show/Hide attributes'><svg class='icon xr-icon-file-text2'><use xlink:href='#icon-file-text2'></use></svg></label><input id='data-603620f2-dfdf-4a5e-a9fa-803306304a17' class='xr-var-data-in' type='checkbox'><label for='data-603620f2-dfdf-4a5e-a9fa-803306304a17' title='Show/Hide data repr'><svg class='icon xr-icon-database'><use xlink:href='#icon-database'></use></svg></label><div class='xr-var-attrs'><dl class='xr-attrs'></dl></div><div class='xr-var-data'><pre>array([33.  , 33.05, 33.1 , ..., 42.9 , 42.95, 43.  ])</pre></div></li><li class='xr-var-item'><div class='xr-var-name'><span class='xr-has-index'>time</span></div><div class='xr-var-dims'>(time)</div><div class='xr-var-dtype'>datetime64[ns]</div><div class='xr-var-preview xr-preview'>2012-10-01 ... 2013-09-30</div><input id='attrs-c5b314a5-c3b8-480f-b890-028a0ad589dd' class='xr-var-attrs-in' type='checkbox' disabled><label for='attrs-c5b314a5-c3b8-480f-b890-028a0ad589dd' title='Show/Hide attributes'><svg class='icon xr-icon-file-text2'><use xlink:href='#icon-file-text2'></use></svg></label><input id='data-b927c15d-5476-40c9-88a5-a683f3124ff0' class='xr-var-data-in' type='checkbox'><label for='data-b927c15d-5476-40c9-88a5-a683f3124ff0' title='Show/Hide data repr'><svg class='icon xr-icon-database'><use xlink:href='#icon-database'></use></svg></label><div class='xr-var-attrs'><dl class='xr-attrs'></dl></div><div class='xr-var-data'><pre>array([&#x27;2012-10-01T00:00:00.000000000&#x27;, &#x27;2012-10-02T00:00:00.000000000&#x27;,\n",
       "       &#x27;2012-10-03T00:00:00.000000000&#x27;, ..., &#x27;2013-09-28T00:00:00.000000000&#x27;,\n",
       "       &#x27;2013-09-29T00:00:00.000000000&#x27;, &#x27;2013-09-30T00:00:00.000000000&#x27;],\n",
       "      dtype=&#x27;datetime64[ns]&#x27;)</pre></div></li></ul></div></li><li class='xr-section-item'><input id='section-9757c382-7c89-424c-89cc-24de21a067d1' class='xr-section-summary-in' type='checkbox'  checked><label for='section-9757c382-7c89-424c-89cc-24de21a067d1' class='xr-section-summary' >Data variables: <span>(7)</span></label><div class='xr-section-inline-details'></div><div class='xr-section-details'><ul class='xr-var-list'><li class='xr-var-item'><div class='xr-var-name'><span>mask</span></div><div class='xr-var-dims'>(lat, lon)</div><div class='xr-var-dtype'>float64</div><div class='xr-var-preview xr-preview'>...</div><input id='attrs-620dd14a-5d40-4491-856a-bf29a9e1cc2c' class='xr-var-attrs-in' type='checkbox' disabled><label for='attrs-620dd14a-5d40-4491-856a-bf29a9e1cc2c' title='Show/Hide attributes'><svg class='icon xr-icon-file-text2'><use xlink:href='#icon-file-text2'></use></svg></label><input id='data-6272312a-a6ff-4469-a3bf-0da808eb0529' class='xr-var-data-in' type='checkbox'><label for='data-6272312a-a6ff-4469-a3bf-0da808eb0529' title='Show/Hide data repr'><svg class='icon xr-icon-database'><use xlink:href='#icon-database'></use></svg></label><div class='xr-var-attrs'><dl class='xr-attrs'></dl></div><div class='xr-var-data'><pre>[40401 values with dtype=float64]</pre></div></li><li class='xr-var-item'><div class='xr-var-name'><span>lag</span></div><div class='xr-var-dims'>(time, lat, lon)</div><div class='xr-var-dtype'>float64</div><div class='xr-var-preview xr-preview'>...</div><input id='attrs-df7b6091-2ceb-4fdf-a4ca-22031d8678e9' class='xr-var-attrs-in' type='checkbox' disabled><label for='attrs-df7b6091-2ceb-4fdf-a4ca-22031d8678e9' title='Show/Hide attributes'><svg class='icon xr-icon-file-text2'><use xlink:href='#icon-file-text2'></use></svg></label><input id='data-f17210b2-4fb5-415a-8bb1-73160b929fa0' class='xr-var-data-in' type='checkbox'><label for='data-f17210b2-4fb5-415a-8bb1-73160b929fa0' title='Show/Hide data repr'><svg class='icon xr-icon-database'><use xlink:href='#icon-database'></use></svg></label><div class='xr-var-attrs'><dl class='xr-attrs'></dl></div><div class='xr-var-data'><pre>[14746365 values with dtype=float64]</pre></div></li><li class='xr-var-item'><div class='xr-var-name'><span>flag</span></div><div class='xr-var-dims'>(time, lat, lon)</div><div class='xr-var-dtype'>float64</div><div class='xr-var-preview xr-preview'>...</div><input id='attrs-05a32a19-a68b-4d40-a46f-42030bacdb53' class='xr-var-attrs-in' type='checkbox' disabled><label for='attrs-05a32a19-a68b-4d40-a46f-42030bacdb53' title='Show/Hide attributes'><svg class='icon xr-icon-file-text2'><use xlink:href='#icon-file-text2'></use></svg></label><input id='data-ac486658-d211-4cb0-a6ec-fdccc3ff78a3' class='xr-var-data-in' type='checkbox'><label for='data-ac486658-d211-4cb0-a6ec-fdccc3ff78a3' title='Show/Hide data repr'><svg class='icon xr-icon-database'><use xlink:href='#icon-database'></use></svg></label><div class='xr-var-attrs'><dl class='xr-attrs'></dl></div><div class='xr-var-data'><pre>[14746365 values with dtype=float64]</pre></div></li><li class='xr-var-item'><div class='xr-var-name'><span>ssh_obs</span></div><div class='xr-var-dims'>(time, lat, lon)</div><div class='xr-var-dtype'>float64</div><div class='xr-var-preview xr-preview'>...</div><input id='attrs-9c6ff3f4-bb56-4d0b-ad0a-a2116a0d835f' class='xr-var-attrs-in' type='checkbox' disabled><label for='attrs-9c6ff3f4-bb56-4d0b-ad0a-a2116a0d835f' title='Show/Hide attributes'><svg class='icon xr-icon-file-text2'><use xlink:href='#icon-file-text2'></use></svg></label><input id='data-54e7f97a-6444-4c2c-90b6-0781c92469ee' class='xr-var-data-in' type='checkbox'><label for='data-54e7f97a-6444-4c2c-90b6-0781c92469ee' title='Show/Hide data repr'><svg class='icon xr-icon-database'><use xlink:href='#icon-database'></use></svg></label><div class='xr-var-attrs'><dl class='xr-attrs'></dl></div><div class='xr-var-data'><pre>[14746365 values with dtype=float64]</pre></div></li><li class='xr-var-item'><div class='xr-var-name'><span>ssh_mod</span></div><div class='xr-var-dims'>(time, lat, lon)</div><div class='xr-var-dtype'>float64</div><div class='xr-var-preview xr-preview'>...</div><input id='attrs-7b5bad88-eb7c-4ec8-9b88-576152bfd4fc' class='xr-var-attrs-in' type='checkbox' disabled><label for='attrs-7b5bad88-eb7c-4ec8-9b88-576152bfd4fc' title='Show/Hide attributes'><svg class='icon xr-icon-file-text2'><use xlink:href='#icon-file-text2'></use></svg></label><input id='data-7fd53535-6670-476c-966c-ae81db6631cf' class='xr-var-data-in' type='checkbox'><label for='data-7fd53535-6670-476c-966c-ae81db6631cf' title='Show/Hide data repr'><svg class='icon xr-icon-database'><use xlink:href='#icon-database'></use></svg></label><div class='xr-var-attrs'><dl class='xr-attrs'></dl></div><div class='xr-var-data'><pre>[14746365 values with dtype=float64]</pre></div></li><li class='xr-var-item'><div class='xr-var-name'><span>anomaly_obs</span></div><div class='xr-var-dims'>(time, lat, lon)</div><div class='xr-var-dtype'>float64</div><div class='xr-var-preview xr-preview'>...</div><input id='attrs-6504608d-b7ad-49e6-8007-66dfc6ea04cf' class='xr-var-attrs-in' type='checkbox' disabled><label for='attrs-6504608d-b7ad-49e6-8007-66dfc6ea04cf' title='Show/Hide attributes'><svg class='icon xr-icon-file-text2'><use xlink:href='#icon-file-text2'></use></svg></label><input id='data-c603c7e9-1aa9-45d3-ae09-e6c5e9356386' class='xr-var-data-in' type='checkbox'><label for='data-c603c7e9-1aa9-45d3-ae09-e6c5e9356386' title='Show/Hide data repr'><svg class='icon xr-icon-database'><use xlink:href='#icon-database'></use></svg></label><div class='xr-var-attrs'><dl class='xr-attrs'></dl></div><div class='xr-var-data'><pre>[14746365 values with dtype=float64]</pre></div></li><li class='xr-var-item'><div class='xr-var-name'><span>anomaly_mod</span></div><div class='xr-var-dims'>(time, lat, lon)</div><div class='xr-var-dtype'>float64</div><div class='xr-var-preview xr-preview'>...</div><input id='attrs-445d9cbe-1a50-45a3-978b-4f4efd16c175' class='xr-var-attrs-in' type='checkbox' disabled><label for='attrs-445d9cbe-1a50-45a3-978b-4f4efd16c175' title='Show/Hide attributes'><svg class='icon xr-icon-file-text2'><use xlink:href='#icon-file-text2'></use></svg></label><input id='data-c1515ac2-277d-4090-ba3e-3bd5e8fe9d23' class='xr-var-data-in' type='checkbox'><label for='data-c1515ac2-277d-4090-ba3e-3bd5e8fe9d23' title='Show/Hide data repr'><svg class='icon xr-icon-database'><use xlink:href='#icon-database'></use></svg></label><div class='xr-var-attrs'><dl class='xr-attrs'></dl></div><div class='xr-var-data'><pre>[14746365 values with dtype=float64]</pre></div></li></ul></div></li><li class='xr-section-item'><input id='section-711a205c-fc63-4578-a384-74fa5db24f6e' class='xr-section-summary-in' type='checkbox'  ><label for='section-711a205c-fc63-4578-a384-74fa5db24f6e' class='xr-section-summary' >Indexes: <span>(3)</span></label><div class='xr-section-inline-details'></div><div class='xr-section-details'><ul class='xr-var-list'><li class='xr-var-item'><div class='xr-index-name'><div>lon</div></div><div class='xr-index-preview'>PandasIndex</div><div></div><input id='index-ef4c1990-104d-4c2d-bd6a-23fdd4d60a32' class='xr-index-data-in' type='checkbox'/><label for='index-ef4c1990-104d-4c2d-bd6a-23fdd4d60a32' title='Show/Hide index repr'><svg class='icon xr-icon-database'><use xlink:href='#icon-database'></use></svg></label><div class='xr-index-data'><pre>PandasIndex(Index([              -65.0,              -64.95,               -64.9,\n",
       "        -64.85000000000001,  -64.80000000000001,  -64.75000000000001,\n",
       "        -64.70000000000002,  -64.65000000000002,  -64.60000000000002,\n",
       "        -64.55000000000003,\n",
       "       ...\n",
       "        -55.45000000000054, -55.400000000000546,  -55.35000000000055,\n",
       "        -55.30000000000055, -55.250000000000554,  -55.20000000000056,\n",
       "        -55.15000000000056,  -55.10000000000056, -55.050000000000566,\n",
       "        -55.00000000000057],\n",
       "      dtype=&#x27;float64&#x27;, name=&#x27;lon&#x27;, length=201))</pre></div></li><li class='xr-var-item'><div class='xr-index-name'><div>lat</div></div><div class='xr-index-preview'>PandasIndex</div><div></div><input id='index-74f7d856-6d19-4f6d-8332-73e3687a307e' class='xr-index-data-in' type='checkbox'/><label for='index-74f7d856-6d19-4f6d-8332-73e3687a307e' title='Show/Hide index repr'><svg class='icon xr-icon-database'><use xlink:href='#icon-database'></use></svg></label><div class='xr-index-data'><pre>PandasIndex(Index([              33.0,              33.05, 33.099999999999994,\n",
       "        33.14999999999999,  33.19999999999999, 33.249999999999986,\n",
       "        33.29999999999998,  33.34999999999998,  33.39999999999998,\n",
       "       33.449999999999974,\n",
       "       ...\n",
       "        42.54999999999946, 42.599999999999454,  42.64999999999945,\n",
       "        42.69999999999945, 42.749999999999446,  42.79999999999944,\n",
       "        42.84999999999944,  42.89999999999944, 42.949999999999434,\n",
       "        42.99999999999943],\n",
       "      dtype=&#x27;float64&#x27;, name=&#x27;lat&#x27;, length=201))</pre></div></li><li class='xr-var-item'><div class='xr-index-name'><div>time</div></div><div class='xr-index-preview'>PandasIndex</div><div></div><input id='index-3646043f-077f-4179-845f-19867aec7e34' class='xr-index-data-in' type='checkbox'/><label for='index-3646043f-077f-4179-845f-19867aec7e34' title='Show/Hide index repr'><svg class='icon xr-icon-database'><use xlink:href='#icon-database'></use></svg></label><div class='xr-index-data'><pre>PandasIndex(DatetimeIndex([&#x27;2012-10-01&#x27;, &#x27;2012-10-02&#x27;, &#x27;2012-10-03&#x27;, &#x27;2012-10-04&#x27;,\n",
       "               &#x27;2012-10-05&#x27;, &#x27;2012-10-06&#x27;, &#x27;2012-10-07&#x27;, &#x27;2012-10-08&#x27;,\n",
       "               &#x27;2012-10-09&#x27;, &#x27;2012-10-10&#x27;,\n",
       "               ...\n",
       "               &#x27;2013-09-21&#x27;, &#x27;2013-09-22&#x27;, &#x27;2013-09-23&#x27;, &#x27;2013-09-24&#x27;,\n",
       "               &#x27;2013-09-25&#x27;, &#x27;2013-09-26&#x27;, &#x27;2013-09-27&#x27;, &#x27;2013-09-28&#x27;,\n",
       "               &#x27;2013-09-29&#x27;, &#x27;2013-09-30&#x27;],\n",
       "              dtype=&#x27;datetime64[ns]&#x27;, name=&#x27;time&#x27;, length=365, freq=None))</pre></div></li></ul></div></li><li class='xr-section-item'><input id='section-b86d7004-b96b-4ffd-a15a-664af17322c4' class='xr-section-summary-in' type='checkbox' disabled ><label for='section-b86d7004-b96b-4ffd-a15a-664af17322c4' class='xr-section-summary'  title='Expand/collapse section'>Attributes: <span>(0)</span></label><div class='xr-section-inline-details'></div><div class='xr-section-details'><dl class='xr-attrs'></dl></div></li></ul></div></div>"
      ],
      "text/plain": [
       "<xarray.Dataset>\n",
       "Dimensions:      (lat: 201, lon: 201, time: 365)\n",
       "Coordinates:\n",
       "  * lon          (lon) float64 -65.0 -64.95 -64.9 -64.85 ... -55.1 -55.05 -55.0\n",
       "  * lat          (lat) float64 33.0 33.05 33.1 33.15 ... 42.85 42.9 42.95 43.0\n",
       "  * time         (time) datetime64[ns] 2012-10-01 2012-10-02 ... 2013-09-30\n",
       "Data variables:\n",
       "    mask         (lat, lon) float64 ...\n",
       "    lag          (time, lat, lon) float64 ...\n",
       "    flag         (time, lat, lon) float64 ...\n",
       "    ssh_obs      (time, lat, lon) float64 ...\n",
       "    ssh_mod      (time, lat, lon) float64 ...\n",
       "    anomaly_obs  (time, lat, lon) float64 ...\n",
       "    anomaly_mod  (time, lat, lon) float64 ..."
      ]
     },
     "execution_count": 2,
     "metadata": {},
     "output_type": "execute_result"
    }
   ],
   "source": [
    "import xarray as xr\n",
    "\n",
    "xrds = xr.open_dataset(\"/Volumes/EMANS_HDD/data/oceanbench-data-registry/osse_natl60/grid/gf_obs_nadir.nc\")\n",
    "xrds"
   ]
  },
  {
   "cell_type": "code",
   "execution_count": null,
   "id": "6028f5f4-c74e-42aa-a147-be448542e2de",
   "metadata": {
    "tags": []
   },
   "outputs": [],
   "source": [
    "import autoroot\n",
    "import typing as tp\n",
    "import jax\n",
    "import jax.numpy as jnp\n",
    "import jax.scipy as jsp\n",
    "import jax.random as jrandom\n",
    "import numpy as np\n",
    "import numba as nb\n",
    "import pandas as pd\n",
    "import equinox as eqx\n",
    "import kernex as kex\n",
    "import finitediffx as fdx\n",
    "import diffrax as dfx\n",
    "import xarray as xr\n",
    "import matplotlib.pyplot as plt\n",
    "import seaborn as sns\n",
    "from tqdm.notebook import tqdm, trange\n",
    "from jaxtyping import Float, Array, PyTree, ArrayLike\n",
    "import wandb\n",
    "from omegaconf import OmegaConf\n",
    "import hydra\n",
    "import metpy\n",
    "from sklearn.pipeline import Pipeline\n",
    "from jejeqx._src.transforms.dataframe.spatial import Spherical2Cartesian\n",
    "from jejeqx._src.transforms.dataframe.temporal import TimeDelta\n",
    "from jejeqx._src.transforms.dataframe.scaling import MinMaxDF\n",
    "\n",
    "\n",
    "sns.reset_defaults()\n",
    "sns.set_context(context=\"talk\", font_scale=0.7)\n",
    "jax.config.update(\"jax_enable_x64\", False)\n",
    "\n",
    "%matplotlib inline\n",
    "%load_ext autoreload\n",
    "%autoreload 2"
   ]
  },
  {
   "attachments": {},
   "cell_type": "markdown",
   "id": "c71086b9-24cb-4b1d-9eab-93ce21ac8d12",
   "metadata": {
    "user_expressions": []
   },
   "source": [
    "## Recap Formulation\n",
    "\n",
    "We are interested in learning non-linear functions $\\boldsymbol{f}$.\n",
    "\n",
    "$$\n",
    "\\begin{aligned}\n",
    "\\boldsymbol{f}(\\mathbf{x}) &=\n",
    "\\mathbf{w}^\\top\\boldsymbol{\\phi}(\\mathbf{x})+\\mathbf{b}\n",
    "\\end{aligned}\n",
    "$$\n",
    "\n",
    "where the $\\boldsymbol{\\phi}(\\cdot)$ is a basis function. Neural Fields typically try to learn this basis funciton via a series of composite functions of the form\n",
    "\n",
    "$$\n",
    "\\boldsymbol{\\phi}(\\mathbf{x}) =\n",
    "\\boldsymbol{\\phi}_L\\circ\\boldsymbol{\\phi}_{L-1}\n",
    "\\circ\\cdots\\circ\n",
    "\\boldsymbol{\\phi}_2\\circ\\boldsymbol{\\phi}_{1}(\\mathbf{x})\n",
    "$$"
   ]
  },
  {
   "attachments": {},
   "cell_type": "markdown",
   "id": "c9495206-f1e1-42d6-beba-13fe42d9253f",
   "metadata": {
    "user_expressions": []
   },
   "source": [
    "## Problems\n",
    "\n",
    "Here, we will demonstrate a very simple spatial interpolation problem for sea surface height."
   ]
  },
  {
   "attachments": {},
   "cell_type": "markdown",
   "id": "5ac67435-b31d-4788-b79d-3d2e3b5ac1df",
   "metadata": {
    "user_expressions": []
   },
   "source": [
    "## Data"
   ]
  },
  {
   "cell_type": "code",
   "execution_count": null,
   "id": "aefda25b-01ae-4654-b4ce-03c17732a4a6",
   "metadata": {},
   "outputs": [],
   "source": [
    "# !wget wget -nc https://s3.us-east-1.wasabisys.com/melody/osse_data/ref/NATL60-CJM165_GULFSTREAM_ssh_y2013.1y.nc"
   ]
  },
  {
   "cell_type": "code",
   "execution_count": null,
   "id": "80de7073-939d-4ab9-a419-d5564a660681",
   "metadata": {},
   "outputs": [],
   "source": [
    "from pathlib import Path"
   ]
  },
  {
   "cell_type": "code",
   "execution_count": null,
   "id": "dde389d0-00ed-4b52-b577-f97c1231a66e",
   "metadata": {},
   "outputs": [],
   "source": [
    "Path(\n",
    "    \"/gpfswork/rech/cli/uvo53rl/projects/jejeqx/data/natl60/NATL60-CJM165_GULFSTREAM_ssh_y2013.1y.nc\"\n",
    ").is_file()"
   ]
  },
  {
   "cell_type": "code",
   "execution_count": 5,
   "id": "0f942909-50c6-426a-bb39-162c556ac1a3",
   "metadata": {},
   "outputs": [
    {
     "name": "stdout",
     "output_type": "stream",
     "text": [
      "eval_natl60_dc20a.yaml\tnatl60_obs.yaml   results_dc20a_nadir.yaml\n",
      "lr_scheduler.yaml\tnatl60.yaml\t  results_dc20a_swot.yaml\n",
      "metrics.yaml\t\toptimizer.yaml\n",
      "model.yaml\t\tpostprocess.yaml\n",
      "/gpfsdswork/projects/rech/cli/uvo53rl/projects/jejeqx/notebooks/dev/nerfs\n"
     ]
    }
   ],
   "source": [
    "!ls configs\n",
    "!pwd"
   ]
  },
  {
   "cell_type": "code",
   "execution_count": 6,
   "id": "a8c3cd4a-779f-407c-81e4-03fc488d7066",
   "metadata": {},
   "outputs": [
    {
     "name": "stdout",
     "output_type": "stream",
     "text": [
      "natl60_dc20a:\n",
      "    _target_: jejeqx._src.datamodules.coords_v2.AlongTrackDM\n",
      "    paths: \"/gpfswork/rech/cli/uvo53rl/projects/jejeqx/data/natl60/NATL60-CJM165_GULFSTREAM_ssh_y2013.1y.nc\"\n",
      "    batch_size: 10_000\n",
      "    shuffle: True\n",
      "    train_size: 0.80\n",
      "    subset_size: 0.40\n",
      "    spatial_coords: [\"lat\", \"lon\"]\n",
      "    temporal_coords: [\"time\"]\n",
      "    variables: [\"ssh\"]\n",
      "    evaluation: False\n",
      "    resample: \"1D\"\n",
      "    decode_times: False\n",
      "    spatial_units: \"meters\"\n",
      "    time_unit: \"seconds\"\n",
      "    time_freq: 1\n",
      "    t0: \"2013-01-01\"\n",
      "    select: \n",
      "        time: {_target_: builtins.slice, _args_: [\"2013-01-01\", \"2013-01-01\"]}\n",
      "        \n",
      "        \n",
      "natl60_dc20a_scaled:\n",
      "    _target_: jejeqx._src.datamodules.coords_v2.AlongTrackDM\n",
      "    paths: \"/gpfswork/rech/cli/uvo53rl/projects/jejeqx/data/natl60/NATL60-CJM165_GULFSTREAM_ssh_y2013.1y.nc\"\n",
      "    batch_size: 10_000\n",
      "    shuffle: True\n",
      "    train_size: 0.80\n",
      "    subset_size: 0.40\n",
      "    spatial_coords: [\"lat\", \"lon\"]\n",
      "    temporal_coords: [\"time\"]\n",
      "    variables: [\"ssh\"]\n",
      "    evaluation: False\n",
      "    resample: \"1D\"\n",
      "    decode_times: False\n",
      "    spatial_units: \"meters\"\n",
      "    time_unit: \"seconds\"\n",
      "    time_freq: 1\n",
      "    t0: \"2013-01-01\"\n",
      "    select: \n",
      "        time: {_target_: builtins.slice, _args_: [\"2013-01-01\", \"2013-01-01\"]}\n",
      "        \n",
      "    temporal_transform: ${temporal_transforms}\n",
      "    spatial_transform: ${spatial_transforms}\n",
      "\n",
      "spatial_transforms: \n",
      "    _target_: jejeqx._src.transforms.pipelines.make_pipeline\n",
      "    _recursive_: False\n",
      "    steps_config:\n",
      "        - spatialminmax:\n",
      "            _target_: jejeqx._src.transforms.dataframe.scaling.MinMaxDF\n",
      "            columns: [\"lat\", \"lon\"]\n",
      "            min_val: -1\n",
      "            max_val: 1\n",
      "                 \n",
      "temporal_transforms: \n",
      "    _target_: jejeqx._src.transforms.pipelines.make_pipeline\n",
      "    _recursive_: False\n",
      "    steps_config:\n",
      "        - timeminmax:\n",
      "            _target_: jejeqx._src.transforms.dataframe.scaling.MinMaxDF\n",
      "            columns: [\"time\"]\n",
      "            min_val: -1\n",
      "            max_val: 1\n",
      "            \n",
      "            \n",
      "natl60_dc20a_eval:\n",
      "    _target_: \"jejeqx._src.datamodules.coords.EvalCoordDM\"\n",
      "    paths: \"/gpfswork/rech/yrf/commun/data_challenges/dc20a_osse/test/dc_ref/NATL60-CJM165_GULFSTREAM*\"\n",
      "    batch_size: 10_000\n",
      "    shuffle: False\n",
      "    train_size: 0.80\n",
      "    decode_times: True\n",
      "    evaluation: True\n",
      "    spatial_coords: [\"lat\", \"lon\"]\n",
      "    temporal_coords: [\"time\"]\n",
      "    variables: [\"sossheig\"]\n",
      "    coarsen:\n",
      "        lon: 2\n",
      "        lat: 2\n",
      "    resample: \"1D\"\n",
      "    select: \n",
      "        time: {_target_: builtins.slice, _args_: [\"2012-10-01\", \"2012-12-02\"]}"
     ]
    }
   ],
   "source": [
    "!cat configs/natl60.yaml"
   ]
  },
  {
   "cell_type": "code",
   "execution_count": 7,
   "id": "6236af59-6141-4771-bea3-587e76d8840e",
   "metadata": {},
   "outputs": [],
   "source": [
    "# !cat configs/natl60.yaml"
   ]
  },
  {
   "cell_type": "code",
   "execution_count": 8,
   "id": "d9fbb535-4f7c-4872-86dd-a66128adc519",
   "metadata": {},
   "outputs": [
    {
     "data": {
      "text/plain": [
       "(0.0, 1111948.7428468189, 0.0, 0.0, -0.46802905337971806, 1.0029388256616805)"
      ]
     },
     "execution_count": 8,
     "metadata": {},
     "output_type": "execute_result"
    }
   ],
   "source": [
    "# load config\n",
    "config_dm = OmegaConf.load('/gpfsdswork/projects/rech/cli/uvo53rl/projects/jejeqx/notebooks/dev/nerfs/configs/natl60.yaml')\n",
    "\n",
    "# instantiate\n",
    "dm = hydra.utils.instantiate(config_dm.natl60_dc20a)\n",
    "\n",
    "# run setup\n",
    "dm.setup()\n",
    "\n",
    "# check cunits\n",
    "(\n",
    "    dm.ds_test[:][\"spatial\"].min(),\n",
    "    dm.ds_test[:][\"spatial\"].max(),\n",
    "    dm.ds_test[:][\"temporal\"].min(),\n",
    "    dm.ds_test[:][\"temporal\"].max(),\n",
    "    dm.ds_test[:][\"data\"].min(),\n",
    "    dm.ds_test[:][\"data\"].max(),\n",
    ")"
   ]
  },
  {
   "cell_type": "code",
   "execution_count": 9,
   "id": "2201531f-6950-46c5-82a3-972e2f8fbf76",
   "metadata": {},
   "outputs": [
    {
     "data": {
      "text/html": [
       "<style>#sk-container-id-1 {color: black;background-color: white;}#sk-container-id-1 pre{padding: 0;}#sk-container-id-1 div.sk-toggleable {background-color: white;}#sk-container-id-1 label.sk-toggleable__label {cursor: pointer;display: block;width: 100%;margin-bottom: 0;padding: 0.3em;box-sizing: border-box;text-align: center;}#sk-container-id-1 label.sk-toggleable__label-arrow:before {content: \"▸\";float: left;margin-right: 0.25em;color: #696969;}#sk-container-id-1 label.sk-toggleable__label-arrow:hover:before {color: black;}#sk-container-id-1 div.sk-estimator:hover label.sk-toggleable__label-arrow:before {color: black;}#sk-container-id-1 div.sk-toggleable__content {max-height: 0;max-width: 0;overflow: hidden;text-align: left;background-color: #f0f8ff;}#sk-container-id-1 div.sk-toggleable__content pre {margin: 0.2em;color: black;border-radius: 0.25em;background-color: #f0f8ff;}#sk-container-id-1 input.sk-toggleable__control:checked~div.sk-toggleable__content {max-height: 200px;max-width: 100%;overflow: auto;}#sk-container-id-1 input.sk-toggleable__control:checked~label.sk-toggleable__label-arrow:before {content: \"▾\";}#sk-container-id-1 div.sk-estimator input.sk-toggleable__control:checked~label.sk-toggleable__label {background-color: #d4ebff;}#sk-container-id-1 div.sk-label input.sk-toggleable__control:checked~label.sk-toggleable__label {background-color: #d4ebff;}#sk-container-id-1 input.sk-hidden--visually {border: 0;clip: rect(1px 1px 1px 1px);clip: rect(1px, 1px, 1px, 1px);height: 1px;margin: -1px;overflow: hidden;padding: 0;position: absolute;width: 1px;}#sk-container-id-1 div.sk-estimator {font-family: monospace;background-color: #f0f8ff;border: 1px dotted black;border-radius: 0.25em;box-sizing: border-box;margin-bottom: 0.5em;}#sk-container-id-1 div.sk-estimator:hover {background-color: #d4ebff;}#sk-container-id-1 div.sk-parallel-item::after {content: \"\";width: 100%;border-bottom: 1px solid gray;flex-grow: 1;}#sk-container-id-1 div.sk-label:hover label.sk-toggleable__label {background-color: #d4ebff;}#sk-container-id-1 div.sk-serial::before {content: \"\";position: absolute;border-left: 1px solid gray;box-sizing: border-box;top: 0;bottom: 0;left: 50%;z-index: 0;}#sk-container-id-1 div.sk-serial {display: flex;flex-direction: column;align-items: center;background-color: white;padding-right: 0.2em;padding-left: 0.2em;position: relative;}#sk-container-id-1 div.sk-item {position: relative;z-index: 1;}#sk-container-id-1 div.sk-parallel {display: flex;align-items: stretch;justify-content: center;background-color: white;position: relative;}#sk-container-id-1 div.sk-item::before, #sk-container-id-1 div.sk-parallel-item::before {content: \"\";position: absolute;border-left: 1px solid gray;box-sizing: border-box;top: 0;bottom: 0;left: 50%;z-index: -1;}#sk-container-id-1 div.sk-parallel-item {display: flex;flex-direction: column;z-index: 1;position: relative;background-color: white;}#sk-container-id-1 div.sk-parallel-item:first-child::after {align-self: flex-end;width: 50%;}#sk-container-id-1 div.sk-parallel-item:last-child::after {align-self: flex-start;width: 50%;}#sk-container-id-1 div.sk-parallel-item:only-child::after {width: 0;}#sk-container-id-1 div.sk-dashed-wrapped {border: 1px dashed gray;margin: 0 0.4em 0.5em 0.4em;box-sizing: border-box;padding-bottom: 0.4em;background-color: white;}#sk-container-id-1 div.sk-label label {font-family: monospace;font-weight: bold;display: inline-block;line-height: 1.2em;}#sk-container-id-1 div.sk-label-container {text-align: center;}#sk-container-id-1 div.sk-container {/* jupyter's `normalize.less` sets `[hidden] { display: none; }` but bootstrap.min.css set `[hidden] { display: none !important; }` so we also need the `!important` here to be able to override the default hidden behavior on the sphinx rendered scikit-learn.org. See: https://github.com/scikit-learn/scikit-learn/issues/21755 */display: inline-block !important;position: relative;}#sk-container-id-1 div.sk-text-repr-fallback {display: none;}</style><div id=\"sk-container-id-1\" class=\"sk-top-container\"><div class=\"sk-text-repr-fallback\"><pre>Pipeline(steps=[(&#x27;timeminmax&#x27;, MinMaxDF(columns=[&#x27;time&#x27;]))])</pre><b>In a Jupyter environment, please rerun this cell to show the HTML representation or trust the notebook. <br />On GitHub, the HTML representation is unable to render, please try loading this page with nbviewer.org.</b></div><div class=\"sk-container\" hidden><div class=\"sk-item sk-dashed-wrapped\"><div class=\"sk-label-container\"><div class=\"sk-label sk-toggleable\"><input class=\"sk-toggleable__control sk-hidden--visually\" id=\"sk-estimator-id-1\" type=\"checkbox\" ><label for=\"sk-estimator-id-1\" class=\"sk-toggleable__label sk-toggleable__label-arrow\">Pipeline</label><div class=\"sk-toggleable__content\"><pre>Pipeline(steps=[(&#x27;timeminmax&#x27;, MinMaxDF(columns=[&#x27;time&#x27;]))])</pre></div></div></div><div class=\"sk-serial\"><div class=\"sk-item\"><div class=\"sk-estimator sk-toggleable\"><input class=\"sk-toggleable__control sk-hidden--visually\" id=\"sk-estimator-id-2\" type=\"checkbox\" ><label for=\"sk-estimator-id-2\" class=\"sk-toggleable__label sk-toggleable__label-arrow\">MinMaxDF</label><div class=\"sk-toggleable__content\"><pre>MinMaxDF(columns=[&#x27;time&#x27;])</pre></div></div></div></div></div></div></div>"
      ],
      "text/plain": [
       "Pipeline(steps=[('timeminmax', MinMaxDF(columns=['time']))])"
      ]
     },
     "execution_count": 9,
     "metadata": {},
     "output_type": "execute_result"
    }
   ],
   "source": [
    "# spatial transform\n",
    "spatial_transforms = hydra.utils.instantiate(config_dm.spatial_transforms)\n",
    "spatial_transforms\n",
    "\n",
    "temporal_transforms = hydra.utils.instantiate(config_dm.temporal_transforms)\n",
    "temporal_transforms"
   ]
  },
  {
   "cell_type": "code",
   "execution_count": 10,
   "id": "83954ad9-3ece-4522-807a-64e82d2b6ff7",
   "metadata": {},
   "outputs": [
    {
     "data": {
      "text/plain": [
       "(-1.0, 1.0, -1.0, -1.0, -0.46802905337971806, 1.0029388256616805)"
      ]
     },
     "execution_count": 10,
     "metadata": {},
     "output_type": "execute_result"
    }
   ],
   "source": [
    "\n",
    "\n",
    "# instantiate\n",
    "dm = hydra.utils.instantiate(\n",
    "    config_dm.natl60_dc20a_scaled,\n",
    ")\n",
    "\n",
    "# run setup\n",
    "dm.setup()\n",
    "\n",
    "# check units\n",
    "(\n",
    "    dm.ds_test[:][\"spatial\"].min(),\n",
    "    dm.ds_test[:][\"spatial\"].max(),\n",
    "    dm.ds_test[:][\"temporal\"].min(),\n",
    "    dm.ds_test[:][\"temporal\"].max(),\n",
    "    dm.ds_test[:][\"data\"].min(),\n",
    "    dm.ds_test[:][\"data\"].max(),\n",
    ")"
   ]
  },
  {
   "cell_type": "code",
   "execution_count": 11,
   "id": "babc5bc1-1eaa-4f67-bc5b-e82807901b0a",
   "metadata": {},
   "outputs": [
    {
     "data": {
      "text/plain": [
       "12928"
      ]
     },
     "execution_count": 11,
     "metadata": {},
     "output_type": "execute_result"
    }
   ],
   "source": [
    "len(dm.ds_train)"
   ]
  },
  {
   "cell_type": "code",
   "execution_count": 12,
   "id": "9e367177-80a4-4490-acdc-02d6a2932f73",
   "metadata": {},
   "outputs": [],
   "source": [
    "xrda = dm.load_xrds()"
   ]
  },
  {
   "cell_type": "code",
   "execution_count": 13,
   "id": "9876b0bc-10b3-417a-9ec5-8dc5002065c9",
   "metadata": {},
   "outputs": [],
   "source": [
    "print(f\"Field Shape: {xrda.ssh.shape}\")\n",
    "print(f\"Number of Coords: {len(dm.ds_train):,}\")"
   ]
  },
  {
   "cell_type": "code",
   "execution_count": 14,
   "id": "2d5da277-9e83-4475-863c-d853d64710ae",
   "metadata": {},
   "outputs": [
    {
     "data": {
      "image/png": "[encoded data removed]",
      "text/plain": [
       "<Figure size 500x400 with 2 Axes>"
      ]
     },
     "metadata": {},
     "output_type": "display_data"
    }
   ],
   "source": [
    "from matplotlib import ticker\n",
    "\n",
    "fig, ax = plt.subplots(ncols=1, figsize=(5,4))\n",
    "\n",
    "subset_ds = xrda.ssh.isel(time=0)\n",
    "\n",
    "cbar_kwargs = {\"label\": \"Sea Surface Height [m]\"}\n",
    "subset_ds.plot.pcolormesh(ax=ax, cmap=\"viridis\", cbar_kwargs=cbar_kwargs)\n",
    "\n",
    "loc = ticker.MaxNLocator(5)\n",
    "levels = loc.tick_values(xrda.ssh.min().values, xrda.ssh.max().values)\n",
    "subset_ds.plot.contour(\n",
    "    ax=ax, \n",
    "    alpha=0.5, linewidths=1, cmap=\"black\",\n",
    "    levels=levels,\n",
    "    linestyles=np.where(levels >= 0, \"-\", \"--\")\n",
    "    # vmin=vmin, vmax=vmax,\n",
    "    # **kwargs\n",
    ")   \n",
    "ax.set(title=\"Original\")\n",
    "\n",
    "plt.tight_layout()\n",
    "plt.show()"
   ]
  },
  {
   "cell_type": "code",
   "execution_count": 15,
   "id": "461546af-6df7-4574-953f-96cd6cacc073",
   "metadata": {},
   "outputs": [
    {
     "data": {
      "text/plain": [
       "(-0.98, 1.0, (32, 2), -1.0, -1.0, (32, 1))"
      ]
     },
     "execution_count": 15,
     "metadata": {},
     "output_type": "execute_result"
    }
   ],
   "source": [
    "init = dm.ds_train[:32]\n",
    "x_init, t_init, y_init = init[\"spatial\"], init[\"temporal\"], init[\"data\"]\n",
    "x_init.min(), x_init.max(), x_init.shape, t_init.min(), t_init.max(), t_init.shape"
   ]
  },
  {
   "attachments": {},
   "cell_type": "markdown",
   "id": "7c674973-f5a6-4d61-9d77-53b1b935bf10",
   "metadata": {
    "user_expressions": []
   },
   "source": [
    "## Model"
   ]
  },
  {
   "attachments": {},
   "cell_type": "markdown",
   "id": "fdbada9e-5be2-4abd-b5bc-1693d0ef2523",
   "metadata": {
    "pycharm": {
     "name": "#%% md\n"
    },
    "user_expressions": []
   },
   "source": [
    "The input data is a coordinate vector, $\\mathbf{x}_\\phi$, of the image coordinates.\n",
    "\n",
    "$$\n",
    "\\mathbf{x}_\\phi \\in \\mathbb{R}^{D_\\phi}\n",
    "$$\n",
    "\n",
    "where $D_\\phi = [\\text{x}, \\text{y}]$. So we are interested in learning a function, $\\boldsymbol{f}$, such that we can input a coordinate vector and output a scaler/vector value of the pixel value.\n",
    "\n",
    "$$\n",
    "\\mathbf{u} = \\boldsymbol{f}(\\mathbf{x}_\\phi; \\boldsymbol{\\theta})\n",
    "$$"
   ]
  },
  {
   "attachments": {},
   "cell_type": "markdown",
   "id": "667bed9f-1fdc-4f68-8884-6fb0ab2dacb8",
   "metadata": {
    "pycharm": {
     "name": "#%% md\n"
    },
    "user_expressions": []
   },
   "source": [
    "### MLP Layer\n",
    "\n",
    "$$\n",
    "\\mathbf{f}_\\ell(\\mathbf{x}) = \\sigma\\left(\\mathbf{w}^{(\\ell)}\\mathbf{x} + \\mathbf{b}^{(\\ell)} \\right)\n",
    "$$\n",
    "\n",
    "where $\\sigma$ is the *ReLU* activation function.\n",
    "\n",
    "$$\n",
    "\\sigma(\\mathbf{x}) = \\text{ReLU}(\\mathbf{x})\n",
    "$$"
   ]
  },
  {
   "cell_type": "code",
   "execution_count": 16,
   "id": "67958c5d-953f-4d0e-9174-e4a43950e76a",
   "metadata": {},
   "outputs": [],
   "source": [
    "!cat ./configs/model.yaml"
   ]
  },
  {
   "cell_type": "code",
   "execution_count": 17,
   "id": "c7f0623f-d510-4b92-84bd-31d4388272c7",
   "metadata": {},
   "outputs": [
    {
     "name": "stderr",
     "output_type": "stream",
     "text": [
      "No GPU/TPU found, falling back to CPU. (Set TF_CPP_MIN_LOG_LEVEL=0 and rerun for more info.)\n"
     ]
    }
   ],
   "source": [
    "# load config\n",
    "model_config = OmegaConf.load(\"./configs/model.yaml\")\n",
    "\n",
    "# instantiate\n",
    "model_mlp = hydra.utils.instantiate(model_config.mlp)\n",
    "\n",
    "# test output\n",
    "out = model_mlp(x=x_init[0], t=t_init[0])\n",
    "assert out.shape == y_init[0].shape\n",
    "\n",
    "# test output (batched)\n",
    "out_batch = jax.vmap(model_mlp, in_axes=(0, 0))(x_init, t_init)\n",
    "assert out_batch.shape == y_init.shape"
   ]
  },
  {
   "attachments": {},
   "cell_type": "markdown",
   "id": "1b3580d3-6711-4cfd-8e73-fc5703c0842b",
   "metadata": {
    "user_expressions": []
   },
   "source": [
    "## Optimizer (+ Learning Rate)"
   ]
  },
  {
   "attachments": {},
   "cell_type": "markdown",
   "id": "e3c23109-5541-4210-acf3-7bd94afb9d8f",
   "metadata": {
    "user_expressions": []
   },
   "source": [
    "For this, we will use a simple adam optimizer with a `learning_rate` of 1e-4. From many studies, it appears that a lower learning rate works well with this methods because there is a lot of data. In addition, a bigger `batch_size` is also desireable. We will set the `num_epochs` to `2_000` which should be good enough for a single image. Obviously more epochs and a better learning rate scheduler would result in better results but this will be sufficient for this demo."
   ]
  },
  {
   "cell_type": "code",
   "execution_count": 18,
   "id": "a16dc47a-bc3e-4bee-8372-4d4503dd049a",
   "metadata": {},
   "outputs": [],
   "source": [
    "import optax\n",
    "\n",
    "num_epochs = 5000\n",
    "\n",
    "# load config\n",
    "opt_config = OmegaConf.load(\"./configs/optimizer.yaml\")\n",
    "\n",
    "# instantiate\n",
    "optimizer = hydra.utils.instantiate(opt_config.adamw)"
   ]
  },
  {
   "cell_type": "code",
   "execution_count": 19,
   "id": "39a97981-fb1c-4b5f-b621-e90e89ae6969",
   "metadata": {},
   "outputs": [],
   "source": [
    "scheduler_config = OmegaConf.load(\"./configs/lr_scheduler.yaml\")\n",
    "\n",
    "num_steps_per_epoch = len(dm.ds_train)\n",
    "\n",
    "scheduler = hydra.utils.instantiate(\n",
    "    scheduler_config.warmup_cosine, decay_steps=int(num_epochs * num_steps_per_epoch)\n",
    ")\n",
    "\n",
    "optimizer = optax.chain(optimizer, optax.scale_by_schedule(scheduler))"
   ]
  },
  {
   "cell_type": "code",
   "execution_count": 20,
   "id": "71e6ad28-cb80-42ca-8b2b-3d0619d4f09e",
   "metadata": {},
   "outputs": [
    {
     "data": {
      "text/plain": [
       "GradientTransformationExtraArgs(init=<function chain.<locals>.init_fn at 0x15529cf904c0>, update=<function chain.<locals>.update_fn at 0x15529cf90160>)"
      ]
     },
     "execution_count": 20,
     "metadata": {},
     "output_type": "execute_result"
    }
   ],
   "source": [
    "optimizer"
   ]
  },
  {
   "cell_type": "code",
   "execution_count": 147,
   "id": "1ec4dd59-5897-4794-bf4c-2c6645f638c7",
   "metadata": {},
   "outputs": [],
   "source": [
    "def fft_mse_1D(y, yhat, flow=None, fhigh=None, reduction: str=\"mean\"):\n",
    "    dims = y.shape\n",
    "    \n",
    "    # FFT Transformation\n",
    "    y_f = jnp.fft.fftn(y)\n",
    "    yhat_f = jnp.fft.fftn(yhat)\n",
    "    print(y_f.shape[0])\n",
    "    \n",
    "    if flow is None:\n",
    "        flow = 0\n",
    "    if fhigh is None:\n",
    "        fhigh = jnp.max(y_f.shape[0])-1\n",
    "    \n",
    "    # # Subset the \n",
    "    # if len(dims) == 1:\n",
    "    #     print(\"here\")\n",
    "    #     y_f = y_f[flow:fhigh]\n",
    "    #     # y_f = y_f[slice(flow,fhigh,1)]\n",
    "    #     y_f = jax.lax.dynamic_slice_in_dim(y_f, start_index=flow, slice_size=fhigh-flow)\n",
    "    #     # yhat_f = yhat_f[slice(flow,fhigh,1)]\n",
    "    #     # yhat_f = yhat_f[flow:fhigh]\n",
    "    #     yhat_f = jax.lax.dynamic_slice_in_dim(yhat_f, start_index=flow, slice_size=fhigh-flow)\n",
    "    # elif len(dims) == 2:\n",
    "    #     # y_f = y_f[flow:fhigh, flow:fhigh]\n",
    "    #     # y_f = jax.lax.dynamic_slice_in_dim(y_f, start_index=[flow,flow], slice_size=[fhigh-flow,fhigh-flow])\n",
    "    #     y_f = y_f[slice(flow,fhigh,1),slice(flow,fhigh,1)]\n",
    "    #     # yhat_f = yhat_f[flow:fhigh, flow:fhigh]\n",
    "    #     # yhat_f = jax.lax.dynamic_slice_in_dim(yhat_f, start_index=[flow,flow], slice_size=[fhigh-flow,fhigh-flow])\n",
    "    #     yhat_f = yhat_f[slice(flow,fhigh,1),slice(flow,fhigh,1)]\n",
    "    # elif len(dims) == 3:\n",
    "    #     y_f = y_f[flow:fhigh, flow:fhigh, flow:fhigh]\n",
    "    #     yhat_f = yhat_f[flow:fhigh, flow:fhigh, flow:fhigh]\n",
    "    # elif len(dims) == 4:\n",
    "    #     y_f = y_f[flow:fhigh, flow:fhigh, flow:fhigh, flow:fhigh]\n",
    "    #     yhat_f = yhat_f[flow:fhigh, flow:fhigh, flow:fhigh, flow:fhigh]\n",
    "    # elif len(dims) == 5:\n",
    "    #     y_f = y_f[flow:fhigh, flow:fhigh, flow:fhigh, flow:fhigh, flow:fhigh]\n",
    "    #     yhat_f = yhat_f[flow:fhigh, flow:fhigh, flow:fhigh, flow:fhigh, flow:fhigh]\n",
    "    # else:\n",
    "    #     raise ValueError(f\"\")\n",
    "        \n",
    "    if reduction == \"mean\":\n",
    "        return jnp.abs(jnp.mean(y_f - yhat_f))\n",
    "    elif reduction == \"sum\":\n",
    "        return jnp.abs(jnp.sum(y_f - yhat_f))\n",
    "    else:\n",
    "        return jnp.abs(y_f - yhat_f)"
   ]
  },
  {
   "attachments": {},
   "cell_type": "markdown",
   "id": "7327bdf1-7e7d-458c-99f7-2d85ba48d185",
   "metadata": {
    "user_expressions": []
   },
   "source": [
    "## Trainer Module"
   ]
  },
  {
   "cell_type": "code",
   "execution_count": 148,
   "id": "8a54b919-1dd4-4bad-bd4d-1c9d4dc92a0f",
   "metadata": {
    "jupyter": {
     "outputs_hidden": false
    }
   },
   "outputs": [],
   "source": [
    "import glob\n",
    "import os\n",
    "from pathlib import Path\n",
    "\n",
    "from jejeqx._src.trainers.base import TrainerModule\n",
    "from jejeqx._src.trainers.callbacks import wandb_model_artifact\n",
    "from jejeqx._src.losses import psnr\n",
    "\n",
    "\n",
    "class RegressorTrainer(TrainerModule):\n",
    "    def __init__(self, model, optimizer, **kwargs):\n",
    "        super().__init__(model=model, optimizer=optimizer, pl_logger=None, **kwargs)\n",
    "\n",
    "    def create_functions(self):\n",
    "        @eqx.filter_value_and_grad\n",
    "        def mse_loss(model, batch):\n",
    "            x, t, y = batch[\"spatial\"], batch[\"temporal\"], batch[\"data\"]\n",
    "            pred = jax.vmap(model, in_axes=(0, 0))(x, t)\n",
    "            loss = jnp.mean((y - pred) ** 2)\n",
    "            return loss\n",
    "        \n",
    "        def fft_mse_loss(model, batch):\n",
    "            x, t, y = batch[\"spatial\"], batch[\"temporal\"], batch[\"data\"]\n",
    "            pred = jax.vmap(model, in_axes=(0,0))(x, t)\n",
    "            loss = fft_mse_1D(y=y, yhat=pred)\n",
    "            return loss\n",
    "        \n",
    "        def train_step(state, batch):\n",
    "            loss, grads = mse_loss(state.params, batch)\n",
    "            state = state.update_state(state, grads)\n",
    "            psnr_loss = psnr(loss) \n",
    "            fft_loss = fft_mse_loss(state.params, batch)\n",
    "            metrics = {\"loss\": loss, \"psnr\": psnr_loss, \"fft\": fft_loss}\n",
    "            return state, loss, metrics\n",
    "\n",
    "        def eval_step(model, batch):\n",
    "            loss, _ = mse_loss(model, batch)\n",
    "            psnr_loss = psnr(loss)\n",
    "            return {\"loss\": loss, \"psnr\": psnr_loss}\n",
    "\n",
    "        def test_step(model, batch):\n",
    "            x, t = batch[\"spatial\"], batch[\"temporal\"]\n",
    "            out = jax.vmap(model, in_axes=(0, 0))(x, t)\n",
    "            loss, _ = mse_loss(model, batch)\n",
    "            psnr_loss = psnr(loss)\n",
    "            fft_loss = fft_mse_loss(model, batch)\n",
    "            metrics = {\"loss\": loss, \"psnr\": psnr_loss, \"fft\": fft_loss}\n",
    "            return out, metrics\n",
    "        \n",
    "        def predict_step(model, batch):\n",
    "            x, t = batch[\"spatial\"], batch[\"temporal\"]\n",
    "            out = jax.vmap(model, in_axes=(0, 0))(x, t)\n",
    "            return out\n",
    "\n",
    "        return train_step, eval_step, test_step, predict_step\n",
    "\n",
    "    def on_training_end(\n",
    "        self,\n",
    "    ):\n",
    "        if self.pl_logger:\n",
    "            save_dir = Path(self.log_dir).joinpath(self.save_name)\n",
    "            self.save_model(save_dir)\n",
    "            wandb_model_artifact(self)\n",
    "            self.pl_logger.finalize(\"success\")"
   ]
  },
  {
   "cell_type": "code",
   "execution_count": 151,
   "id": "e1df158c-9126-4e8e-b5ab-ae01c0a34c06",
   "metadata": {
    "jupyter": {
     "outputs_hidden": false
    }
   },
   "outputs": [],
   "source": [
    "seed = 123\n",
    "debug = False\n",
    "enable_progress_bar = False\n",
    "log_dir = \"./\"\n",
    "\n",
    "trainer = RegressorTrainer(\n",
    "    model_mlp,\n",
    "    optimizer,\n",
    "    seed=seed,\n",
    "    debug=debug,\n",
    "    enable_progress_bar=enable_progress_bar,\n",
    "    log_dir=log_dir,\n",
    ")\n",
    "train_more = False\n"
   ]
  },
  {
   "cell_type": "code",
   "execution_count": 152,
   "id": "733b200d-7c8b-47a4-b5fa-5356e57f6b2f",
   "metadata": {},
   "outputs": [
    {
     "name": "stdout",
     "output_type": "stream",
     "text": [
      "10000\n",
      "401\n",
      "CPU times: user 762 ms, sys: 7.84 ms, total: 770 ms\n",
      "Wall time: 643 ms\n"
     ]
    },
    {
     "data": {
      "text/plain": [
       "{'fft': 0.48898881673812866,\n",
       " 'loss': 0.33336636424064636,\n",
       " 'psnr': 8.517776489257812}"
      ]
     },
     "execution_count": 152,
     "metadata": {},
     "output_type": "execute_result"
    }
   ],
   "source": [
    "%%time\n",
    "\n",
    "\n",
    "out, metrics = trainer.test_model(dm.test_dataloader())\n",
    "metrics"
   ]
  },
  {
   "cell_type": "code",
   "execution_count": 153,
   "id": "1f4b1c03-c2dd-444e-8156-f045516d95f2",
   "metadata": {},
   "outputs": [],
   "source": [
    "xrda[\"ssh_pre\"] = ((\"time\", \"lat\", \"lon\"), dm.data_to_df(out).to_xarray().ssh.data)"
   ]
  },
  {
   "cell_type": "code",
   "execution_count": 154,
   "id": "bc2e3054-e77b-43f7-9b38-73c5566642f0",
   "metadata": {},
   "outputs": [],
   "source": [
    "try:\n",
    "    trainer.load_model(\"./checkpoints/checkpoint_model_mlp_ssh.ckpt\")\n",
    "except:\n",
    "    pass"
   ]
  },
  {
   "cell_type": "code",
   "execution_count": 155,
   "id": "e4610df3-6f61-4f92-9540-96bf349c3dc6",
   "metadata": {},
   "outputs": [
    {
     "name": "stdout",
     "output_type": "stream",
     "text": [
      "CPU times: user 281 ms, sys: 11.2 ms, total: 292 ms\n",
      "Wall time: 194 ms\n"
     ]
    },
    {
     "data": {
      "text/plain": [
       "{'fft': 0.007226995658129454,\n",
       " 'loss': 0.00013177159416954964,\n",
       " 'psnr': 82.71487426757812}"
      ]
     },
     "execution_count": 155,
     "metadata": {},
     "output_type": "execute_result"
    }
   ],
   "source": [
    "%%time\n",
    "\n",
    "\n",
    "out, metrics = trainer.test_model(dm.test_dataloader())\n",
    "metrics"
   ]
  },
  {
   "cell_type": "code",
   "execution_count": 156,
   "id": "73b5d0fd-628d-45f4-8eff-21be28d1c977",
   "metadata": {
    "tags": []
   },
   "outputs": [
    {
     "name": "stdout",
     "output_type": "stream",
     "text": [
      "CPU times: user 9 µs, sys: 1e+03 ns, total: 10 µs\n",
      "Wall time: 21.9 µs\n"
     ]
    }
   ],
   "source": [
    "%%time\n",
    "\n",
    "if train_more:\n",
    "    metrics = trainer.train_model(dm, num_epochs=num_epochs)"
   ]
  },
  {
   "cell_type": "code",
   "execution_count": 157,
   "id": "fe234bf6-871e-4180-818d-f4271fffc9ba",
   "metadata": {
    "jupyter": {
     "outputs_hidden": false
    }
   },
   "outputs": [],
   "source": [
    "if train_more:\n",
    "    trainer.save_model(\"./checkpoints/checkpoint_model_mlp_ssh.ckpt\")\n",
    "    # trainer.save_model(\"./checkpoints/checkpoint_model_gabor_ssh.ckpt\")\n",
    "# trainer.save_state(\"checkpoint_state.ckpt\")"
   ]
  },
  {
   "cell_type": "code",
   "execution_count": 158,
   "id": "b54a93cc-dff4-4c91-a121-e17a57ce69e4",
   "metadata": {},
   "outputs": [
    {
     "data": {
      "text/plain": [
       "{'fft': 0.007226995658129454,\n",
       " 'loss': 0.00013177159416954964,\n",
       " 'psnr': 82.71487426757812}"
      ]
     },
     "execution_count": 158,
     "metadata": {},
     "output_type": "execute_result"
    }
   ],
   "source": [
    "out, metrics = trainer.test_model(dm.test_dataloader())\n",
    "metrics"
   ]
  },
  {
   "cell_type": "code",
   "execution_count": 161,
   "id": "52930b97-ecb1-4950-a3fb-b2ff82dd5e8d",
   "metadata": {},
   "outputs": [
    {
     "data": {
      "text/html": [
       "<div>\n",
       "<style scoped>\n",
       "    .dataframe tbody tr th:only-of-type {\n",
       "        vertical-align: middle;\n",
       "    }\n",
       "\n",
       "    .dataframe tbody tr th {\n",
       "        vertical-align: top;\n",
       "    }\n",
       "\n",
       "    .dataframe thead th {\n",
       "        text-align: right;\n",
       "    }\n",
       "</style>\n",
       "<table border=\"1\" class=\"dataframe\">\n",
       "  <thead>\n",
       "    <tr style=\"text-align: right;\">\n",
       "      <th></th>\n",
       "      <th>model</th>\n",
       "      <th>MSE</th>\n",
       "      <th>PSNR</th>\n",
       "      <th>FFT</th>\n",
       "    </tr>\n",
       "  </thead>\n",
       "  <tbody>\n",
       "    <tr>\n",
       "      <th>0</th>\n",
       "      <td>mlp</td>\n",
       "      <td>0.000132</td>\n",
       "      <td>82.714874</td>\n",
       "      <td>0.007227</td>\n",
       "    </tr>\n",
       "  </tbody>\n",
       "</table>\n",
       "</div>"
      ],
      "text/plain": [
       "  model       MSE       PSNR       FFT\n",
       "0   mlp  0.000132  82.714874  0.007227"
      ]
     },
     "execution_count": 161,
     "metadata": {},
     "output_type": "execute_result"
    }
   ],
   "source": [
    "all_metrics = pd.DataFrame(\n",
    "    data=[[\"mlp\", metrics[\"loss\"], metrics[\"psnr\"], metrics[\"fft\"]]],\n",
    "    columns=[\"model\", \"MSE\", \"PSNR\", \"FFT\"],\n",
    ")\n",
    "all_metrics"
   ]
  },
  {
   "cell_type": "code",
   "execution_count": 162,
   "id": "2a93b84c-3bb4-4361-b22a-a2a2e7aadcc9",
   "metadata": {},
   "outputs": [
    {
     "data": {
      "text/html": [
       "<div><svg style=\"position: absolute; width: 0; height: 0; overflow: hidden\">\n",
       "<defs>\n",
       "<symbol id=\"icon-database\" viewBox=\"0 0 32 32\">\n",
       "<path d=\"M16 0c-8.837 0-16 2.239-16 5v4c0 2.761 7.163 5 16 5s16-2.239 16-5v-4c0-2.761-7.163-5-16-5z\"></path>\n",
       "<path d=\"M16 17c-8.837 0-16-2.239-16-5v6c0 2.761 7.163 5 16 5s16-2.239 16-5v-6c0 2.761-7.163 5-16 5z\"></path>\n",
       "<path d=\"M16 26c-8.837 0-16-2.239-16-5v6c0 2.761 7.163 5 16 5s16-2.239 16-5v-6c0 2.761-7.163 5-16 5z\"></path>\n",
       "</symbol>\n",
       "<symbol id=\"icon-file-text2\" viewBox=\"0 0 32 32\">\n",
       "<path d=\"M28.681 7.159c-0.694-0.947-1.662-2.053-2.724-3.116s-2.169-2.030-3.116-2.724c-1.612-1.182-2.393-1.319-2.841-1.319h-15.5c-1.378 0-2.5 1.121-2.5 2.5v27c0 1.378 1.122 2.5 2.5 2.5h23c1.378 0 2.5-1.122 2.5-2.5v-19.5c0-0.448-0.137-1.23-1.319-2.841zM24.543 5.457c0.959 0.959 1.712 1.825 2.268 2.543h-4.811v-4.811c0.718 0.556 1.584 1.309 2.543 2.268zM28 29.5c0 0.271-0.229 0.5-0.5 0.5h-23c-0.271 0-0.5-0.229-0.5-0.5v-27c0-0.271 0.229-0.5 0.5-0.5 0 0 15.499-0 15.5 0v7c0 0.552 0.448 1 1 1h7v19.5z\"></path>\n",
       "<path d=\"M23 26h-14c-0.552 0-1-0.448-1-1s0.448-1 1-1h14c0.552 0 1 0.448 1 1s-0.448 1-1 1z\"></path>\n",
       "<path d=\"M23 22h-14c-0.552 0-1-0.448-1-1s0.448-1 1-1h14c0.552 0 1 0.448 1 1s-0.448 1-1 1z\"></path>\n",
       "<path d=\"M23 18h-14c-0.552 0-1-0.448-1-1s0.448-1 1-1h14c0.552 0 1 0.448 1 1s-0.448 1-1 1z\"></path>\n",
       "</symbol>\n",
       "</defs>\n",
       "</svg>\n",
       "<style>/* CSS stylesheet for displaying xarray objects in jupyterlab.\n",
       " *\n",
       " */\n",
       "\n",
       ":root {\n",
       "  --xr-font-color0: var(--jp-content-font-color0, rgba(0, 0, 0, 1));\n",
       "  --xr-font-color2: var(--jp-content-font-color2, rgba(0, 0, 0, 0.54));\n",
       "  --xr-font-color3: var(--jp-content-font-color3, rgba(0, 0, 0, 0.38));\n",
       "  --xr-border-color: var(--jp-border-color2, #e0e0e0);\n",
       "  --xr-disabled-color: var(--jp-layout-color3, #bdbdbd);\n",
       "  --xr-background-color: var(--jp-layout-color0, white);\n",
       "  --xr-background-color-row-even: var(--jp-layout-color1, white);\n",
       "  --xr-background-color-row-odd: var(--jp-layout-color2, #eeeeee);\n",
       "}\n",
       "\n",
       "html[theme=dark],\n",
       "body[data-theme=dark],\n",
       "body.vscode-dark {\n",
       "  --xr-font-color0: rgba(255, 255, 255, 1);\n",
       "  --xr-font-color2: rgba(255, 255, 255, 0.54);\n",
       "  --xr-font-color3: rgba(255, 255, 255, 0.38);\n",
       "  --xr-border-color: #1F1F1F;\n",
       "  --xr-disabled-color: #515151;\n",
       "  --xr-background-color: #111111;\n",
       "  --xr-background-color-row-even: #111111;\n",
       "  --xr-background-color-row-odd: #313131;\n",
       "}\n",
       "\n",
       ".xr-wrap {\n",
       "  display: block !important;\n",
       "  min-width: 300px;\n",
       "  max-width: 700px;\n",
       "}\n",
       "\n",
       ".xr-text-repr-fallback {\n",
       "  /* fallback to plain text repr when CSS is not injected (untrusted notebook) */\n",
       "  display: none;\n",
       "}\n",
       "\n",
       ".xr-header {\n",
       "  padding-top: 6px;\n",
       "  padding-bottom: 6px;\n",
       "  margin-bottom: 4px;\n",
       "  border-bottom: solid 1px var(--xr-border-color);\n",
       "}\n",
       "\n",
       ".xr-header > div,\n",
       ".xr-header > ul {\n",
       "  display: inline;\n",
       "  margin-top: 0;\n",
       "  margin-bottom: 0;\n",
       "}\n",
       "\n",
       ".xr-obj-type,\n",
       ".xr-array-name {\n",
       "  margin-left: 2px;\n",
       "  margin-right: 10px;\n",
       "}\n",
       "\n",
       ".xr-obj-type {\n",
       "  color: var(--xr-font-color2);\n",
       "}\n",
       "\n",
       ".xr-sections {\n",
       "  padding-left: 0 !important;\n",
       "  display: grid;\n",
       "  grid-template-columns: 150px auto auto 1fr 20px 20px;\n",
       "}\n",
       "\n",
       ".xr-section-item {\n",
       "  display: contents;\n",
       "}\n",
       "\n",
       ".xr-section-item input {\n",
       "  display: none;\n",
       "}\n",
       "\n",
       ".xr-section-item input + label {\n",
       "  color: var(--xr-disabled-color);\n",
       "}\n",
       "\n",
       ".xr-section-item input:enabled + label {\n",
       "  cursor: pointer;\n",
       "  color: var(--xr-font-color2);\n",
       "}\n",
       "\n",
       ".xr-section-item input:enabled + label:hover {\n",
       "  color: var(--xr-font-color0);\n",
       "}\n",
       "\n",
       ".xr-section-summary {\n",
       "  grid-column: 1;\n",
       "  color: var(--xr-font-color2);\n",
       "  font-weight: 500;\n",
       "}\n",
       "\n",
       ".xr-section-summary > span {\n",
       "  display: inline-block;\n",
       "  padding-left: 0.5em;\n",
       "}\n",
       "\n",
       ".xr-section-summary-in:disabled + label {\n",
       "  color: var(--xr-font-color2);\n",
       "}\n",
       "\n",
       ".xr-section-summary-in + label:before {\n",
       "  display: inline-block;\n",
       "  content: '►';\n",
       "  font-size: 11px;\n",
       "  width: 15px;\n",
       "  text-align: center;\n",
       "}\n",
       "\n",
       ".xr-section-summary-in:disabled + label:before {\n",
       "  color: var(--xr-disabled-color);\n",
       "}\n",
       "\n",
       ".xr-section-summary-in:checked + label:before {\n",
       "  content: '▼';\n",
       "}\n",
       "\n",
       ".xr-section-summary-in:checked + label > span {\n",
       "  display: none;\n",
       "}\n",
       "\n",
       ".xr-section-summary,\n",
       ".xr-section-inline-details {\n",
       "  padding-top: 4px;\n",
       "  padding-bottom: 4px;\n",
       "}\n",
       "\n",
       ".xr-section-inline-details {\n",
       "  grid-column: 2 / -1;\n",
       "}\n",
       "\n",
       ".xr-section-details {\n",
       "  display: none;\n",
       "  grid-column: 1 / -1;\n",
       "  margin-bottom: 5px;\n",
       "}\n",
       "\n",
       ".xr-section-summary-in:checked ~ .xr-section-details {\n",
       "  display: contents;\n",
       "}\n",
       "\n",
       ".xr-array-wrap {\n",
       "  grid-column: 1 / -1;\n",
       "  display: grid;\n",
       "  grid-template-columns: 20px auto;\n",
       "}\n",
       "\n",
       ".xr-array-wrap > label {\n",
       "  grid-column: 1;\n",
       "  vertical-align: top;\n",
       "}\n",
       "\n",
       ".xr-preview {\n",
       "  color: var(--xr-font-color3);\n",
       "}\n",
       "\n",
       ".xr-array-preview,\n",
       ".xr-array-data {\n",
       "  padding: 0 5px !important;\n",
       "  grid-column: 2;\n",
       "}\n",
       "\n",
       ".xr-array-data,\n",
       ".xr-array-in:checked ~ .xr-array-preview {\n",
       "  display: none;\n",
       "}\n",
       "\n",
       ".xr-array-in:checked ~ .xr-array-data,\n",
       ".xr-array-preview {\n",
       "  display: inline-block;\n",
       "}\n",
       "\n",
       ".xr-dim-list {\n",
       "  display: inline-block !important;\n",
       "  list-style: none;\n",
       "  padding: 0 !important;\n",
       "  margin: 0;\n",
       "}\n",
       "\n",
       ".xr-dim-list li {\n",
       "  display: inline-block;\n",
       "  padding: 0;\n",
       "  margin: 0;\n",
       "}\n",
       "\n",
       ".xr-dim-list:before {\n",
       "  content: '(';\n",
       "}\n",
       "\n",
       ".xr-dim-list:after {\n",
       "  content: ')';\n",
       "}\n",
       "\n",
       ".xr-dim-list li:not(:last-child):after {\n",
       "  content: ',';\n",
       "  padding-right: 5px;\n",
       "}\n",
       "\n",
       ".xr-has-index {\n",
       "  font-weight: bold;\n",
       "}\n",
       "\n",
       ".xr-var-list,\n",
       ".xr-var-item {\n",
       "  display: contents;\n",
       "}\n",
       "\n",
       ".xr-var-item > div,\n",
       ".xr-var-item label,\n",
       ".xr-var-item > .xr-var-name span {\n",
       "  background-color: var(--xr-background-color-row-even);\n",
       "  margin-bottom: 0;\n",
       "}\n",
       "\n",
       ".xr-var-item > .xr-var-name:hover span {\n",
       "  padding-right: 5px;\n",
       "}\n",
       "\n",
       ".xr-var-list > li:nth-child(odd) > div,\n",
       ".xr-var-list > li:nth-child(odd) > label,\n",
       ".xr-var-list > li:nth-child(odd) > .xr-var-name span {\n",
       "  background-color: var(--xr-background-color-row-odd);\n",
       "}\n",
       "\n",
       ".xr-var-name {\n",
       "  grid-column: 1;\n",
       "}\n",
       "\n",
       ".xr-var-dims {\n",
       "  grid-column: 2;\n",
       "}\n",
       "\n",
       ".xr-var-dtype {\n",
       "  grid-column: 3;\n",
       "  text-align: right;\n",
       "  color: var(--xr-font-color2);\n",
       "}\n",
       "\n",
       ".xr-var-preview {\n",
       "  grid-column: 4;\n",
       "}\n",
       "\n",
       ".xr-index-preview {\n",
       "  grid-column: 2 / 5;\n",
       "  color: var(--xr-font-color2);\n",
       "}\n",
       "\n",
       ".xr-var-name,\n",
       ".xr-var-dims,\n",
       ".xr-var-dtype,\n",
       ".xr-preview,\n",
       ".xr-attrs dt {\n",
       "  white-space: nowrap;\n",
       "  overflow: hidden;\n",
       "  text-overflow: ellipsis;\n",
       "  padding-right: 10px;\n",
       "}\n",
       "\n",
       ".xr-var-name:hover,\n",
       ".xr-var-dims:hover,\n",
       ".xr-var-dtype:hover,\n",
       ".xr-attrs dt:hover {\n",
       "  overflow: visible;\n",
       "  width: auto;\n",
       "  z-index: 1;\n",
       "}\n",
       "\n",
       ".xr-var-attrs,\n",
       ".xr-var-data,\n",
       ".xr-index-data {\n",
       "  display: none;\n",
       "  background-color: var(--xr-background-color) !important;\n",
       "  padding-bottom: 5px !important;\n",
       "}\n",
       "\n",
       ".xr-var-attrs-in:checked ~ .xr-var-attrs,\n",
       ".xr-var-data-in:checked ~ .xr-var-data,\n",
       ".xr-index-data-in:checked ~ .xr-index-data {\n",
       "  display: block;\n",
       "}\n",
       "\n",
       ".xr-var-data > table {\n",
       "  float: right;\n",
       "}\n",
       "\n",
       ".xr-var-name span,\n",
       ".xr-var-data,\n",
       ".xr-index-name div,\n",
       ".xr-index-data,\n",
       ".xr-attrs {\n",
       "  padding-left: 25px !important;\n",
       "}\n",
       "\n",
       ".xr-attrs,\n",
       ".xr-var-attrs,\n",
       ".xr-var-data,\n",
       ".xr-index-data {\n",
       "  grid-column: 1 / -1;\n",
       "}\n",
       "\n",
       "dl.xr-attrs {\n",
       "  padding: 0;\n",
       "  margin: 0;\n",
       "  display: grid;\n",
       "  grid-template-columns: 125px auto;\n",
       "}\n",
       "\n",
       ".xr-attrs dt,\n",
       ".xr-attrs dd {\n",
       "  padding: 0;\n",
       "  margin: 0;\n",
       "  float: left;\n",
       "  padding-right: 10px;\n",
       "  width: auto;\n",
       "}\n",
       "\n",
       ".xr-attrs dt {\n",
       "  font-weight: normal;\n",
       "  grid-column: 1;\n",
       "}\n",
       "\n",
       ".xr-attrs dt:hover span {\n",
       "  display: inline-block;\n",
       "  background: var(--xr-background-color);\n",
       "  padding-right: 10px;\n",
       "}\n",
       "\n",
       ".xr-attrs dd {\n",
       "  grid-column: 2;\n",
       "  white-space: pre-wrap;\n",
       "  word-break: break-all;\n",
       "}\n",
       "\n",
       ".xr-icon-database,\n",
       ".xr-icon-file-text2,\n",
       ".xr-no-icon {\n",
       "  display: inline-block;\n",
       "  vertical-align: middle;\n",
       "  width: 1em;\n",
       "  height: 1.5em !important;\n",
       "  stroke-width: 0;\n",
       "  stroke: currentColor;\n",
       "  fill: currentColor;\n",
       "}\n",
       "</style><pre class='xr-text-repr-fallback'>&lt;xarray.DataArray &#x27;ssh&#x27; (time: 1, lat: 201, lon: 201)&gt;\n",
       "array([[[ 0.5488428 ,  0.54304546,  0.5354617 , ...,  0.5738971 ,\n",
       "          0.57589525,  0.5782987 ],\n",
       "        [ 0.54808766,  0.5422071 ,  0.53459525, ...,  0.5805601 ,\n",
       "          0.5814417 ,  0.5856366 ],\n",
       "        [ 0.55316144,  0.544704  ,  0.5344246 , ...,  0.5869087 ,\n",
       "          0.58940536,  0.59366304],\n",
       "        ...,\n",
       "        [-0.14343482, -0.14286944, -0.14328447, ..., -0.17531756,\n",
       "         -0.17495553, -0.17561796],\n",
       "        [-0.14795297, -0.14763284, -0.14773592, ..., -0.17243722,\n",
       "         -0.17006823, -0.16802837],\n",
       "        [-0.15249169, -0.15217172, -0.15206766, ..., -0.1639832 ,\n",
       "         -0.16152105, -0.15934393]]], dtype=float32)\n",
       "Coordinates:\n",
       "  * time     (time) float64 0.0\n",
       "  * lat      (lat) float64 0.0 4.66e+03 9.318e+03 ... 8.708e+05 8.748e+05\n",
       "  * lon      (lon) float64 0.0 5.56e+03 1.112e+04 ... 1.106e+06 1.112e+06</pre><div class='xr-wrap' style='display:none'><div class='xr-header'><div class='xr-obj-type'>xarray.DataArray</div><div class='xr-array-name'>'ssh'</div><ul class='xr-dim-list'><li><span class='xr-has-index'>time</span>: 1</li><li><span class='xr-has-index'>lat</span>: 201</li><li><span class='xr-has-index'>lon</span>: 201</li></ul></div><ul class='xr-sections'><li class='xr-section-item'><div class='xr-array-wrap'><input id='section-486d57f6-715c-4f09-b089-a502971698bc' class='xr-array-in' type='checkbox' checked><label for='section-486d57f6-715c-4f09-b089-a502971698bc' title='Show/hide data repr'><svg class='icon xr-icon-database'><use xlink:href='#icon-database'></use></svg></label><div class='xr-array-preview xr-preview'><span>0.5488 0.543 0.5355 0.5273 0.5186 ... -0.1666 -0.164 -0.1615 -0.1593</span></div><div class='xr-array-data'><pre>array([[[ 0.5488428 ,  0.54304546,  0.5354617 , ...,  0.5738971 ,\n",
       "          0.57589525,  0.5782987 ],\n",
       "        [ 0.54808766,  0.5422071 ,  0.53459525, ...,  0.5805601 ,\n",
       "          0.5814417 ,  0.5856366 ],\n",
       "        [ 0.55316144,  0.544704  ,  0.5344246 , ...,  0.5869087 ,\n",
       "          0.58940536,  0.59366304],\n",
       "        ...,\n",
       "        [-0.14343482, -0.14286944, -0.14328447, ..., -0.17531756,\n",
       "         -0.17495553, -0.17561796],\n",
       "        [-0.14795297, -0.14763284, -0.14773592, ..., -0.17243722,\n",
       "         -0.17006823, -0.16802837],\n",
       "        [-0.15249169, -0.15217172, -0.15206766, ..., -0.1639832 ,\n",
       "         -0.16152105, -0.15934393]]], dtype=float32)</pre></div></div></li><li class='xr-section-item'><input id='section-7d7d4d11-162a-491e-9304-46beb040b993' class='xr-section-summary-in' type='checkbox'  checked><label for='section-7d7d4d11-162a-491e-9304-46beb040b993' class='xr-section-summary' >Coordinates: <span>(3)</span></label><div class='xr-section-inline-details'></div><div class='xr-section-details'><ul class='xr-var-list'><li class='xr-var-item'><div class='xr-var-name'><span class='xr-has-index'>time</span></div><div class='xr-var-dims'>(time)</div><div class='xr-var-dtype'>float64</div><div class='xr-var-preview xr-preview'>0.0</div><input id='attrs-9c515e16-e9d8-40fc-9c42-30553d6ba813' class='xr-var-attrs-in' type='checkbox' disabled><label for='attrs-9c515e16-e9d8-40fc-9c42-30553d6ba813' title='Show/Hide attributes'><svg class='icon xr-icon-file-text2'><use xlink:href='#icon-file-text2'></use></svg></label><input id='data-02acd57c-a9c8-406f-bcbe-048209b5e6ad' class='xr-var-data-in' type='checkbox'><label for='data-02acd57c-a9c8-406f-bcbe-048209b5e6ad' title='Show/Hide data repr'><svg class='icon xr-icon-database'><use xlink:href='#icon-database'></use></svg></label><div class='xr-var-attrs'><dl class='xr-attrs'></dl></div><div class='xr-var-data'><pre>array([0.])</pre></div></li><li class='xr-var-item'><div class='xr-var-name'><span class='xr-has-index'>lat</span></div><div class='xr-var-dims'>(lat)</div><div class='xr-var-dtype'>float64</div><div class='xr-var-preview xr-preview'>0.0 4.66e+03 ... 8.748e+05</div><input id='attrs-339c5f00-c2d3-4460-b6c5-5f85b3ba5f83' class='xr-var-attrs-in' type='checkbox' disabled><label for='attrs-339c5f00-c2d3-4460-b6c5-5f85b3ba5f83' title='Show/Hide attributes'><svg class='icon xr-icon-file-text2'><use xlink:href='#icon-file-text2'></use></svg></label><input id='data-c28b45bd-a7ce-4510-9c64-5d53f49248ca' class='xr-var-data-in' type='checkbox'><label for='data-c28b45bd-a7ce-4510-9c64-5d53f49248ca' title='Show/Hide data repr'><svg class='icon xr-icon-database'><use xlink:href='#icon-database'></use></svg></label><div class='xr-var-attrs'><dl class='xr-attrs'></dl></div><div class='xr-var-data'><pre>array([     0.      ,   4660.149124,   9317.650449, ..., 866681.869093,\n",
       "       870751.315544, 874817.454629])</pre></div></li><li class='xr-var-item'><div class='xr-var-name'><span class='xr-has-index'>lon</span></div><div class='xr-var-dims'>(lon)</div><div class='xr-var-dtype'>float64</div><div class='xr-var-preview xr-preview'>0.0 5.56e+03 ... 1.112e+06</div><input id='attrs-ff59e0c0-2a89-4a96-bf06-181a2babc74c' class='xr-var-attrs-in' type='checkbox' disabled><label for='attrs-ff59e0c0-2a89-4a96-bf06-181a2babc74c' title='Show/Hide attributes'><svg class='icon xr-icon-file-text2'><use xlink:href='#icon-file-text2'></use></svg></label><input id='data-a34677a8-af2a-4568-a402-52fe6a68dff6' class='xr-var-data-in' type='checkbox'><label for='data-a34677a8-af2a-4568-a402-52fe6a68dff6' title='Show/Hide data repr'><svg class='icon xr-icon-database'><use xlink:href='#icon-database'></use></svg></label><div class='xr-var-attrs'><dl class='xr-attrs'></dl></div><div class='xr-var-data'><pre>array([      0.      ,    5559.743714,   11119.487428, ..., 1100829.255418,\n",
       "       1106388.999133, 1111948.742847])</pre></div></li></ul></div></li><li class='xr-section-item'><input id='section-c41e03e3-0066-453b-968f-11069793625b' class='xr-section-summary-in' type='checkbox'  ><label for='section-c41e03e3-0066-453b-968f-11069793625b' class='xr-section-summary' >Indexes: <span>(3)</span></label><div class='xr-section-inline-details'></div><div class='xr-section-details'><ul class='xr-var-list'><li class='xr-var-item'><div class='xr-index-name'><div>time</div></div><div class='xr-index-preview'>PandasIndex</div><div></div><input id='index-74fdd82b-256a-46d6-8aba-723cc8ffe2d3' class='xr-index-data-in' type='checkbox'/><label for='index-74fdd82b-256a-46d6-8aba-723cc8ffe2d3' title='Show/Hide index repr'><svg class='icon xr-icon-database'><use xlink:href='#icon-database'></use></svg></label><div class='xr-index-data'><pre>PandasIndex(Float64Index([0.0], dtype=&#x27;float64&#x27;, name=&#x27;time&#x27;))</pre></div></li><li class='xr-var-item'><div class='xr-index-name'><div>lat</div></div><div class='xr-index-preview'>PandasIndex</div><div></div><input id='index-068a069b-9381-4914-b1c1-cd9153a09ec4' class='xr-index-data-in' type='checkbox'/><label for='index-068a069b-9381-4914-b1c1-cd9153a09ec4' title='Show/Hide index repr'><svg class='icon xr-icon-database'><use xlink:href='#icon-database'></use></svg></label><div class='xr-index-data'><pre>PandasIndex(Float64Index([               0.0,  4660.149124208899,  9317.650449161185,\n",
       "              13972.500427967043, 18624.695515755764, 23274.232169678457,\n",
       "              27921.106848910746, 32565.316014655466,  37206.85613014535,\n",
       "              41845.723660645745,\n",
       "              ...\n",
       "               838103.3983460875,  842195.9094397707,  846285.1349143024,\n",
       "               850371.0716555596,  854453.7165519239,  858533.0664942838,\n",
       "               862609.1183760371,   866681.869093093,  870751.3155438749,\n",
       "               874817.4546293224],\n",
       "             dtype=&#x27;float64&#x27;, name=&#x27;lat&#x27;, length=201))</pre></div></li><li class='xr-var-item'><div class='xr-index-name'><div>lon</div></div><div class='xr-index-preview'>PandasIndex</div><div></div><input id='index-ff153d95-8c91-49f0-a5cd-46c76e65c58a' class='xr-index-data-in' type='checkbox'/><label for='index-ff153d95-8c91-49f0-a5cd-46c76e65c58a' title='Show/Hide index repr'><svg class='icon xr-icon-database'><use xlink:href='#icon-database'></use></svg></label><div class='xr-index-data'><pre>PandasIndex(Float64Index([               0.0,  5559.743714234096,  11119.48742846819,\n",
       "              16679.231142702287, 22238.974856936384, 27798.718571170477,\n",
       "              33358.462285404574,  38918.20599963867,  44477.94971387276,\n",
       "               50037.69342810685,\n",
       "              ...\n",
       "               1061911.049418712, 1067470.7931329461, 1073030.5368471802,\n",
       "              1078590.2805614143, 1084150.0242756484, 1089709.7679898825,\n",
       "              1095269.5117041166, 1100829.2554183507, 1106388.9991325848,\n",
       "              1111948.7428468189],\n",
       "             dtype=&#x27;float64&#x27;, name=&#x27;lon&#x27;, length=201))</pre></div></li></ul></div></li><li class='xr-section-item'><input id='section-82d9023d-d7a8-4458-915d-6d14dddf354d' class='xr-section-summary-in' type='checkbox' disabled ><label for='section-82d9023d-d7a8-4458-915d-6d14dddf354d' class='xr-section-summary'  title='Expand/collapse section'>Attributes: <span>(0)</span></label><div class='xr-section-inline-details'></div><div class='xr-section-details'><dl class='xr-attrs'></dl></div></li></ul></div></div>"
      ],
      "text/plain": [
       "<xarray.DataArray 'ssh' (time: 1, lat: 201, lon: 201)>\n",
       "array([[[ 0.5488428 ,  0.54304546,  0.5354617 , ...,  0.5738971 ,\n",
       "          0.57589525,  0.5782987 ],\n",
       "        [ 0.54808766,  0.5422071 ,  0.53459525, ...,  0.5805601 ,\n",
       "          0.5814417 ,  0.5856366 ],\n",
       "        [ 0.55316144,  0.544704  ,  0.5344246 , ...,  0.5869087 ,\n",
       "          0.58940536,  0.59366304],\n",
       "        ...,\n",
       "        [-0.14343482, -0.14286944, -0.14328447, ..., -0.17531756,\n",
       "         -0.17495553, -0.17561796],\n",
       "        [-0.14795297, -0.14763284, -0.14773592, ..., -0.17243722,\n",
       "         -0.17006823, -0.16802837],\n",
       "        [-0.15249169, -0.15217172, -0.15206766, ..., -0.1639832 ,\n",
       "         -0.16152105, -0.15934393]]], dtype=float32)\n",
       "Coordinates:\n",
       "  * time     (time) float64 0.0\n",
       "  * lat      (lat) float64 0.0 4.66e+03 9.318e+03 ... 8.708e+05 8.748e+05\n",
       "  * lon      (lon) float64 0.0 5.56e+03 1.112e+04 ... 1.106e+06 1.112e+06"
      ]
     },
     "execution_count": 162,
     "metadata": {},
     "output_type": "execute_result"
    }
   ],
   "source": [
    "dm.data_to_df(out).to_xarray().ssh"
   ]
  },
  {
   "cell_type": "code",
   "execution_count": 163,
   "id": "ba233230-2890-4a5c-9792-b7ef06959345",
   "metadata": {},
   "outputs": [],
   "source": [
    "xrda[\"ssh_mlp\"] = ((\"time\", \"lat\", \"lon\"), dm.data_to_df(out).to_xarray().ssh.data)"
   ]
  },
  {
   "cell_type": "code",
   "execution_count": 33,
   "id": "b9f707a5-5615-433a-883f-4ac41f690e53",
   "metadata": {},
   "outputs": [
    {
     "data": {
      "text/html": [
       "<div><svg style=\"position: absolute; width: 0; height: 0; overflow: hidden\">\n",
       "<defs>\n",
       "<symbol id=\"icon-database\" viewBox=\"0 0 32 32\">\n",
       "<path d=\"M16 0c-8.837 0-16 2.239-16 5v4c0 2.761 7.163 5 16 5s16-2.239 16-5v-4c0-2.761-7.163-5-16-5z\"></path>\n",
       "<path d=\"M16 17c-8.837 0-16-2.239-16-5v6c0 2.761 7.163 5 16 5s16-2.239 16-5v-6c0 2.761-7.163 5-16 5z\"></path>\n",
       "<path d=\"M16 26c-8.837 0-16-2.239-16-5v6c0 2.761 7.163 5 16 5s16-2.239 16-5v-6c0 2.761-7.163 5-16 5z\"></path>\n",
       "</symbol>\n",
       "<symbol id=\"icon-file-text2\" viewBox=\"0 0 32 32\">\n",
       "<path d=\"M28.681 7.159c-0.694-0.947-1.662-2.053-2.724-3.116s-2.169-2.030-3.116-2.724c-1.612-1.182-2.393-1.319-2.841-1.319h-15.5c-1.378 0-2.5 1.121-2.5 2.5v27c0 1.378 1.122 2.5 2.5 2.5h23c1.378 0 2.5-1.122 2.5-2.5v-19.5c0-0.448-0.137-1.23-1.319-2.841zM24.543 5.457c0.959 0.959 1.712 1.825 2.268 2.543h-4.811v-4.811c0.718 0.556 1.584 1.309 2.543 2.268zM28 29.5c0 0.271-0.229 0.5-0.5 0.5h-23c-0.271 0-0.5-0.229-0.5-0.5v-27c0-0.271 0.229-0.5 0.5-0.5 0 0 15.499-0 15.5 0v7c0 0.552 0.448 1 1 1h7v19.5z\"></path>\n",
       "<path d=\"M23 26h-14c-0.552 0-1-0.448-1-1s0.448-1 1-1h14c0.552 0 1 0.448 1 1s-0.448 1-1 1z\"></path>\n",
       "<path d=\"M23 22h-14c-0.552 0-1-0.448-1-1s0.448-1 1-1h14c0.552 0 1 0.448 1 1s-0.448 1-1 1z\"></path>\n",
       "<path d=\"M23 18h-14c-0.552 0-1-0.448-1-1s0.448-1 1-1h14c0.552 0 1 0.448 1 1s-0.448 1-1 1z\"></path>\n",
       "</symbol>\n",
       "</defs>\n",
       "</svg>\n",
       "<style>/* CSS stylesheet for displaying xarray objects in jupyterlab.\n",
       " *\n",
       " */\n",
       "\n",
       ":root {\n",
       "  --xr-font-color0: var(--jp-content-font-color0, rgba(0, 0, 0, 1));\n",
       "  --xr-font-color2: var(--jp-content-font-color2, rgba(0, 0, 0, 0.54));\n",
       "  --xr-font-color3: var(--jp-content-font-color3, rgba(0, 0, 0, 0.38));\n",
       "  --xr-border-color: var(--jp-border-color2, #e0e0e0);\n",
       "  --xr-disabled-color: var(--jp-layout-color3, #bdbdbd);\n",
       "  --xr-background-color: var(--jp-layout-color0, white);\n",
       "  --xr-background-color-row-even: var(--jp-layout-color1, white);\n",
       "  --xr-background-color-row-odd: var(--jp-layout-color2, #eeeeee);\n",
       "}\n",
       "\n",
       "html[theme=dark],\n",
       "body[data-theme=dark],\n",
       "body.vscode-dark {\n",
       "  --xr-font-color0: rgba(255, 255, 255, 1);\n",
       "  --xr-font-color2: rgba(255, 255, 255, 0.54);\n",
       "  --xr-font-color3: rgba(255, 255, 255, 0.38);\n",
       "  --xr-border-color: #1F1F1F;\n",
       "  --xr-disabled-color: #515151;\n",
       "  --xr-background-color: #111111;\n",
       "  --xr-background-color-row-even: #111111;\n",
       "  --xr-background-color-row-odd: #313131;\n",
       "}\n",
       "\n",
       ".xr-wrap {\n",
       "  display: block !important;\n",
       "  min-width: 300px;\n",
       "  max-width: 700px;\n",
       "}\n",
       "\n",
       ".xr-text-repr-fallback {\n",
       "  /* fallback to plain text repr when CSS is not injected (untrusted notebook) */\n",
       "  display: none;\n",
       "}\n",
       "\n",
       ".xr-header {\n",
       "  padding-top: 6px;\n",
       "  padding-bottom: 6px;\n",
       "  margin-bottom: 4px;\n",
       "  border-bottom: solid 1px var(--xr-border-color);\n",
       "}\n",
       "\n",
       ".xr-header > div,\n",
       ".xr-header > ul {\n",
       "  display: inline;\n",
       "  margin-top: 0;\n",
       "  margin-bottom: 0;\n",
       "}\n",
       "\n",
       ".xr-obj-type,\n",
       ".xr-array-name {\n",
       "  margin-left: 2px;\n",
       "  margin-right: 10px;\n",
       "}\n",
       "\n",
       ".xr-obj-type {\n",
       "  color: var(--xr-font-color2);\n",
       "}\n",
       "\n",
       ".xr-sections {\n",
       "  padding-left: 0 !important;\n",
       "  display: grid;\n",
       "  grid-template-columns: 150px auto auto 1fr 20px 20px;\n",
       "}\n",
       "\n",
       ".xr-section-item {\n",
       "  display: contents;\n",
       "}\n",
       "\n",
       ".xr-section-item input {\n",
       "  display: none;\n",
       "}\n",
       "\n",
       ".xr-section-item input + label {\n",
       "  color: var(--xr-disabled-color);\n",
       "}\n",
       "\n",
       ".xr-section-item input:enabled + label {\n",
       "  cursor: pointer;\n",
       "  color: var(--xr-font-color2);\n",
       "}\n",
       "\n",
       ".xr-section-item input:enabled + label:hover {\n",
       "  color: var(--xr-font-color0);\n",
       "}\n",
       "\n",
       ".xr-section-summary {\n",
       "  grid-column: 1;\n",
       "  color: var(--xr-font-color2);\n",
       "  font-weight: 500;\n",
       "}\n",
       "\n",
       ".xr-section-summary > span {\n",
       "  display: inline-block;\n",
       "  padding-left: 0.5em;\n",
       "}\n",
       "\n",
       ".xr-section-summary-in:disabled + label {\n",
       "  color: var(--xr-font-color2);\n",
       "}\n",
       "\n",
       ".xr-section-summary-in + label:before {\n",
       "  display: inline-block;\n",
       "  content: '►';\n",
       "  font-size: 11px;\n",
       "  width: 15px;\n",
       "  text-align: center;\n",
       "}\n",
       "\n",
       ".xr-section-summary-in:disabled + label:before {\n",
       "  color: var(--xr-disabled-color);\n",
       "}\n",
       "\n",
       ".xr-section-summary-in:checked + label:before {\n",
       "  content: '▼';\n",
       "}\n",
       "\n",
       ".xr-section-summary-in:checked + label > span {\n",
       "  display: none;\n",
       "}\n",
       "\n",
       ".xr-section-summary,\n",
       ".xr-section-inline-details {\n",
       "  padding-top: 4px;\n",
       "  padding-bottom: 4px;\n",
       "}\n",
       "\n",
       ".xr-section-inline-details {\n",
       "  grid-column: 2 / -1;\n",
       "}\n",
       "\n",
       ".xr-section-details {\n",
       "  display: none;\n",
       "  grid-column: 1 / -1;\n",
       "  margin-bottom: 5px;\n",
       "}\n",
       "\n",
       ".xr-section-summary-in:checked ~ .xr-section-details {\n",
       "  display: contents;\n",
       "}\n",
       "\n",
       ".xr-array-wrap {\n",
       "  grid-column: 1 / -1;\n",
       "  display: grid;\n",
       "  grid-template-columns: 20px auto;\n",
       "}\n",
       "\n",
       ".xr-array-wrap > label {\n",
       "  grid-column: 1;\n",
       "  vertical-align: top;\n",
       "}\n",
       "\n",
       ".xr-preview {\n",
       "  color: var(--xr-font-color3);\n",
       "}\n",
       "\n",
       ".xr-array-preview,\n",
       ".xr-array-data {\n",
       "  padding: 0 5px !important;\n",
       "  grid-column: 2;\n",
       "}\n",
       "\n",
       ".xr-array-data,\n",
       ".xr-array-in:checked ~ .xr-array-preview {\n",
       "  display: none;\n",
       "}\n",
       "\n",
       ".xr-array-in:checked ~ .xr-array-data,\n",
       ".xr-array-preview {\n",
       "  display: inline-block;\n",
       "}\n",
       "\n",
       ".xr-dim-list {\n",
       "  display: inline-block !important;\n",
       "  list-style: none;\n",
       "  padding: 0 !important;\n",
       "  margin: 0;\n",
       "}\n",
       "\n",
       ".xr-dim-list li {\n",
       "  display: inline-block;\n",
       "  padding: 0;\n",
       "  margin: 0;\n",
       "}\n",
       "\n",
       ".xr-dim-list:before {\n",
       "  content: '(';\n",
       "}\n",
       "\n",
       ".xr-dim-list:after {\n",
       "  content: ')';\n",
       "}\n",
       "\n",
       ".xr-dim-list li:not(:last-child):after {\n",
       "  content: ',';\n",
       "  padding-right: 5px;\n",
       "}\n",
       "\n",
       ".xr-has-index {\n",
       "  font-weight: bold;\n",
       "}\n",
       "\n",
       ".xr-var-list,\n",
       ".xr-var-item {\n",
       "  display: contents;\n",
       "}\n",
       "\n",
       ".xr-var-item > div,\n",
       ".xr-var-item label,\n",
       ".xr-var-item > .xr-var-name span {\n",
       "  background-color: var(--xr-background-color-row-even);\n",
       "  margin-bottom: 0;\n",
       "}\n",
       "\n",
       ".xr-var-item > .xr-var-name:hover span {\n",
       "  padding-right: 5px;\n",
       "}\n",
       "\n",
       ".xr-var-list > li:nth-child(odd) > div,\n",
       ".xr-var-list > li:nth-child(odd) > label,\n",
       ".xr-var-list > li:nth-child(odd) > .xr-var-name span {\n",
       "  background-color: var(--xr-background-color-row-odd);\n",
       "}\n",
       "\n",
       ".xr-var-name {\n",
       "  grid-column: 1;\n",
       "}\n",
       "\n",
       ".xr-var-dims {\n",
       "  grid-column: 2;\n",
       "}\n",
       "\n",
       ".xr-var-dtype {\n",
       "  grid-column: 3;\n",
       "  text-align: right;\n",
       "  color: var(--xr-font-color2);\n",
       "}\n",
       "\n",
       ".xr-var-preview {\n",
       "  grid-column: 4;\n",
       "}\n",
       "\n",
       ".xr-index-preview {\n",
       "  grid-column: 2 / 5;\n",
       "  color: var(--xr-font-color2);\n",
       "}\n",
       "\n",
       ".xr-var-name,\n",
       ".xr-var-dims,\n",
       ".xr-var-dtype,\n",
       ".xr-preview,\n",
       ".xr-attrs dt {\n",
       "  white-space: nowrap;\n",
       "  overflow: hidden;\n",
       "  text-overflow: ellipsis;\n",
       "  padding-right: 10px;\n",
       "}\n",
       "\n",
       ".xr-var-name:hover,\n",
       ".xr-var-dims:hover,\n",
       ".xr-var-dtype:hover,\n",
       ".xr-attrs dt:hover {\n",
       "  overflow: visible;\n",
       "  width: auto;\n",
       "  z-index: 1;\n",
       "}\n",
       "\n",
       ".xr-var-attrs,\n",
       ".xr-var-data,\n",
       ".xr-index-data {\n",
       "  display: none;\n",
       "  background-color: var(--xr-background-color) !important;\n",
       "  padding-bottom: 5px !important;\n",
       "}\n",
       "\n",
       ".xr-var-attrs-in:checked ~ .xr-var-attrs,\n",
       ".xr-var-data-in:checked ~ .xr-var-data,\n",
       ".xr-index-data-in:checked ~ .xr-index-data {\n",
       "  display: block;\n",
       "}\n",
       "\n",
       ".xr-var-data > table {\n",
       "  float: right;\n",
       "}\n",
       "\n",
       ".xr-var-name span,\n",
       ".xr-var-data,\n",
       ".xr-index-name div,\n",
       ".xr-index-data,\n",
       ".xr-attrs {\n",
       "  padding-left: 25px !important;\n",
       "}\n",
       "\n",
       ".xr-attrs,\n",
       ".xr-var-attrs,\n",
       ".xr-var-data,\n",
       ".xr-index-data {\n",
       "  grid-column: 1 / -1;\n",
       "}\n",
       "\n",
       "dl.xr-attrs {\n",
       "  padding: 0;\n",
       "  margin: 0;\n",
       "  display: grid;\n",
       "  grid-template-columns: 125px auto;\n",
       "}\n",
       "\n",
       ".xr-attrs dt,\n",
       ".xr-attrs dd {\n",
       "  padding: 0;\n",
       "  margin: 0;\n",
       "  float: left;\n",
       "  padding-right: 10px;\n",
       "  width: auto;\n",
       "}\n",
       "\n",
       ".xr-attrs dt {\n",
       "  font-weight: normal;\n",
       "  grid-column: 1;\n",
       "}\n",
       "\n",
       ".xr-attrs dt:hover span {\n",
       "  display: inline-block;\n",
       "  background: var(--xr-background-color);\n",
       "  padding-right: 10px;\n",
       "}\n",
       "\n",
       ".xr-attrs dd {\n",
       "  grid-column: 2;\n",
       "  white-space: pre-wrap;\n",
       "  word-break: break-all;\n",
       "}\n",
       "\n",
       ".xr-icon-database,\n",
       ".xr-icon-file-text2,\n",
       ".xr-no-icon {\n",
       "  display: inline-block;\n",
       "  vertical-align: middle;\n",
       "  width: 1em;\n",
       "  height: 1.5em !important;\n",
       "  stroke-width: 0;\n",
       "  stroke: currentColor;\n",
       "  fill: currentColor;\n",
       "}\n",
       "</style><pre class='xr-text-repr-fallback'>&lt;xarray.Dataset&gt;\n",
       "Dimensions:  (time: 1, lat: 201, lon: 201)\n",
       "Coordinates:\n",
       "  * lon      (lon) float64 -65.0 -64.95 -64.9 -64.85 ... -55.1 -55.05 -55.0\n",
       "  * lat      (lat) float64 33.0 33.05 33.1 33.15 33.2 ... 42.85 42.9 42.95 43.0\n",
       "  * time     (time) datetime64[ns] 2013-01-01\n",
       "Data variables:\n",
       "    ssh      (time, lat, lon) float64 0.5287 0.5287 0.523 ... -0.1701 -0.1701\n",
       "    ssh_pre  (time, lat, lon) float32 -0.04211 -0.0421 ... -0.03984 -0.03981\n",
       "    ssh_mlp  (time, lat, lon) float32 0.5488 0.543 0.5355 ... -0.1615 -0.1593</pre><div class='xr-wrap' style='display:none'><div class='xr-header'><div class='xr-obj-type'>xarray.Dataset</div></div><ul class='xr-sections'><li class='xr-section-item'><input id='section-4ff8135f-432c-430b-aa51-62c7b2325607' class='xr-section-summary-in' type='checkbox' disabled ><label for='section-4ff8135f-432c-430b-aa51-62c7b2325607' class='xr-section-summary'  title='Expand/collapse section'>Dimensions:</label><div class='xr-section-inline-details'><ul class='xr-dim-list'><li><span class='xr-has-index'>time</span>: 1</li><li><span class='xr-has-index'>lat</span>: 201</li><li><span class='xr-has-index'>lon</span>: 201</li></ul></div><div class='xr-section-details'></div></li><li class='xr-section-item'><input id='section-795d6c34-6536-4bb0-a941-654ba9ba422b' class='xr-section-summary-in' type='checkbox'  checked><label for='section-795d6c34-6536-4bb0-a941-654ba9ba422b' class='xr-section-summary' >Coordinates: <span>(3)</span></label><div class='xr-section-inline-details'></div><div class='xr-section-details'><ul class='xr-var-list'><li class='xr-var-item'><div class='xr-var-name'><span class='xr-has-index'>lon</span></div><div class='xr-var-dims'>(lon)</div><div class='xr-var-dtype'>float64</div><div class='xr-var-preview xr-preview'>-65.0 -64.95 -64.9 ... -55.05 -55.0</div><input id='attrs-d9b51bd5-20ec-4e09-b0bc-1e742452f86e' class='xr-var-attrs-in' type='checkbox' ><label for='attrs-d9b51bd5-20ec-4e09-b0bc-1e742452f86e' title='Show/Hide attributes'><svg class='icon xr-icon-file-text2'><use xlink:href='#icon-file-text2'></use></svg></label><input id='data-a721b2d5-1b7e-4973-8369-feabd81a1531' class='xr-var-data-in' type='checkbox'><label for='data-a721b2d5-1b7e-4973-8369-feabd81a1531' title='Show/Hide data repr'><svg class='icon xr-icon-database'><use xlink:href='#icon-database'></use></svg></label><div class='xr-var-attrs'><dl class='xr-attrs'><dt><span>units :</span></dt><dd>degrees_east</dd><dt><span>standard_name :</span></dt><dd>longitude</dd><dt><span>long_name :</span></dt><dd>Longitude</dd></dl></div><div class='xr-var-data'><pre>array([-65.  , -64.95, -64.9 , ..., -55.1 , -55.05, -55.  ])</pre></div></li><li class='xr-var-item'><div class='xr-var-name'><span class='xr-has-index'>lat</span></div><div class='xr-var-dims'>(lat)</div><div class='xr-var-dtype'>float64</div><div class='xr-var-preview xr-preview'>33.0 33.05 33.1 ... 42.9 42.95 43.0</div><input id='attrs-8f621368-b26d-42aa-83a9-af09c038047a' class='xr-var-attrs-in' type='checkbox' ><label for='attrs-8f621368-b26d-42aa-83a9-af09c038047a' title='Show/Hide attributes'><svg class='icon xr-icon-file-text2'><use xlink:href='#icon-file-text2'></use></svg></label><input id='data-b8904804-b3cf-48d4-955b-c1898fd17739' class='xr-var-data-in' type='checkbox'><label for='data-b8904804-b3cf-48d4-955b-c1898fd17739' title='Show/Hide data repr'><svg class='icon xr-icon-database'><use xlink:href='#icon-database'></use></svg></label><div class='xr-var-attrs'><dl class='xr-attrs'><dt><span>units :</span></dt><dd>degrees_west</dd><dt><span>standard_name :</span></dt><dd>latitude</dd><dt><span>long_name :</span></dt><dd>Latitude</dd></dl></div><div class='xr-var-data'><pre>array([33.  , 33.05, 33.1 , ..., 42.9 , 42.95, 43.  ])</pre></div></li><li class='xr-var-item'><div class='xr-var-name'><span class='xr-has-index'>time</span></div><div class='xr-var-dims'>(time)</div><div class='xr-var-dtype'>datetime64[ns]</div><div class='xr-var-preview xr-preview'>2013-01-01</div><input id='attrs-f6cf4248-23b8-4290-90ac-5df768f4f8b8' class='xr-var-attrs-in' type='checkbox' ><label for='attrs-f6cf4248-23b8-4290-90ac-5df768f4f8b8' title='Show/Hide attributes'><svg class='icon xr-icon-file-text2'><use xlink:href='#icon-file-text2'></use></svg></label><input id='data-d9d6d125-0146-46f0-b926-a90bd5b60476' class='xr-var-data-in' type='checkbox'><label for='data-d9d6d125-0146-46f0-b926-a90bd5b60476' title='Show/Hide data repr'><svg class='icon xr-icon-database'><use xlink:href='#icon-database'></use></svg></label><div class='xr-var-attrs'><dl class='xr-attrs'><dt><span>units :</span></dt><dd>seconds since 2013-01-01</dd></dl></div><div class='xr-var-data'><pre>array([&#x27;2013-01-01T00:00:00.000000000&#x27;], dtype=&#x27;datetime64[ns]&#x27;)</pre></div></li></ul></div></li><li class='xr-section-item'><input id='section-74b89f07-0fcd-4a6d-901c-e37493f25a87' class='xr-section-summary-in' type='checkbox'  checked><label for='section-74b89f07-0fcd-4a6d-901c-e37493f25a87' class='xr-section-summary' >Data variables: <span>(3)</span></label><div class='xr-section-inline-details'></div><div class='xr-section-details'><ul class='xr-var-list'><li class='xr-var-item'><div class='xr-var-name'><span>ssh</span></div><div class='xr-var-dims'>(time, lat, lon)</div><div class='xr-var-dtype'>float64</div><div class='xr-var-preview xr-preview'>0.5287 0.5287 ... -0.1701 -0.1701</div><input id='attrs-e45439f5-8998-48d6-a89e-67735d409de0' class='xr-var-attrs-in' type='checkbox' disabled><label for='attrs-e45439f5-8998-48d6-a89e-67735d409de0' title='Show/Hide attributes'><svg class='icon xr-icon-file-text2'><use xlink:href='#icon-file-text2'></use></svg></label><input id='data-80829a96-03ca-48e3-8d72-4676b66370be' class='xr-var-data-in' type='checkbox'><label for='data-80829a96-03ca-48e3-8d72-4676b66370be' title='Show/Hide data repr'><svg class='icon xr-icon-database'><use xlink:href='#icon-database'></use></svg></label><div class='xr-var-attrs'><dl class='xr-attrs'></dl></div><div class='xr-var-data'><pre>array([[[ 0.52873772,  0.52873772,  0.52296908, ...,  0.54119935,\n",
       "          0.54069369,  0.54069369],\n",
       "        [ 0.52873772,  0.52873772,  0.52296908, ...,  0.54119935,\n",
       "          0.54069369,  0.54069369],\n",
       "        [ 0.53865937,  0.53865937,  0.53179729, ...,  0.55031027,\n",
       "          0.5472362 ,  0.5472362 ],\n",
       "        ...,\n",
       "        [-0.14953106, -0.14953106, -0.14543525, ..., -0.17598568,\n",
       "         -0.17592814, -0.17592814],\n",
       "        [-0.15644282, -0.15644282, -0.15261082, ..., -0.16950291,\n",
       "         -0.17007242, -0.17007242],\n",
       "        [-0.15644282, -0.15644282, -0.15261082, ..., -0.16950291,\n",
       "         -0.17007242, -0.17007242]]])</pre></div></li><li class='xr-var-item'><div class='xr-var-name'><span>ssh_pre</span></div><div class='xr-var-dims'>(time, lat, lon)</div><div class='xr-var-dtype'>float32</div><div class='xr-var-preview xr-preview'>-0.04211 -0.0421 ... -0.03981</div><input id='attrs-4674a3e3-8c17-437d-b56e-8a26bb4a7e01' class='xr-var-attrs-in' type='checkbox' disabled><label for='attrs-4674a3e3-8c17-437d-b56e-8a26bb4a7e01' title='Show/Hide attributes'><svg class='icon xr-icon-file-text2'><use xlink:href='#icon-file-text2'></use></svg></label><input id='data-72323f02-5fa3-4b4e-8a4c-36f875758296' class='xr-var-data-in' type='checkbox'><label for='data-72323f02-5fa3-4b4e-8a4c-36f875758296' title='Show/Hide data repr'><svg class='icon xr-icon-database'><use xlink:href='#icon-database'></use></svg></label><div class='xr-var-attrs'><dl class='xr-attrs'></dl></div><div class='xr-var-data'><pre>array([[[-0.04211217, -0.04210046, -0.04208551, ..., -0.03780507,\n",
       "         -0.03778289, -0.03774431],\n",
       "        [-0.04205517, -0.04204015, -0.04202513, ..., -0.03781931,\n",
       "         -0.03779356, -0.03775497],\n",
       "        [-0.04199483, -0.04197993, -0.04196477, ..., -0.03783236,\n",
       "         -0.03780421, -0.03776562],\n",
       "        ...,\n",
       "        [-0.04458433, -0.04456766, -0.04455115, ..., -0.03989526,\n",
       "         -0.03986187, -0.03982964],\n",
       "        [-0.0446043 , -0.04458763, -0.04457111, ..., -0.03988568,\n",
       "         -0.03985323, -0.03982101],\n",
       "        [-0.04462426, -0.04460759, -0.04459105, ..., -0.03987689,\n",
       "         -0.03984462, -0.03981239]]], dtype=float32)</pre></div></li><li class='xr-var-item'><div class='xr-var-name'><span>ssh_mlp</span></div><div class='xr-var-dims'>(time, lat, lon)</div><div class='xr-var-dtype'>float32</div><div class='xr-var-preview xr-preview'>0.5488 0.543 ... -0.1615 -0.1593</div><input id='attrs-bb2c6819-79a4-4202-9432-16fa15c27efc' class='xr-var-attrs-in' type='checkbox' disabled><label for='attrs-bb2c6819-79a4-4202-9432-16fa15c27efc' title='Show/Hide attributes'><svg class='icon xr-icon-file-text2'><use xlink:href='#icon-file-text2'></use></svg></label><input id='data-9b97d55f-fbf5-4b6e-aca3-e03f94309c6f' class='xr-var-data-in' type='checkbox'><label for='data-9b97d55f-fbf5-4b6e-aca3-e03f94309c6f' title='Show/Hide data repr'><svg class='icon xr-icon-database'><use xlink:href='#icon-database'></use></svg></label><div class='xr-var-attrs'><dl class='xr-attrs'></dl></div><div class='xr-var-data'><pre>array([[[ 0.5488428 ,  0.54304546,  0.5354617 , ...,  0.5738971 ,\n",
       "          0.57589525,  0.5782987 ],\n",
       "        [ 0.54808766,  0.5422071 ,  0.53459525, ...,  0.5805601 ,\n",
       "          0.5814417 ,  0.5856366 ],\n",
       "        [ 0.55316144,  0.544704  ,  0.5344246 , ...,  0.5869087 ,\n",
       "          0.58940536,  0.59366304],\n",
       "        ...,\n",
       "        [-0.14343482, -0.14286944, -0.14328447, ..., -0.17531756,\n",
       "         -0.17495553, -0.17561796],\n",
       "        [-0.14795297, -0.14763284, -0.14773592, ..., -0.17243722,\n",
       "         -0.17006823, -0.16802837],\n",
       "        [-0.15249169, -0.15217172, -0.15206766, ..., -0.1639832 ,\n",
       "         -0.16152105, -0.15934393]]], dtype=float32)</pre></div></li></ul></div></li><li class='xr-section-item'><input id='section-fae36edd-e9b3-440f-b6b5-a9e9d01fb381' class='xr-section-summary-in' type='checkbox'  ><label for='section-fae36edd-e9b3-440f-b6b5-a9e9d01fb381' class='xr-section-summary' >Indexes: <span>(3)</span></label><div class='xr-section-inline-details'></div><div class='xr-section-details'><ul class='xr-var-list'><li class='xr-var-item'><div class='xr-index-name'><div>lon</div></div><div class='xr-index-preview'>PandasIndex</div><div></div><input id='index-ed14a0ee-acf4-429b-8349-a482ecdd79d0' class='xr-index-data-in' type='checkbox'/><label for='index-ed14a0ee-acf4-429b-8349-a482ecdd79d0' title='Show/Hide index repr'><svg class='icon xr-icon-database'><use xlink:href='#icon-database'></use></svg></label><div class='xr-index-data'><pre>PandasIndex(Float64Index([              -65.0,              -64.95,               -64.9,\n",
       "               -64.85000000000001,  -64.80000000000001,  -64.75000000000001,\n",
       "               -64.70000000000002,  -64.65000000000002,  -64.60000000000002,\n",
       "               -64.55000000000003,\n",
       "              ...\n",
       "               -55.45000000000054, -55.400000000000546,  -55.35000000000055,\n",
       "               -55.30000000000055, -55.250000000000554,  -55.20000000000056,\n",
       "               -55.15000000000056,  -55.10000000000056, -55.050000000000566,\n",
       "               -55.00000000000057],\n",
       "             dtype=&#x27;float64&#x27;, name=&#x27;lon&#x27;, length=201))</pre></div></li><li class='xr-var-item'><div class='xr-index-name'><div>lat</div></div><div class='xr-index-preview'>PandasIndex</div><div></div><input id='index-fbd02b63-a206-4b4d-936d-4bf180841258' class='xr-index-data-in' type='checkbox'/><label for='index-fbd02b63-a206-4b4d-936d-4bf180841258' title='Show/Hide index repr'><svg class='icon xr-icon-database'><use xlink:href='#icon-database'></use></svg></label><div class='xr-index-data'><pre>PandasIndex(Float64Index([              33.0,              33.05, 33.099999999999994,\n",
       "               33.14999999999999,  33.19999999999999, 33.249999999999986,\n",
       "               33.29999999999998,  33.34999999999998,  33.39999999999998,\n",
       "              33.449999999999974,\n",
       "              ...\n",
       "               42.54999999999944, 42.599999999999454, 42.649999999999466,\n",
       "               42.69999999999945,  42.74999999999943,  42.79999999999944,\n",
       "              42.849999999999454,  42.89999999999944,  42.94999999999942,\n",
       "               42.99999999999943],\n",
       "             dtype=&#x27;float64&#x27;, name=&#x27;lat&#x27;, length=201))</pre></div></li><li class='xr-var-item'><div class='xr-index-name'><div>time</div></div><div class='xr-index-preview'>PandasIndex</div><div></div><input id='index-e81ccc07-991c-457d-a5d1-fa16acb02ae2' class='xr-index-data-in' type='checkbox'/><label for='index-e81ccc07-991c-457d-a5d1-fa16acb02ae2' title='Show/Hide index repr'><svg class='icon xr-icon-database'><use xlink:href='#icon-database'></use></svg></label><div class='xr-index-data'><pre>PandasIndex(DatetimeIndex([&#x27;2013-01-01&#x27;], dtype=&#x27;datetime64[ns]&#x27;, name=&#x27;time&#x27;, freq=None))</pre></div></li></ul></div></li><li class='xr-section-item'><input id='section-8e731fd4-1ef0-4f59-9732-c70ba07a0f42' class='xr-section-summary-in' type='checkbox' disabled ><label for='section-8e731fd4-1ef0-4f59-9732-c70ba07a0f42' class='xr-section-summary'  title='Expand/collapse section'>Attributes: <span>(0)</span></label><div class='xr-section-inline-details'></div><div class='xr-section-details'><dl class='xr-attrs'></dl></div></li></ul></div></div>"
      ],
      "text/plain": [
       "<xarray.Dataset>\n",
       "Dimensions:  (time: 1, lat: 201, lon: 201)\n",
       "Coordinates:\n",
       "  * lon      (lon) float64 -65.0 -64.95 -64.9 -64.85 ... -55.1 -55.05 -55.0\n",
       "  * lat      (lat) float64 33.0 33.05 33.1 33.15 33.2 ... 42.85 42.9 42.95 43.0\n",
       "  * time     (time) datetime64[ns] 2013-01-01\n",
       "Data variables:\n",
       "    ssh      (time, lat, lon) float64 0.5287 0.5287 0.523 ... -0.1701 -0.1701\n",
       "    ssh_pre  (time, lat, lon) float32 -0.04211 -0.0421 ... -0.03984 -0.03981\n",
       "    ssh_mlp  (time, lat, lon) float32 0.5488 0.543 0.5355 ... -0.1615 -0.1593"
      ]
     },
     "execution_count": 33,
     "metadata": {},
     "output_type": "execute_result"
    }
   ],
   "source": [
    "xrda"
   ]
  },
  {
   "cell_type": "code",
   "execution_count": 34,
   "id": "bcfa275e-bf07-4dfb-b510-afb63393bff2",
   "metadata": {},
   "outputs": [],
   "source": [
    "ssh_fn_mlp = trainer.model"
   ]
  },
  {
   "cell_type": "code",
   "execution_count": 35,
   "id": "a4b59b43-807f-4e14-8b63-6cf8317925ff",
   "metadata": {},
   "outputs": [
    {
     "data": {
      "image/png": "[encoded data removed]",
      "text/plain": [
       "<Figure size 800x300 with 4 Axes>"
      ]
     },
     "metadata": {},
     "output_type": "display_data"
    }
   ],
   "source": [
    "fig, ax = plt.subplots(ncols=2, figsize=(8, 3))\n",
    "\n",
    "xrda.ssh.isel(time=0).plot.pcolormesh(ax=ax[0], cmap=\"viridis\")\n",
    "ax[0].set(title=\"Original\")\n",
    "\n",
    "xrda.ssh_mlp.isel(time=0).plot.pcolormesh(ax=ax[1], cmap=\"viridis\")\n",
    "ax[1].set(title=\"Naive MLP\")\n",
    "\n",
    "plt.tight_layout()\n",
    "plt.show()"
   ]
  },
  {
   "attachments": {},
   "cell_type": "markdown",
   "id": "1a76b7a8-9f75-4a3b-a57f-9e32aa816e97",
   "metadata": {},
   "source": [
    "```python\n",
    "class FftMseLoss(object):\n",
    "    \"\"\"\n",
    "    loss function in Fourier space\n",
    "\n",
    "    June 2022, F.Alesiani\n",
    "    \"\"\"\n",
    "    def __init__(self, reduction='mean'):\n",
    "        super(FftMseLoss, self).__init__()\n",
    "        #Dimension and Lp-norm type are postive\n",
    "        self.reduction = reduction\n",
    "    def __call__(self, x, y, flow=None,fhigh=None, eps=1e-20):\n",
    "        num_examples = x.size()[0]\n",
    "        others_dims = x.shape[1:-2]\n",
    "        for d in others_dims:\n",
    "            assert (d>1), \"we expect the dimension to be the same and greater the 1\"\n",
    "        # print(others_dims)\n",
    "        dims = list(range(1,len(x.shape)-1))\n",
    "        xf = torch.fft.fftn(x,dim=dims)\n",
    "        yf = torch.fft.fftn(y,dim=dims)\n",
    "        if flow is None: flow = 0\n",
    "        if fhigh is None: fhigh = np.max(xf.shape[1:])\n",
    "\n",
    "        if len(others_dims) ==1:\n",
    "            xf = xf[:,flow:fhigh]\n",
    "            yf = yf[:,flow:fhigh]        \n",
    "        if len(others_dims) ==2:\n",
    "            xf = xf[:,flow:fhigh,flow:fhigh]\n",
    "            yf = yf[:,flow:fhigh,flow:fhigh]\n",
    "        if len(others_dims) ==3:\n",
    "            xf = xf[:,flow:fhigh,flow:fhigh,flow:fhigh]\n",
    "            yf = yf[:,flow:fhigh,flow:fhigh,flow:fhigh]\n",
    "        if len(others_dims) ==4:\n",
    "            xf = xf[:,flow:fhigh,flow:fhigh,flow:fhigh,flow:fhigh]\n",
    "            yf = yf[:,flow:fhigh,flow:fhigh,flow:fhigh,flow:fhigh]\n",
    "        _diff = xf - yf\n",
    "        _diff = _diff.reshape(num_examples,-1).abs()**2\n",
    "        if self.reduction in ['mean']:\n",
    "            return torch.mean(_diff).abs()\n",
    "        if self.reduction in ['sum']:\n",
    "            return torch.sum(_diff).abs()\n",
    "        return _diff.abs()\n",
    "```"
   ]
  },
  {
   "attachments": {},
   "cell_type": "markdown",
   "id": "95b9d40e-c52c-4f22-a4a9-a8d7234b40d1",
   "metadata": {},
   "source": [
    "```python\n",
    "    if len(idxs) == 4:  # 1D\n",
    "        nx = idxs[2]\n",
    "        pred_F = torch.fft.rfft(pred, dim=2)\n",
    "        target_F = torch.fft.rfft(target, dim=2)\n",
    "        _err_F = torch.sqrt(torch.mean(torch.abs(pred_F - target_F) ** 2, axis=0)) / nx * Lx\n",
    "    if len(idxs) == 5:  # 2D\n",
    "        pred_F = torch.fft.fftn(pred, dim=[2, 3])\n",
    "        target_F = torch.fft.fftn(target, dim=[2, 3])\n",
    "        nx, ny = idxs[2:4]\n",
    "        _err_F = torch.abs(pred_F - target_F) ** 2\n",
    "        err_F = torch.zeros([nb, nc, min(nx // 2, ny // 2), nt]).to(device)\n",
    "        for i in range(nx // 2):\n",
    "            for j in range(ny // 2):\n",
    "                it = mt.floor(mt.sqrt(i ** 2 + j ** 2))\n",
    "                if it > min(nx // 2, ny // 2) - 1:\n",
    "                    continue\n",
    "                err_F[:, :, it] += _err_F[:, :, i, j]\n",
    "        _err_F = torch.sqrt(torch.mean(err_F, axis=0)) / (nx * ny) * Lx * Ly\n",
    "```"
   ]
  },
  {
   "cell_type": "code",
   "execution_count": null,
   "id": "a6f963cc-3cba-4fdf-928f-4fe2579dc408",
   "metadata": {},
   "outputs": [],
   "source": [
    "def fft_mse_1D_red():\n",
    "    \n",
    "    return loss"
   ]
  },
  {
   "cell_type": "code",
   "execution_count": 78,
   "id": "4747bd92-5eee-42cd-b4c7-57174eb879ff",
   "metadata": {},
   "outputs": [
    {
     "data": {
      "text/plain": [
       "(1, 201, 201)"
      ]
     },
     "execution_count": 78,
     "metadata": {},
     "output_type": "execute_result"
    }
   ],
   "source": [
    "xrda.ssh.data.shape"
   ]
  },
  {
   "cell_type": "code",
   "execution_count": 60,
   "id": "959682ac-f23c-49b9-b408-4bd126d74dfc",
   "metadata": {},
   "outputs": [
    {
     "name": "stdout",
     "output_type": "stream",
     "text": [
      "(-4409.288-7171.893j) (15479.882+0j)\n",
      "(-4409.288-7171.893j) (15479.882+0j)\n"
     ]
    },
    {
     "data": {
      "text/plain": [
       "(Array(8.443195, dtype=float32), Array(8403.085, dtype=float32))"
      ]
     },
     "execution_count": 60,
     "metadata": {},
     "output_type": "execute_result"
    }
   ],
   "source": [
    "loss_mlp = fft_mse_1D(xrda.ssh.data.ravel(), xrda.ssh_mlp.data.ravel())\n",
    "loss_pre = fft_mse_1D(xrda.ssh.data.ravel(), xrda.ssh_pre.data.ravel())\n",
    "\n",
    "loss_mlp, loss_pre"
   ]
  },
  {
   "cell_type": "code",
   "execution_count": 55,
   "id": "67141cc7-60b5-4eae-be66-b14a483caed5",
   "metadata": {},
   "outputs": [
    {
     "data": {
      "text/plain": [
       "((1, 201, 201), (1, 201, 201), (1, 201, 201))"
      ]
     },
     "execution_count": 55,
     "metadata": {},
     "output_type": "execute_result"
    }
   ],
   "source": [
    "\n",
    "ssh_f = np.fft.fftn(xrda.ssh.data)\n",
    "ssh_mlp_f = np.fft.fftn(xrda.ssh_mlp.data)\n",
    "ssh_pre_f = np.fft.fftn(xrda.ssh_pre.data)\n",
    "\n",
    "ssh_f.shape, ssh_mlp_f.shape, ssh_pre_f.shape"
   ]
  },
  {
   "cell_type": "code",
   "execution_count": 64,
   "id": "28884889-f25f-498e-bc34-eb41c5705241",
   "metadata": {},
   "outputs": [
    {
     "data": {
      "text/plain": [
       "(0, 201)"
      ]
     },
     "execution_count": 64,
     "metadata": {},
     "output_type": "execute_result"
    }
   ],
   "source": [
    "flow = 0\n",
    "fhigh = np.max(ssh_f.shape[1:])\n",
    "flow, fhigh"
   ]
  },
  {
   "cell_type": "code",
   "execution_count": 71,
   "id": "11ce9d95-8fad-42ce-a55b-463afdd0f763",
   "metadata": {},
   "outputs": [
    {
     "data": {
      "text/plain": [
       "((1, 201, 201), (1, 201, 201), (1, 201, 201))"
      ]
     },
     "execution_count": 71,
     "metadata": {},
     "output_type": "execute_result"
    }
   ],
   "source": [
    "ssh_f_red = ssh_f[:, flow:fhigh, flow:fhigh]\n",
    "ssh_mlp_f_red = ssh_mlp_f[:, flow:fhigh, flow:fhigh]\n",
    "ssh_pre_f_red = ssh_pre_f[:, flow:fhigh, flow:fhigh]\n",
    "ssh_f_red.shape, ssh_mlp_f_red.shape, ssh_pre_f_red.shape"
   ]
  },
  {
   "cell_type": "code",
   "execution_count": 73,
   "id": "c7fd4cda-eca3-47cd-a0c3-3f589ec239c5",
   "metadata": {},
   "outputs": [],
   "source": [
    "diff_mlp = ssh_f_red - ssh_mlp_f_red\n",
    "diff_pre = ssh_f_red - ssh_pre_f_red"
   ]
  },
  {
   "cell_type": "code",
   "execution_count": 75,
   "id": "0aac65a0-d2d7-44ca-8a98-1dbc041f04ce",
   "metadata": {},
   "outputs": [
    {
     "data": {
      "text/plain": [
       "0.020105064149144113"
      ]
     },
     "execution_count": 75,
     "metadata": {},
     "output_type": "execute_result"
    }
   ],
   "source": [
    "np.abs(np.mean(diff_mlp))"
   ]
  },
  {
   "cell_type": "code",
   "execution_count": 76,
   "id": "4873955b-ec08-499d-93c8-80f393b82c76",
   "metadata": {},
   "outputs": [
    {
     "data": {
      "text/plain": [
       "0.5708498952434036"
      ]
     },
     "execution_count": 76,
     "metadata": {},
     "output_type": "execute_result"
    }
   ],
   "source": [
    "np.abs(np.mean(diff_pre))"
   ]
  },
  {
   "attachments": {},
   "cell_type": "markdown",
   "id": "49b0740a-035b-4439-99a0-ecaf359e7348",
   "metadata": {},
   "source": [
    "### Random Fourier Features"
   ]
  },
  {
   "attachments": {},
   "cell_type": "markdown",
   "id": "ce6f5e9a-992f-4fc8-a8b7-8c1dc43c33b3",
   "metadata": {},
   "source": [
    "$$\n",
    "\\boldsymbol{\\phi}(\\mathbf{x}) = \n",
    "\\sqrt{\\frac{\\sigma^2}{N_{RF}}}\n",
    "\\left[\n",
    "\\cos(\\boldsymbol{\\Omega}\\mathbf{x}),\n",
    "\\sin(\\boldsymbol{\\Omega}\\mathbf{x})\n",
    "\\right]\n",
    "$$\n",
    "\n",
    "where $\\boldsymbol{\\Omega}$ is a random matrix sampled from a Gaussian distribution.\n",
    "\n",
    "$$\n",
    "\\begin{aligned}\n",
    "p(\\Omega)&\\sim\\mathcal{N}(0,\\boldsymbol{\\Lambda}^{-1}_D) \\\\\n",
    "\\boldsymbol{\\Lambda}_D &= \\text{diag}\n",
    "\\left(\\lambda_1, \\lambda_2, \\ldots, \\lambda_D\\right)\n",
    "\\end{aligned}\n",
    "$$"
   ]
  },
  {
   "attachments": {},
   "cell_type": "markdown",
   "id": "bb975740-7f4f-47b3-9401-6c6f6a27004a",
   "metadata": {},
   "source": [
    "So our final neural network with the additional basis function:\n",
    "\n",
    "$$\n",
    "\\boldsymbol{f}(\\mathbf{x};\\boldsymbol{\\theta}) =\n",
    "\\mathbf{w}^\\top\\boldsymbol{\\phi}(\\mathbf{x})+\\mathbf{b}\n",
    "$$\n",
    "\n",
    "where $\\boldsymbol{\\phi}(\\cdot)$ is the learned *basis network*."
   ]
  },
  {
   "cell_type": "code",
   "execution_count": null,
   "id": "c539b1ac-a3c8-454a-81db-e9dd646d1191",
   "metadata": {},
   "outputs": [],
   "source": [
    "# load config\n",
    "model_config = OmegaConf.load(\"./configs/model.yaml\")\n",
    "\n",
    "# instantiate\n",
    "model_ffn = hydra.utils.instantiate(model_config.ffn)\n",
    "\n",
    "# test output\n",
    "out = model_ffn(x=x_init[0], t=t_init[0])\n",
    "assert out.shape == y_init[0].shape\n",
    "\n",
    "# test output (batched)\n",
    "out_batch = jax.vmap(model_ffn, in_axes=(0, 0))(x_init, t_init)\n",
    "assert out_batch.shape == y_init.shape"
   ]
  },
  {
   "cell_type": "code",
   "execution_count": null,
   "id": "21745e2c-1e75-40e7-9720-766872d90763",
   "metadata": {
    "jupyter": {
     "outputs_hidden": false
    }
   },
   "outputs": [],
   "source": [
    "seed = 123\n",
    "debug = False\n",
    "enable_progress_bar = False\n",
    "log_dir = \"./\"\n",
    "\n",
    "trainer = RegressorTrainer(\n",
    "    model_ffn,\n",
    "    optimizer,\n",
    "    seed=seed,\n",
    "    debug=debug,\n",
    "    enable_progress_bar=enable_progress_bar,\n",
    "    log_dir=log_dir,\n",
    ")\n",
    "\n",
    "train_more = False"
   ]
  },
  {
   "cell_type": "code",
   "execution_count": null,
   "id": "6f616738-1fb9-4b4d-a7cb-6c8e5c96b5f5",
   "metadata": {},
   "outputs": [],
   "source": [
    "%%time\n",
    "\n",
    "\n",
    "out, metrics = trainer.test_model(dm.test_dataloader())\n",
    "metrics"
   ]
  },
  {
   "cell_type": "code",
   "execution_count": null,
   "id": "93e2bd25-3110-4579-9517-e965beead1f5",
   "metadata": {},
   "outputs": [],
   "source": [
    "try:\n",
    "    trainer.load_model(\"./checkpoints/checkpoint_model_rff_ssh.ckpt\")\n",
    "except:\n",
    "    pass"
   ]
  },
  {
   "cell_type": "code",
   "execution_count": null,
   "id": "671aa7f1-3b70-415d-8d65-783a1f6f8d8c",
   "metadata": {},
   "outputs": [],
   "source": [
    "%%time\n",
    "\n",
    "\n",
    "out, metrics = trainer.test_model(dm.test_dataloader())\n",
    "metrics"
   ]
  },
  {
   "cell_type": "code",
   "execution_count": null,
   "id": "cdccbfc9-f0ec-462d-b03e-62255d8064b6",
   "metadata": {
    "tags": []
   },
   "outputs": [],
   "source": [
    "%%time\n",
    "\n",
    "if train_more:\n",
    "    metrics = trainer.train_model(dm, num_epochs=num_epochs)"
   ]
  },
  {
   "cell_type": "code",
   "execution_count": null,
   "id": "08712e1b-e9f5-42b9-9fdd-b08daf269ee6",
   "metadata": {},
   "outputs": [],
   "source": [
    "out, metrics = trainer.test_model(dm.test_dataloader())\n",
    "\n",
    "metrics"
   ]
  },
  {
   "cell_type": "code",
   "execution_count": null,
   "id": "b4dd4aa9-16f7-42a3-9c02-87783302ddfe",
   "metadata": {
    "jupyter": {
     "outputs_hidden": false
    }
   },
   "outputs": [],
   "source": [
    "if train_more:\n",
    "    trainer.save_model(\"./checkpoints/checkpoint_model_rff_ssh.ckpt\")"
   ]
  },
  {
   "cell_type": "code",
   "execution_count": null,
   "id": "20119d69-c024-435f-9c92-720bc2cc8662",
   "metadata": {},
   "outputs": [],
   "source": [
    "all_metrics = pd.concat(\n",
    "    [\n",
    "        all_metrics,\n",
    "        pd.DataFrame(\n",
    "            data=[[\"rff\", metrics[\"loss\"], metrics[\"psnr\"]]],\n",
    "            columns=[\"model\", \"MSE\", \"PSNR\"],\n",
    "        ),\n",
    "    ]\n",
    ")"
   ]
  },
  {
   "cell_type": "code",
   "execution_count": null,
   "id": "888e6615-4935-464f-b2b5-5d5fb4e68b95",
   "metadata": {},
   "outputs": [],
   "source": [
    "all_metrics"
   ]
  },
  {
   "cell_type": "code",
   "execution_count": null,
   "id": "69cf8d86-ad28-45bf-9989-27db34a68df8",
   "metadata": {},
   "outputs": [],
   "source": [
    "xrda[\"ssh_rfe\"] = ((\"time\", \"lat\", \"lon\"), dm.data_to_df(out).to_xarray().ssh.data)\n",
    "xrda[\"ssh_rfe\"].attrs[\"standard_name\"] = \"Sea Surface Height\""
   ]
  },
  {
   "cell_type": "code",
   "execution_count": null,
   "id": "55a836ce-ef42-4e2c-a111-44d0d5cabd19",
   "metadata": {},
   "outputs": [],
   "source": [
    "ssh_fn_rff = trainer.model"
   ]
  },
  {
   "cell_type": "code",
   "execution_count": null,
   "id": "3f5638f5-f75b-46ea-aeff-02e1c0ddd77b",
   "metadata": {},
   "outputs": [],
   "source": [
    "fig, ax = plt.subplots(ncols=3, figsize=(12, 3))\n",
    "\n",
    "xrda.ssh.isel(time=0).plot.pcolormesh(ax=ax[0], cmap=\"viridis\")\n",
    "ax[0].set(title=\"Original\")\n",
    "\n",
    "xrda.ssh_mlp.isel(time=0).plot.pcolormesh(ax=ax[1], cmap=\"viridis\")\n",
    "ax[1].set(title=\"Naive MLP\")\n",
    "\n",
    "xrda.ssh_rfe.isel(time=0).plot.pcolormesh(ax=ax[2], cmap=\"viridis\")\n",
    "ax[2].set(title=\"Fourier Features\")\n",
    "\n",
    "\n",
    "plt.tight_layout()\n",
    "plt.show()"
   ]
  },
  {
   "attachments": {},
   "cell_type": "markdown",
   "id": "aee465bc-65c6-4a7f-8ae7-f79c05f15ec3",
   "metadata": {
    "user_expressions": []
   },
   "source": [
    "## Custom Activation Functions"
   ]
  },
  {
   "attachments": {},
   "cell_type": "markdown",
   "id": "3c9bd6e1-940d-4f37-8492-fbbdcf35727d",
   "metadata": {
    "user_expressions": []
   },
   "source": [
    "\n",
    "**SIREN**\n",
    "\n",
    "One of the most famous methods is the SIREN method. This replaces the standard activation function, $\\sigma$, with a sinusoidal function.\n",
    "\n",
    "$$\n",
    "\\phi(\\mathbf{x})_\\ell = \\sin \n",
    "\\left( \\omega_\\ell\\left( \n",
    "\\mathbf{w}_\\ell\\mathbf{x} + \\mathbf{b}_\\ell\n",
    "\\right)\\right)\n",
    "$$"
   ]
  },
  {
   "attachments": {},
   "cell_type": "markdown",
   "id": "b1b6c360-4957-4bd0-9ab0-a507efe4e018",
   "metadata": {},
   "source": [
    "So our final neural network with the additional basis function:\n",
    "\n",
    "$$\n",
    "\\boldsymbol{f}(\\mathbf{x};\\boldsymbol{\\theta}) =\n",
    "\\mathbf{w}^\\top\\boldsymbol{\\phi}(\\mathbf{x})+\\mathbf{b}\n",
    "$$\n",
    "\n",
    "where $\\boldsymbol{\\phi}(\\cdot)$ is the learned *basis network*."
   ]
  },
  {
   "cell_type": "code",
   "execution_count": null,
   "id": "d9fe1f89-29aa-4841-aa71-73fb0fe5354f",
   "metadata": {},
   "outputs": [],
   "source": [
    "# load config\n",
    "model_config = OmegaConf.load(\"./configs/model.yaml\")\n",
    "\n",
    "# instantiate\n",
    "model_siren = hydra.utils.instantiate(model_config.siren)\n",
    "\n",
    "# test output\n",
    "out = model_siren(x=x_init[0], t=t_init[0])\n",
    "assert out.shape == y_init[0].shape\n",
    "\n",
    "# test output (batched)\n",
    "out_batch = jax.vmap(model_siren, in_axes=(0, 0))(x_init, t_init)\n",
    "assert out_batch.shape == y_init.shape"
   ]
  },
  {
   "cell_type": "code",
   "execution_count": null,
   "id": "5a925a34-2077-4f24-b0cb-8909e0b67ae4",
   "metadata": {
    "jupyter": {
     "outputs_hidden": false
    }
   },
   "outputs": [],
   "source": [
    "seed = 123\n",
    "debug = False\n",
    "enable_progress_bar = False\n",
    "log_dir = \"./\"\n",
    "\n",
    "trainer = RegressorTrainer(\n",
    "    model_siren,\n",
    "    optimizer,\n",
    "    seed=seed,\n",
    "    debug=debug,\n",
    "    enable_progress_bar=enable_progress_bar,\n",
    "    log_dir=log_dir,\n",
    ")\n",
    "\n",
    "train_more = False"
   ]
  },
  {
   "cell_type": "code",
   "execution_count": null,
   "id": "636fe3c7-e15d-4103-b1c9-f1a6bcfab918",
   "metadata": {},
   "outputs": [],
   "source": [
    "%%time\n",
    "\n",
    "\n",
    "out, metrics = trainer.test_model(dm.test_dataloader())\n",
    "metrics"
   ]
  },
  {
   "cell_type": "code",
   "execution_count": null,
   "id": "af8a3b2d-14a4-4e2e-91e8-73aeb6a6ae3e",
   "metadata": {},
   "outputs": [],
   "source": [
    "try:\n",
    "    trainer.load_model(\"./checkpoints/checkpoint_model_siren_ssh.ckpt\")\n",
    "except:\n",
    "    pass"
   ]
  },
  {
   "cell_type": "code",
   "execution_count": null,
   "id": "1511c57b-c4a3-45ae-9181-5411a885647d",
   "metadata": {},
   "outputs": [],
   "source": [
    "%%time\n",
    "\n",
    "\n",
    "out, metrics = trainer.test_model(dm.test_dataloader())\n",
    "metrics"
   ]
  },
  {
   "cell_type": "code",
   "execution_count": null,
   "id": "03a74d9d-7e3c-467f-9072-fd5469036def",
   "metadata": {
    "tags": []
   },
   "outputs": [],
   "source": [
    "%%time\n",
    "\n",
    "if train_more:\n",
    "    metrics = trainer.train_model(dm, num_epochs=num_epochs)"
   ]
  },
  {
   "cell_type": "code",
   "execution_count": null,
   "id": "7cef59a1-04ff-4db0-aa36-45dd5b6e9469",
   "metadata": {},
   "outputs": [],
   "source": [
    "out, metrics = trainer.test_model(dm.test_dataloader())\n",
    "\n",
    "metrics"
   ]
  },
  {
   "cell_type": "code",
   "execution_count": null,
   "id": "f5060a08-5bc1-4bb1-bafa-7140815ea872",
   "metadata": {},
   "outputs": [],
   "source": [
    "all_metrics = pd.concat(\n",
    "    [\n",
    "        all_metrics,\n",
    "        pd.DataFrame(\n",
    "            data=[[\"siren\", metrics[\"loss\"], metrics[\"psnr\"]]],\n",
    "            columns=[\"model\", \"MSE\", \"PSNR\"],\n",
    "        ),\n",
    "    ]\n",
    ")"
   ]
  },
  {
   "cell_type": "code",
   "execution_count": null,
   "id": "947b27f6-41c6-41f1-b38d-d4dd2bf7d6bb",
   "metadata": {},
   "outputs": [],
   "source": [
    "all_metrics"
   ]
  },
  {
   "cell_type": "code",
   "execution_count": null,
   "id": "1d2afeab-8c64-4aab-b99a-db065297da1b",
   "metadata": {
    "jupyter": {
     "outputs_hidden": false
    }
   },
   "outputs": [],
   "source": [
    "if train_more:\n",
    "    trainer.save_model(\"./checkpoints/checkpoint_model_siren_ssh.ckpt\")"
   ]
  },
  {
   "cell_type": "code",
   "execution_count": null,
   "id": "0423dfbd-9850-48ae-9b82-5e607466ed1d",
   "metadata": {},
   "outputs": [],
   "source": [
    "xrda[\"ssh_siren\"] = ((\"time\", \"lat\", \"lon\"), dm.data_to_df(out).to_xarray().ssh.data)\n",
    "xrda[\"ssh_siren\"].attrs[\"standard_name\"] = \"Sea Surface Height\""
   ]
  },
  {
   "cell_type": "code",
   "execution_count": null,
   "id": "733da1df-ce68-4949-b1ba-b41c9b7ab6a7",
   "metadata": {},
   "outputs": [],
   "source": [
    "ssh_fn_siren = trainer.model"
   ]
  },
  {
   "cell_type": "code",
   "execution_count": null,
   "id": "8587bbbd-9415-40e3-9867-c56363ee1258",
   "metadata": {},
   "outputs": [],
   "source": [
    "fig, ax = plt.subplots(ncols=4, figsize=(16, 3))\n",
    "\n",
    "xrda.ssh.isel(time=0).plot.pcolormesh(ax=ax[0], cmap=\"viridis\")\n",
    "ax[0].set(title=\"Original\")\n",
    "\n",
    "xrda.ssh_mlp.isel(time=0).plot.pcolormesh(ax=ax[1], cmap=\"viridis\")\n",
    "ax[1].set(title=\"Naive MLP\")\n",
    "\n",
    "xrda.ssh_rfe.isel(time=0).plot.pcolormesh(ax=ax[2], cmap=\"viridis\")\n",
    "ax[2].set(title=\"Fourier Features\")\n",
    "\n",
    "xrda.ssh_siren.isel(time=0).plot.pcolormesh(ax=ax[3], cmap=\"viridis\")\n",
    "ax[3].set(title=\"Siren\")\n",
    "\n",
    "\n",
    "plt.tight_layout()\n",
    "plt.show()"
   ]
  },
  {
   "attachments": {},
   "cell_type": "markdown",
   "id": "7ac6c477-117e-4a99-8490-8fe35a0f4235",
   "metadata": {
    "tags": []
   },
   "source": [
    "## Derived Variables"
   ]
  },
  {
   "cell_type": "code",
   "execution_count": null,
   "id": "d480ff57-84aa-4540-ad3c-63d6447ad289",
   "metadata": {},
   "outputs": [],
   "source": [
    "# create function\n",
    "ssh_fn: tp.Callable = ssh_fn_siren  # ssh_fn_mlp #  ssh_fn_rff #"
   ]
  },
  {
   "attachments": {},
   "cell_type": "markdown",
   "id": "19d270e8-cc46-4685-b6ff-db741253db85",
   "metadata": {},
   "source": [
    "**Domain**\n",
    "\n",
    "$$\n",
    "\\begin{aligned}\n",
    "\\text{Spatial}[m]: && \n",
    "\\mathbf{x} &\\in\\Omega\\in\\mathbb{R}^{D}\n",
    "\\end{aligned}\n",
    "$$\n",
    "\n",
    "$$\n",
    "\\mathbf{x} = \n",
    "\\begin{bmatrix}\n",
    "\\text{lat} \\\\ \\text{lon}\n",
    "\\end{bmatrix}\n",
    "$$\n",
    "\n",
    "\n",
    "\n",
    "\n"
   ]
  },
  {
   "attachments": {},
   "cell_type": "markdown",
   "id": "71c53480-ba45-423a-8266-18acd348e968",
   "metadata": {},
   "source": [
    "\n",
    "**Sea Surface Height**\n",
    "\n",
    "The proper sea surface height equation is given by:\n",
    "\n",
    "$$\n",
    "\\begin{aligned}\n",
    "\\text{Sea Surface Height}[m]: && \n",
    "\\eta &=\\boldsymbol{\\eta}(\\vec{\\mathbf{x}},t) && && \n",
    "\\boldsymbol{\\eta}: \\boldsymbol{\\Omega}\\times\\boldsymbol{T}\\rightarrow\\mathbb{R}\n",
    "\\end{aligned}\n",
    "$$\n",
    "\n",
    "Here, we learned a parameterized function, $\\boldsymbol{f_\\theta}(\\cdot)$, as a substitute for the true field. This is given by:\n",
    "\n",
    "$$\n",
    "\\begin{aligned}\n",
    "\\boldsymbol{f} &=\\boldsymbol{f}(\\vec{\\mathbf{x}},t;\\boldsymbol{\\theta})\n",
    "&& && \n",
    "\\boldsymbol{f}: \\boldsymbol{\\Omega}\\times\\boldsymbol{T}\\times\\boldsymbol{\\Theta}\\rightarrow\\mathbb{R}\n",
    "\\end{aligned}\n",
    "$$"
   ]
  },
  {
   "cell_type": "code",
   "execution_count": null,
   "id": "b35732b3-29a3-4fdc-9149-a5bcecf1e39d",
   "metadata": {},
   "outputs": [],
   "source": [
    "# create FAST batched function\n",
    "ssh_fn_batch: tp.Callable = jax.vmap(ssh_fn, in_axes=(0, 0))\n",
    "\n",
    "# make it FAST!\n",
    "ssh_fn_batch: tp.Callable = jax.jit(ssh_fn_batch, backend=\"cpu\")\n",
    "\n",
    "# predict on the batch of coordinates\n",
    "ssh: Array = ssh_fn_batch(dm.ds_test[:][\"spatial\"], dm.ds_test[:][\"temporal\"])"
   ]
  },
  {
   "cell_type": "code",
   "execution_count": null,
   "id": "2b4162b7-566b-4085-8412-fb3e0bb2d19b",
   "metadata": {},
   "outputs": [],
   "source": [
    "def make_vmap_st(f):\n",
    "    return jax.vmap(f, in_axes=(0, 0))\n",
    "\n",
    "\n",
    "def make_jit_cpu(f):\n",
    "    return jax.jit(f, backend=\"cpu\")"
   ]
  },
  {
   "cell_type": "code",
   "execution_count": null,
   "id": "c8d878f3-0d88-4314-850e-ce23c3cdcdf3",
   "metadata": {},
   "outputs": [],
   "source": [
    "# create data array\n",
    "xr_ssh: xr.Dataset = dm.data_to_df(ssh).to_xarray().ssh\n",
    "\n",
    "# quick plot\n",
    "xr_ssh.isel(time=0).plot.pcolormesh(cmap=\"viridis\")"
   ]
  },
  {
   "attachments": {},
   "cell_type": "markdown",
   "id": "07ceb007-3cb0-42c3-8edf-5cb3de692319",
   "metadata": {},
   "source": [
    "**INTERLUDE**: We can query wherever we want!"
   ]
  },
  {
   "cell_type": "code",
   "execution_count": null,
   "id": "bbea0fe4-ba45-4fd6-9692-defb170c0959",
   "metadata": {},
   "outputs": [],
   "source": [
    "num_x = 500\n",
    "num_y = 500\n",
    "num_t = 1\n",
    "x_coords = np.linspace(-0.5, 0.5, num_x)\n",
    "y_coords = np.linspace(-0.5, 0.5, num_y)\n",
    "t_coords = np.linspace(0, 0, num_t)"
   ]
  },
  {
   "cell_type": "code",
   "execution_count": null,
   "id": "80ba6638-cfe5-4514-8209-18a63f22d985",
   "metadata": {},
   "outputs": [],
   "source": [
    "import einops\n",
    "\n",
    "# create coordinates\n",
    "XYT = np.meshgrid(x_coords, y_coords, t_coords, indexing=\"ij\")\n",
    "\n",
    "XYT = np.stack(XYT, axis=-1)\n",
    "\n",
    "# XY, T = XYT[..., :-1], XYT[..., -1]\n",
    "\n",
    "XYT = einops.rearrange(XYT, \"H W T D -> (H W T) D\")\n",
    "\n",
    "XY, T = XYT[..., :-1], XYT[..., -1]\n",
    "XY.shape, T.shape"
   ]
  },
  {
   "cell_type": "code",
   "execution_count": null,
   "id": "5ee6fa28-4a95-4ebb-9e40-28cc6fdf8608",
   "metadata": {},
   "outputs": [],
   "source": [
    "out = ssh_fn_batch(XY, T)\n",
    "print(out.shape)\n",
    "out = einops.rearrange(out, \"(H W T) D -> H W T D\", H=num_x, W=num_y, T=num_t)\n",
    "out.shape"
   ]
  },
  {
   "cell_type": "code",
   "execution_count": null,
   "id": "24ea7b5e-014d-46c3-83a9-1c21026b8122",
   "metadata": {},
   "outputs": [],
   "source": [
    "%matplotlib inline\n",
    "plt.scatter(XY[..., 1], XY[..., 0], c=out.squeeze())"
   ]
  },
  {
   "attachments": {},
   "cell_type": "markdown",
   "id": "38c6e8af-f6c4-4599-a315-8487d08cddf4",
   "metadata": {},
   "source": [
    "### Stream Function"
   ]
  },
  {
   "attachments": {},
   "cell_type": "markdown",
   "id": "d9be5fd6-9a3a-41ed-94e1-cfd8fd6ec356",
   "metadata": {},
   "source": [
    "$$\n",
    "\\begin{aligned}\n",
    "\\text{Stream Function }[ms^{-1}]: && \n",
    "\\psi &=\\boldsymbol{\\psi}(\\vec{\\mathbf{x}},t) && && \n",
    "\\boldsymbol{\\psi}: \\boldsymbol{\\Omega}\\times\\boldsymbol{T}\\rightarrow\\mathbb{R}\n",
    "\\end{aligned}\n",
    "$$\n",
    "\n",
    "\n",
    "$$\n",
    "\\psi = \\frac{g}{f_0}\\eta\n",
    "$$\n"
   ]
  },
  {
   "cell_type": "code",
   "execution_count": null,
   "id": "10589927-2bfb-4f4c-9019-bdc9b9f680b4",
   "metadata": {},
   "outputs": [],
   "source": [
    "from jejeqx._src.transforms.xarray.geostrophic import calculate_coriolis\n",
    "from metpy.constants import earth_gravity\n",
    "\n",
    "f0 = calculate_coriolis(xrda.lat)\n",
    "print(f\"Coriolis Parameter:\", f0.data)\n",
    "print(f\"Earth Gravity:\", earth_gravity)"
   ]
  },
  {
   "cell_type": "code",
   "execution_count": null,
   "id": "90c7d0e8-0706-44ee-b571-5c5483c5c78b",
   "metadata": {},
   "outputs": [],
   "source": [
    "f0: Array = jnp.asarray(calculate_coriolis(xrda.lat).data.magnitude)\n",
    "g: Array = jnp.asarray(earth_gravity.magnitude)"
   ]
  },
  {
   "cell_type": "code",
   "execution_count": null,
   "id": "d5a4c918-39af-42c5-8110-682d701f54d8",
   "metadata": {},
   "outputs": [],
   "source": [
    "def create_streamfn(f: tp.Callable, f0: float = 1e-5, g: float = 9.81) -> tp.Callable:\n",
    "    def sfn(x: Array, t: Array) -> Array:\n",
    "        return (g / f0) * f(x, t)\n",
    "\n",
    "    return sfn"
   ]
  },
  {
   "cell_type": "code",
   "execution_count": null,
   "id": "8c18e8be-7aca-4010-9131-1afee1e55ec0",
   "metadata": {},
   "outputs": [],
   "source": [
    "psi_fn = create_streamfn(ssh_fn)\n",
    "\n",
    "# create FAST Batched Function\n",
    "psi_fn_batch = make_jit_cpu(make_vmap_st(psi_fn))"
   ]
  },
  {
   "cell_type": "code",
   "execution_count": null,
   "id": "094cd622-176d-4cfc-8fe8-7ad9337f6317",
   "metadata": {},
   "outputs": [],
   "source": [
    "# make predictions\n",
    "psi = psi_fn_batch(dm.ds_test[:][\"spatial\"], dm.ds_test[:][\"temporal\"])"
   ]
  },
  {
   "cell_type": "code",
   "execution_count": null,
   "id": "860b542d-719e-4097-bb84-9c25efb7264a",
   "metadata": {},
   "outputs": [],
   "source": [
    "# create xarray dataset\n",
    "xrda[\"psi\"] = (g / f0) * xrda.ssh\n",
    "xrda[\"psi_ad\"] = ((\"time\", \"lat\", \"lon\"), dm.data_to_df(psi).to_xarray().ssh.data)\n",
    "\n",
    "# demo plot\n",
    "xrda[\"psi_ad\"].isel(time=0).plot.pcolormesh(cmap=\"viridis\")"
   ]
  },
  {
   "attachments": {},
   "cell_type": "markdown",
   "id": "a5cf079c-591d-4637-9242-0af80f42e751",
   "metadata": {},
   "source": [
    "### Velocities"
   ]
  },
  {
   "attachments": {},
   "cell_type": "markdown",
   "id": "1f9bf9eb-9b4a-4522-a9d0-239d41e077c9",
   "metadata": {},
   "source": [
    "$$\n",
    "\\begin{aligned}\n",
    "\\text{U Velocity}[ms^{-1}]: && \n",
    "u &=\\boldsymbol{u}(\\vec{\\mathbf{x}},t) && && \n",
    "\\boldsymbol{\\psi}: \\boldsymbol{\\Omega}\\times\\boldsymbol{T}\\rightarrow\\mathbb{R} \\\\\n",
    "\\text{V Velocity}[ms^{-1}]: && \n",
    "v &=\\boldsymbol{v}(\\vec{\\mathbf{x}},t) && && \n",
    "\\boldsymbol{\\psi}: \\boldsymbol{\\Omega}\\times\\boldsymbol{T}\\rightarrow\\mathbb{R}\n",
    "\\end{aligned}\n",
    "$$\n",
    "\n",
    "$$\n",
    "\\begin{aligned}\n",
    "u = -\\frac{\\partial \\psi}{\\partial y} && \n",
    "v = \\frac{\\partial \\psi}{\\partial x}\n",
    "\\end{aligned}\n",
    "$$"
   ]
  },
  {
   "cell_type": "code",
   "execution_count": null,
   "id": "e4f516bc-7baf-42c9-9208-698f69468b82",
   "metadata": {},
   "outputs": [],
   "source": [
    "def create_gradient_fn(f: tp.Callable) -> tp.Callable:\n",
    "    def fn(x: Array, t: Array) -> Array:\n",
    "        return jax.jacfwd(f)(x, t).squeeze()\n",
    "\n",
    "    return fn\n",
    "\n",
    "\n",
    "def uv_velocity(grad_psi: Array) -> tp.Tuple[Array, Array]:\n",
    "    dpsi_x, dpsi_y = jnp.split(grad_psi, 2, axis=-1)\n",
    "\n",
    "    u = -dpsi_y\n",
    "    v = dpsi_x\n",
    "    return u, v"
   ]
  },
  {
   "cell_type": "code",
   "execution_count": null,
   "id": "74fb2967-a7c4-4dbf-9647-6844ea264d2e",
   "metadata": {},
   "outputs": [],
   "source": [
    "grad_psi_fn = create_gradient_fn(psi_fn)\n",
    "\n",
    "grad_psi_fn_batched = make_jit_cpu(make_vmap_st(grad_psi_fn))"
   ]
  },
  {
   "cell_type": "code",
   "execution_count": null,
   "id": "937c52b5-1825-44a7-bff1-2c3cc0860808",
   "metadata": {},
   "outputs": [],
   "source": [
    "# make predictions\n",
    "grad_psi = grad_psi_fn_batched(dm.ds_test[:][\"spatial\"], dm.ds_test[:][\"temporal\"])\n",
    "\n",
    "\n",
    "# parse to get velocity\n",
    "u, v = uv_velocity(grad_psi)"
   ]
  },
  {
   "cell_type": "code",
   "execution_count": null,
   "id": "d8f496f4-c7ff-4da2-b44c-ce97a70ca4f6",
   "metadata": {},
   "outputs": [],
   "source": [
    "# create xarray dataset\n",
    "xrda[\"u_ad\"] = ((\"time\", \"lat\", \"lon\"), dm.data_to_df(u).to_xarray().ssh.data)\n",
    "xrda[\"v_ad\"] = ((\"time\", \"lat\", \"lon\"), dm.data_to_df(v).to_xarray().ssh.data)\n",
    "\n",
    "xrda[\"ke_ad\"] = np.hypot(xrda[\"u_ad\"], xrda[\"v_ad\"])"
   ]
  },
  {
   "cell_type": "code",
   "execution_count": null,
   "id": "01ffee0b-d07a-4620-98a8-369686e3b3af",
   "metadata": {},
   "outputs": [],
   "source": [
    "fig, ax = plt.subplots()\n",
    "\n",
    "xrda[\"ke_ad\"].isel(time=0).plot.pcolormesh(ax=ax, cmap=\"YlGnBu_r\")\n",
    "\n",
    "plt.tight_layout()\n",
    "plt.show()"
   ]
  },
  {
   "attachments": {},
   "cell_type": "markdown",
   "id": "6e7310fe-0e35-4fdd-b2d4-501c6c483f1b",
   "metadata": {},
   "source": [
    "#### Finite Difference "
   ]
  },
  {
   "attachments": {},
   "cell_type": "markdown",
   "id": "6bb378f5-d6ba-4f9c-8f80-749d9a62963d",
   "metadata": {},
   "source": [
    "So we can also do this in discrete space as well. Meaning, we can take the derivative of the field we are interested in.\n",
    "$$\n",
    "\\frac{\\partial \\psi}{\\partial x}= D[\\psi](\\vec{\\mathbf{x}})\n",
    "$$\n",
    "\n",
    "We have many different types, e.g. central difference, forwards difference and backwards difference."
   ]
  },
  {
   "cell_type": "code",
   "execution_count": null,
   "id": "da83794e-c7d3-4c0a-b975-7b2092b61044",
   "metadata": {},
   "outputs": [],
   "source": [
    "import jejeqx._src.transforms.xarray.geostrophic as geocalc"
   ]
  },
  {
   "cell_type": "code",
   "execution_count": null,
   "id": "8c8f629e-b291-48c3-bb3f-c38439e9706a",
   "metadata": {},
   "outputs": [],
   "source": [
    "xrda = geocalc.calculate_velocities_sf(xrda, \"psi\")\n",
    "xrda = geocalc.calculate_kinetic_energy(xrda, [\"u\", \"v\"])\n",
    "xrda"
   ]
  },
  {
   "cell_type": "code",
   "execution_count": null,
   "id": "23efcb5d-20ba-4ced-aa78-4baf47c7974f",
   "metadata": {},
   "outputs": [],
   "source": [
    "fig, ax = plt.subplots(ncols=2, figsize=(10, 4))\n",
    "\n",
    "xrda[\"ke_ad\"].isel(time=0).plot.pcolormesh(ax=ax[0], cmap=\"YlGnBu_r\")\n",
    "ax[0].set(title=\"Auto-Differentiation\")\n",
    "xrda[\"ke\"].isel(time=0).plot.pcolormesh(ax=ax[1], cmap=\"YlGnBu_r\")\n",
    "ax[1].set(title=\"Finite Difference\")\n",
    "\n",
    "plt.tight_layout()\n",
    "plt.show()"
   ]
  },
  {
   "attachments": {},
   "cell_type": "markdown",
   "id": "1d32cce7-bd02-4840-965c-94c69161141d",
   "metadata": {},
   "source": [
    "## Relative Vorticity"
   ]
  },
  {
   "attachments": {},
   "cell_type": "markdown",
   "id": "99c8c8b8-8217-4fd3-8d88-c83fa7fac1d9",
   "metadata": {},
   "source": [
    "Somtimes called the *vertical vorticity*.\n",
    "\n",
    "\n",
    "\n",
    "$$\n",
    "\\zeta = \\frac{\\partial v}{\\partial x} - \\frac{\\partial u}{\\partial y}\n",
    "$$\n",
    "\n",
    "Note that the u,v velocities can be calculated from the stream function as\n",
    "\n",
    "$$\n",
    "\\begin{aligned}\n",
    "u &= -\\frac{\\partial \\psi}{\\partial y} && &&\n",
    "v = \\frac{\\partial \\psi}{\\partial x}\\\\\n",
    "\\end{aligned}\n",
    "$$\n",
    "\n",
    "So plugging these into the equation, we get:\n",
    "\n",
    "$$\n",
    "\\begin{aligned}\n",
    "\\zeta &= \n",
    "\\frac{\\partial}{\\partial x}\\left(\\frac{\\partial \\psi}{\\partial x}\\right) - \n",
    "\\frac{\\partial}{\\partial y}\\left( -\\frac{\\partial \\psi}{\\partial y}\\right) \\\\\n",
    "\\zeta &= \n",
    "\\frac{\\partial^2 \\psi}{\\partial x^2}+ \\frac{\\partial^2 \\psi}{\\partial y^2}\\\\\n",
    "\\zeta &=\\nabla^2\\psi\n",
    "\\end{aligned}\n",
    "$$\n",
    "\n",
    "We can also calculate a normalized version\n",
    "\n",
    "$$\n",
    "\\bar{\\zeta} = \\frac{\\zeta}{f_0}\n",
    "$$\n",
    "\n",
    "Note: This is closely related to the geostrophic eqns:\n",
    "\n",
    "$$\n",
    "\\begin{aligned}\n",
    "\\text{Relative Vorticity }[s^{-1}]: && \n",
    "\\zeta &=\\boldsymbol{\\zeta}(\\vec{\\mathbf{x}},t) && && \n",
    "\\boldsymbol{\\xi}: \\boldsymbol{\\Omega}\\times\\boldsymbol{T}\\rightarrow\\mathbb{R}\n",
    "\\end{aligned}\n",
    "$$\n",
    "\n",
    "$$\n",
    "\\zeta = \\nabla^2\\psi\n",
    "$$\n"
   ]
  },
  {
   "cell_type": "code",
   "execution_count": null,
   "id": "ee3dc176-ed26-44fe-b6de-81f20e8c2e0f",
   "metadata": {},
   "outputs": [],
   "source": [
    "def create_laplacian_fn(f: tp.Callable) -> tp.Callable:\n",
    "    def fn(x: Array) -> Array:\n",
    "        # return jax.jacfwd(jax.jacrev(f))(x)\n",
    "        H = jax.hessian(f)\n",
    "        L = jnp.diagonal(H(x)[0])\n",
    "        return jnp.sum(L, keepdims=True)\n",
    "\n",
    "    return fn"
   ]
  },
  {
   "cell_type": "code",
   "execution_count": null,
   "id": "f2cfe034-5b45-4c4e-a229-da86997f20ef",
   "metadata": {},
   "outputs": [],
   "source": [
    "rvort_fn = create_laplacian_fn(psi_fn)\n",
    "rvort_fn(x_init[0])\n",
    "\n",
    "rvort_fn_batched = jax.jit(jax.vmap(rvort_fn, in_axes=(0, 0)), backend=\"cpu\")"
   ]
  },
  {
   "cell_type": "code",
   "execution_count": null,
   "id": "a37650a6-0246-4b41-8051-00d855baad52",
   "metadata": {},
   "outputs": [],
   "source": [
    "rvort = rvort_fn_batched(dm.ds_test[:][\"spatial\"], dm.ds_test[:][\"temporal\"])"
   ]
  },
  {
   "cell_type": "code",
   "execution_count": null,
   "id": "568878ac-ca2d-4078-817e-0fe4b07ae8d6",
   "metadata": {},
   "outputs": [],
   "source": [
    "# create xarray dataset\n",
    "xrda[\"rvort\"] = dm.data_to_df(rvort).to_xarray().ssh"
   ]
  },
  {
   "cell_type": "code",
   "execution_count": null,
   "id": "665a69db-2c66-467e-af22-dacd758b6cb9",
   "metadata": {},
   "outputs": [],
   "source": [
    "import finitediffx as fdx\n",
    "\n",
    "method = \"central\"\n",
    "order = 1\n",
    "step_size = 1\n",
    "accuracy = 1\n",
    "\n",
    "dv_dx = dfdx(xrda[\"v_fd\"].data)\n",
    "\n",
    "du_dy = dfdy(xrda[\"u_fd\"].data)"
   ]
  },
  {
   "cell_type": "code",
   "execution_count": null,
   "id": "1ad6fee9-b420-4a22-8424-b1aed2930d47",
   "metadata": {},
   "outputs": [],
   "source": [
    "xrda[\"rvort_fd\"] = ((\"time\", \"lat\", \"lon\"), dv_dx - du_dy)"
   ]
  },
  {
   "cell_type": "code",
   "execution_count": null,
   "id": "ce9148e4-e200-4d74-893c-a94bcaab8bf0",
   "metadata": {},
   "outputs": [],
   "source": [
    "fig, ax = plt.subplots(ncols=2, figsize=(10, 4))\n",
    "\n",
    "xrda[\"rvort\"].isel(time=0).plot.pcolormesh(ax=ax[0], cmap=\"RdBu_r\")\n",
    "ax[0].set(title=\"Auto-Differentiation\")\n",
    "xrda[\"rvort_fd\"].isel(time=0).plot.pcolormesh(ax=ax[1], cmap=\"RdBu_r\")\n",
    "ax[1].set(title=\"Finite Difference\")\n",
    "\n",
    "plt.tight_layout()\n",
    "plt.show()"
   ]
  },
  {
   "cell_type": "code",
   "execution_count": null,
   "id": "b13d952a-705a-4a90-a528-ad0405e7d146",
   "metadata": {},
   "outputs": [],
   "source": []
  },
  {
   "cell_type": "code",
   "execution_count": null,
   "id": "264b3dee-018f-4056-95d9-94cd596c2b4e",
   "metadata": {},
   "outputs": [],
   "source": []
  },
  {
   "attachments": {},
   "cell_type": "markdown",
   "id": "6ea0abbb-1b5c-4d0e-8de7-92fe261fd10a",
   "metadata": {},
   "source": [
    "\n",
    "\n",
    "\n"
   ]
  },
  {
   "cell_type": "code",
   "execution_count": null,
   "id": "dd530a65-317b-4c06-a3a2-d9b01f800d3f",
   "metadata": {},
   "outputs": [],
   "source": [
    "import common_utils as cutils"
   ]
  },
  {
   "cell_type": "code",
   "execution_count": null,
   "id": "3ff6a91c-2d90-41f5-87e8-f319181fabc8",
   "metadata": {},
   "outputs": [],
   "source": [
    "ds_rfe = cutils.calculate_physical_quantities(xrda.ssh_rfe)\n",
    "ds_natl60 = cutils.calculate_physical_quantities(xrda.ssh)\n",
    "ds_mlp = cutils.calculate_physical_quantities(xrda.ssh_mlp)\n",
    "ds_siren = cutils.calculate_physical_quantities(xrda.ssh_siren)"
   ]
  },
  {
   "cell_type": "code",
   "execution_count": null,
   "id": "f48d17b1-74bb-4da1-b92f-ede699fca702",
   "metadata": {},
   "outputs": [],
   "source": [
    "def rmse_da(da, da_ref, dim):\n",
    "    return ((da - da_ref) ** 2).mean(dim=dim) ** 0.5\n",
    "\n",
    "\n",
    "def nrmse_da(da, da_ref, dim):\n",
    "    rmse = rmse_da(da=da, da_ref=da_ref, dim=dim)\n",
    "    std = (da_ref**2).mean(dim=dim) ** 0.5\n",
    "    return 1.0 - (rmse / std).data.magnitude"
   ]
  },
  {
   "cell_type": "code",
   "execution_count": null,
   "id": "e7f4cb9b-30cb-4156-b6ba-b6a93fe9da58",
   "metadata": {
    "tags": []
   },
   "outputs": [],
   "source": [
    "import pandas as pd\n",
    "\n",
    "dims = [\"lat\", \"lon\"]\n",
    "\n",
    "results_df = pd.DataFrame()\n",
    "\n",
    "for imodel, iname in zip([ds_mlp, ds_rfe, ds_siren], [\"MLP\", \"RFE\", \"SIREN\"]):\n",
    "    for ivar in imodel:\n",
    "        error = nrmse_da(imodel[ivar], ds_natl60[ivar], dims)\n",
    "\n",
    "        ires_df = pd.DataFrame(\n",
    "            data=[[iname, ivar, error.item()]],\n",
    "            columns=[\n",
    "                \"model\",\n",
    "                \"variable\",\n",
    "                \"nrmse\",\n",
    "            ],\n",
    "        )\n",
    "\n",
    "        results_df = pd.concat([ires_df, results_df.loc[:]], axis=0)"
   ]
  },
  {
   "cell_type": "code",
   "execution_count": null,
   "id": "b97d6463-5ab1-4103-b984-a640b12e044c",
   "metadata": {},
   "outputs": [],
   "source": [
    "results_df.head()"
   ]
  },
  {
   "cell_type": "code",
   "execution_count": null,
   "id": "5ac77e1c-26b0-4292-82c4-e8fe3e6ecec5",
   "metadata": {},
   "outputs": [],
   "source": [
    "results_df.loc[results_df[\"variable\"] == \"ke\"].sort_values(\"nrmse\")"
   ]
  },
  {
   "cell_type": "code",
   "execution_count": null,
   "id": "ef1ea136-6da7-4ddd-b3d9-65ef02dfcc04",
   "metadata": {},
   "outputs": [],
   "source": [
    "fig, ax = cutils.plot_analysis_vars(\n",
    "    [\n",
    "        ds_natl60.isel(time=0),\n",
    "        ds_mlp.isel(time=0),\n",
    "        ds_rfe.isel(time=0),\n",
    "        ds_siren.isel(time=0),\n",
    "    ],\n",
    "    figsize=(30, 30),\n",
    ")\n",
    "# fig.suptitle(\"NATL60   |   MLP   |      RFE     |      SIREN\"),\n",
    "plt.show()"
   ]
  },
  {
   "cell_type": "code",
   "execution_count": null,
   "id": "052dd3ff-8152-4554-98de-6e4f6a6200e9",
   "metadata": {},
   "outputs": [],
   "source": [
    "#"
   ]
  },
  {
   "cell_type": "code",
   "execution_count": null,
   "id": "120cea96-aba7-4c0d-b630-ce4118fc547b",
   "metadata": {},
   "outputs": [],
   "source": [
    "ds_psd_natl60 = cutils.calculate_isotropic_psd(ds_natl60)\n",
    "ds_psd_rfe = cutils.calculate_isotropic_psd(ds_rfe)\n",
    "ds_psd_mlp = cutils.calculate_isotropic_psd(ds_mlp)\n",
    "ds_psd_siren = cutils.calculate_isotropic_psd(ds_siren)"
   ]
  },
  {
   "cell_type": "code",
   "execution_count": null,
   "id": "62a41cf1-c73e-45e9-b46a-2de11e0aa735",
   "metadata": {},
   "outputs": [],
   "source": [
    "fig, ax = cutils.plot_analysis_psd_iso(\n",
    "    [ds_psd_natl60, ds_psd_mlp, ds_psd_rfe, ds_psd_siren],\n",
    "    [\"NATL60\", \"MLP\", \"RFE\", \"SIREN\"],\n",
    ")\n",
    "plt.show()"
   ]
  },
  {
   "cell_type": "code",
   "execution_count": null,
   "id": "cdb5b60a-2d71-482f-8df2-9ba2a8667292",
   "metadata": {},
   "outputs": [],
   "source": [
    "ds_rfe_scores = cutils.calculate_isotropic_psd_score(ds_rfe, ds_natl60)\n",
    "ds_mlp_scores = cutils.calculate_isotropic_psd_score(ds_mlp, ds_natl60)\n",
    "ds_siren_scores = cutils.calculate_isotropic_psd_score(ds_siren, ds_natl60)"
   ]
  },
  {
   "cell_type": "code",
   "execution_count": null,
   "id": "571e0237-b4e1-4709-a03f-6bd3a026ff6f",
   "metadata": {},
   "outputs": [],
   "source": [
    "import pandas as pd\n",
    "\n",
    "results_df = pd.DataFrame(\n",
    "    columns=[\"model\", \"variable\", \"wavelength [km]\", \"wavelength [degree]\"]\n",
    ")\n",
    "\n",
    "for iscore, imodel in zip(\n",
    "    [ds_mlp_scores, ds_rfe_scores, ds_siren_scores], [\"MLP\", \"RFE\", \"SIREN\"]\n",
    "):\n",
    "    for ivar in iscore:\n",
    "        resolved_spatial_scale = iscore[ivar].attrs[\"resolved_scale_space\"] / 1e3\n",
    "\n",
    "        ires_df = pd.DataFrame(\n",
    "            data=[[imodel, ivar, resolved_spatial_scale, resolved_spatial_scale / 111]],\n",
    "            columns=[\"model\", \"variable\", \"wavelength [km]\", \"wavelength [degree]\"],\n",
    "        )\n",
    "\n",
    "        results_df = pd.concat([ires_df, results_df.loc[:]], axis=0)"
   ]
  },
  {
   "cell_type": "code",
   "execution_count": null,
   "id": "c9ebd66c-57e0-4820-9ccd-c33b624c0226",
   "metadata": {},
   "outputs": [],
   "source": [
    "results_df.head()"
   ]
  },
  {
   "cell_type": "code",
   "execution_count": null,
   "id": "77f6cb11-d966-4303-8312-ac65d0dc46a0",
   "metadata": {},
   "outputs": [],
   "source": [
    "results_df.loc[results_df[\"variable\"] == \"strain\"].sort_values(\"wavelength [km]\")"
   ]
  },
  {
   "cell_type": "code",
   "execution_count": null,
   "id": "dd8c5924-575d-4626-9da9-c58dee123b62",
   "metadata": {
    "tags": []
   },
   "outputs": [],
   "source": [
    "cutils.plot_analysis_psd_iso_score(\n",
    "    [ds_mlp_scores, ds_rfe_scores, ds_siren_scores],\n",
    "    [\"MLP\", \"RFE\", \"SIREN\"],\n",
    "    [\"b\", \"orange\", \"green\"],\n",
    ")\n",
    "plt.show()"
   ]
  },
  {
   "cell_type": "code",
   "execution_count": null,
   "id": "7e6d2c8a-1547-4add-a5d1-0a905cd1545a",
   "metadata": {},
   "outputs": [],
   "source": []
  },
  {
   "cell_type": "code",
   "execution_count": null,
   "id": "6d3ab2a9-4698-4a7f-a362-d94caa2dd7a4",
   "metadata": {},
   "outputs": [],
   "source": []
  }
 ],
 "metadata": {
  "kernelspec": {
   "display_name": "jejeqx",
   "language": "python",
   "name": "python3"
  },
  "language_info": {
   "codemirror_mode": {
    "name": "ipython",
    "version": 3
   },
   "file_extension": ".py",
   "mimetype": "text/x-python",
   "name": "python",
   "nbconvert_exporter": "python",
   "pygments_lexer": "ipython3",
   "version": "3.10.11"
  }
 },
 "nbformat": 4,
 "nbformat_minor": 5
}
