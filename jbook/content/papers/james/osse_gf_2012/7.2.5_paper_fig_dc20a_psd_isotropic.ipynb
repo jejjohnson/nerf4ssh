{
 "cells": [
  {
   "attachments": {},
   "cell_type": "markdown",
   "id": "4123c4da-15c8-47f8-9781-7c14c94e2910",
   "metadata": {
    "tags": [],
    "user_expressions": []
   },
   "source": [
    "# Isotropic PSD"
   ]
  },
  {
   "cell_type": "code",
   "execution_count": null,
   "id": "bc632417-fe26-49ce-a2c4-9ae125938e93",
   "metadata": {},
   "outputs": [],
   "source": [
    "import sys, os\n",
    "\n",
    "# spyder up to find the root\n",
    "oceanbench_root = \"/gpfswork/rech/cli/uvo53rl/projects/oceanbench\"\n",
    "\n",
    "# append to path\n",
    "sys.path.append(str(oceanbench_root))"
   ]
  },
  {
   "cell_type": "code",
   "execution_count": null,
   "id": "6028f5f4-c74e-42aa-a147-be448542e2de",
   "metadata": {
    "tags": []
   },
   "outputs": [],
   "source": [
    "import autoroot\n",
    "import typing as tp\n",
    "import jax\n",
    "import jax.numpy as jnp\n",
    "import jax.scipy as jsp\n",
    "import jax.random as jrandom\n",
    "import numpy as np\n",
    "import numba as nb\n",
    "import pandas as pd\n",
    "import equinox as eqx\n",
    "import kernex as kex\n",
    "import finitediffx as fdx\n",
    "import diffrax as dfx\n",
    "import xarray as xr\n",
    "import matplotlib.pyplot as plt\n",
    "import seaborn as sns\n",
    "from tqdm.notebook import tqdm, trange\n",
    "from jaxtyping import Float, Array, PyTree, ArrayLike\n",
    "import wandb\n",
    "from omegaconf import OmegaConf\n",
    "import hydra\n",
    "import metpy\n",
    "from sklearn.pipeline import Pipeline\n",
    "from jejeqx._src.transforms.dataframe.spatial import Spherical2Cartesian\n",
    "from jejeqx._src.transforms.dataframe.temporal import TimeDelta\n",
    "from jejeqx._src.transforms.dataframe.scaling import MinMaxDF\n",
    "\n",
    "\n",
    "sns.reset_defaults()\n",
    "sns.set_context(context=\"poster\", font_scale=0.7)\n",
    "jax.config.update(\"jax_enable_x64\", False)\n",
    "\n",
    "%matplotlib inline\n",
    "%load_ext autoreload\n",
    "%autoreload 2"
   ]
  },
  {
   "attachments": {},
   "cell_type": "markdown",
   "id": "aaaeaf71-b606-4992-bea4-4ea8ed377305",
   "metadata": {},
   "source": [
    "## Processing Chain\n",
    "\n",
    "**Part I**:\n",
    "\n",
    "* Open Dataset\n",
    "* Validate Coordinates + Variables\n",
    "* Decode Time\n",
    "* Select Region\n",
    "* Sortby Time\n",
    "\n",
    "**Part II**: Regrid\n",
    "\n",
    "**Part III**:\n",
    "\n",
    "* Interpolate Nans\n",
    "* Add Units\n",
    "* Spatial Rescale\n",
    "* Time Rescale\n",
    "\n",
    "**Part IV**: Metrics\n",
    "\n",
    "*"
   ]
  },
  {
   "attachments": {},
   "cell_type": "markdown",
   "id": "5ac67435-b31d-4788-b79d-3d2e3b5ac1df",
   "metadata": {
    "user_expressions": []
   },
   "source": [
    "## Data"
   ]
  },
  {
   "cell_type": "code",
   "execution_count": null,
   "id": "aefda25b-01ae-4654-b4ce-03c17732a4a6",
   "metadata": {},
   "outputs": [],
   "source": [
    "# !wget wget -nc https://s3.us-east-1.wasabisys.com/melody/osse_data/ref/NATL60-CJM165_GULFSTREAM_ssh_y2013.1y.nc"
   ]
  },
  {
   "cell_type": "code",
   "execution_count": null,
   "id": "3f57a5ce-5b2d-4b0e-a1dc-a80bbfc00844",
   "metadata": {},
   "outputs": [],
   "source": [
    "# !cat configs/postprocess.yaml"
   ]
  },
  {
   "cell_type": "code",
   "execution_count": null,
   "id": "8a26f13e-80a9-467c-8c3d-7d2f3f6beca5",
   "metadata": {},
   "outputs": [],
   "source": [
    "# # load config\n",
    "# config_dm = OmegaConf.load('./configs/postprocess.yaml')\n",
    "\n",
    "# # instantiate\n",
    "# ds = hydra.utils.instantiate(config_dm.NATL60_GF_1Y1D)\n",
    "# ds"
   ]
  },
  {
   "attachments": {},
   "cell_type": "markdown",
   "id": "1c988b80-a5c7-4d01-95bc-e3d4f451b260",
   "metadata": {},
   "source": [
    "## Reference Dataset\n",
    "\n",
    "For the reference dataset, we will look at the NEMO simulation of the Gulfstream."
   ]
  },
  {
   "cell_type": "code",
   "execution_count": null,
   "id": "b434aad4-c3e0-4e96-8ec1-2ebceb6f5473",
   "metadata": {},
   "outputs": [],
   "source": [
    "%%time\n",
    "\n",
    "# load config\n",
    "config_dm = OmegaConf.load(\"./configs/postprocess.yaml\")\n",
    "\n",
    "# instantiate\n",
    "ds_natl60 = hydra.utils.instantiate(config_dm.NATL60_GF_FULL).compute()\n",
    "ds_natl60"
   ]
  },
  {
   "attachments": {},
   "cell_type": "markdown",
   "id": "953427c1-ed8e-49f5-b660-60054fbd5ed9",
   "metadata": {},
   "source": [
    "### Prediction Datasets - NADIR"
   ]
  },
  {
   "cell_type": "code",
   "execution_count": null,
   "id": "2f0e0d80-eccf-49ad-a51a-0d011ad7a214",
   "metadata": {},
   "outputs": [],
   "source": [
    "%%time\n",
    "\n",
    "# load config\n",
    "results_config = OmegaConf.load(\"./configs/results_dc20a_nadir.yaml\")\n",
    "\n",
    "# instantiate\n",
    "ds_duacs = hydra.utils.instantiate(results_config.DUACS_NADIR.data).compute()\n",
    "ds_miost = hydra.utils.instantiate(results_config.MIOST_NADIR.data).compute()\n",
    "ds_nerf_siren = hydra.utils.instantiate(results_config.NERF_SIREN_NADIR.data).compute()\n",
    "ds_nerf_ffn = hydra.utils.instantiate(results_config.NERF_FFN_NADIR.data).compute()\n",
    "ds_nerf_mlp = hydra.utils.instantiate(results_config.NERF_MLP_NADIR.data).compute()"
   ]
  },
  {
   "attachments": {},
   "cell_type": "markdown",
   "id": "73fa461e-44dd-4dff-80da-3eb59239ea5b",
   "metadata": {},
   "source": [
    "## Regrdding"
   ]
  },
  {
   "cell_type": "code",
   "execution_count": null,
   "id": "b22492c3-6f5d-4783-b33d-27ff11e4ca64",
   "metadata": {},
   "outputs": [],
   "source": [
    "from oceanbench._src.geoprocessing.gridding import grid_to_regular_grid"
   ]
  },
  {
   "cell_type": "code",
   "execution_count": null,
   "id": "9822001b-e95d-418b-82bf-e2c211d1e680",
   "metadata": {},
   "outputs": [],
   "source": [
    "%%time\n",
    "\n",
    "ds_duacs = grid_to_regular_grid(\n",
    "    src_grid_ds=ds_duacs.pint.dequantify(),\n",
    "    tgt_grid_ds=ds_natl60.pint.dequantify(),\n",
    "    keep_attrs=False,\n",
    ")\n",
    "ds_miost = grid_to_regular_grid(\n",
    "    src_grid_ds=ds_miost.pint.dequantify(),\n",
    "    tgt_grid_ds=ds_natl60.pint.dequantify(),\n",
    "    keep_attrs=False,\n",
    ")\n",
    "ds_nerf_siren = grid_to_regular_grid(\n",
    "    src_grid_ds=ds_nerf_siren.pint.dequantify(),\n",
    "    tgt_grid_ds=ds_natl60.pint.dequantify(),\n",
    "    keep_attrs=False,\n",
    ")\n",
    "ds_nerf_ffn = grid_to_regular_grid(\n",
    "    src_grid_ds=ds_nerf_ffn.pint.dequantify(),\n",
    "    tgt_grid_ds=ds_natl60.pint.dequantify(),\n",
    "    keep_attrs=False,\n",
    ")\n",
    "ds_nerf_mlp = grid_to_regular_grid(\n",
    "    src_grid_ds=ds_nerf_mlp.pint.dequantify(),\n",
    "    tgt_grid_ds=ds_natl60.pint.dequantify(),\n",
    "    keep_attrs=False,\n",
    ")"
   ]
  },
  {
   "attachments": {},
   "cell_type": "markdown",
   "id": "10b0f701-9fc6-4fad-95f0-4f138f3b9258",
   "metadata": {},
   "source": [
    "### Preprocess Chain"
   ]
  },
  {
   "cell_type": "code",
   "execution_count": null,
   "id": "681b402b-7cb3-4a1c-81e7-e2296181f60d",
   "metadata": {},
   "outputs": [],
   "source": [
    "%%time\n",
    "\n",
    "# load config\n",
    "psd_config = OmegaConf.load(\"./configs/metrics.yaml\")\n",
    "\n",
    "ds_natl60 = hydra.utils.instantiate(psd_config.psd_preprocess_chain)(\n",
    "    ds_natl60.pint.dequantify()\n",
    ")\n",
    "ds_duacs = hydra.utils.instantiate(psd_config.psd_preprocess_chain)(\n",
    "    ds_duacs.pint.dequantify()\n",
    ")\n",
    "ds_miost = hydra.utils.instantiate(psd_config.psd_preprocess_chain)(\n",
    "    ds_miost.pint.dequantify()\n",
    ")\n",
    "ds_nerf_siren = hydra.utils.instantiate(psd_config.psd_preprocess_chain)(\n",
    "    ds_nerf_siren.pint.dequantify()\n",
    ")\n",
    "ds_nerf_ffn = hydra.utils.instantiate(psd_config.psd_preprocess_chain)(\n",
    "    ds_nerf_ffn.pint.dequantify()\n",
    ")\n",
    "ds_nerf_mlp = hydra.utils.instantiate(psd_config.psd_preprocess_chain)(\n",
    "    ds_nerf_mlp.pint.dequantify()\n",
    ")"
   ]
  },
  {
   "attachments": {},
   "cell_type": "markdown",
   "id": "f89fb06e-cf0d-42bd-aa4e-1ed0de630e88",
   "metadata": {},
   "source": [
    "## Power Spectrum (Isotropic)"
   ]
  },
  {
   "cell_type": "code",
   "execution_count": null,
   "id": "35b1cf47-fa95-4b6e-8bb8-c8c4063e58d9",
   "metadata": {
    "tags": []
   },
   "outputs": [],
   "source": [
    "%%time\n",
    "\n",
    "# load config\n",
    "psd_config = OmegaConf.load(\"./configs/metrics.yaml\")\n",
    "\n",
    "ds_natl60_psd = hydra.utils.instantiate(psd_config.psd_isotropic_chain)(\n",
    "    ds_natl60.pint.dequantify()\n",
    ")\n",
    "ds_duacs_psd = hydra.utils.instantiate(psd_config.psd_isotropic_chain)(\n",
    "    ds_duacs.pint.dequantify()\n",
    ")\n",
    "ds_miost_psd = hydra.utils.instantiate(psd_config.psd_isotropic_chain)(\n",
    "    ds_miost.pint.dequantify()\n",
    ")\n",
    "ds_nerf_siren_psd = hydra.utils.instantiate(psd_config.psd_isotropic_chain)(\n",
    "    ds_nerf_siren.pint.dequantify()\n",
    ")\n",
    "ds_nerf_ffn_psd = hydra.utils.instantiate(psd_config.psd_isotropic_chain)(\n",
    "    ds_nerf_ffn.pint.dequantify()\n",
    ")\n",
    "ds_nerf_mlp_psd = hydra.utils.instantiate(psd_config.psd_isotropic_chain)(\n",
    "    ds_nerf_mlp.pint.dequantify()\n",
    ")"
   ]
  },
  {
   "cell_type": "code",
   "execution_count": null,
   "id": "3aa56698-b46a-426d-acf3-af5cacce97b9",
   "metadata": {},
   "outputs": [],
   "source": [
    "from jejeqx._src.viz.xarray.psd import PlotPSDIsotropic, PlotPSDScoreIsotropic"
   ]
  },
  {
   "cell_type": "code",
   "execution_count": null,
   "id": "ab0abab0-8da2-49be-9d4a-0a6b6b0d9f53",
   "metadata": {},
   "outputs": [],
   "source": [
    "psd_iso_plot = PlotPSDIsotropic()\n",
    "psd_iso_plot.init_fig(figsize=(8, 7))\n",
    "psd_iso_plot.plot_both(\n",
    "    ds_natl60_psd.ssh,\n",
    "    freq_scale=1e3,\n",
    "    units=\"km\",\n",
    "    label=\"NATL60\",\n",
    "    color=\"black\",\n",
    ")\n",
    "psd_iso_plot.plot_both(\n",
    "    ds_duacs_psd.ssh,\n",
    "    freq_scale=1e3,\n",
    "    units=\"km\",\n",
    "    label=\"DUACS\",\n",
    "    color=\"tab:green\",\n",
    ")\n",
    "psd_iso_plot.plot_both(\n",
    "    ds_miost_psd.ssh,\n",
    "    freq_scale=1e3,\n",
    "    units=\"km\",\n",
    "    label=\"MIOST\",\n",
    "    color=\"tab:red\",\n",
    ")\n",
    "psd_iso_plot.plot_both(\n",
    "    ds_nerf_ffn_psd.ssh,\n",
    "    freq_scale=1e3,\n",
    "    units=\"km\",\n",
    "    label=\"NERF (FFN)\",\n",
    "    color=\"tab:blue\",\n",
    ")\n",
    "psd_iso_plot.plot_both(\n",
    "    ds_nerf_siren_psd.ssh,\n",
    "    freq_scale=1e3,\n",
    "    units=\"km\",\n",
    "    label=\"NERF (SIREN)\",\n",
    "    color=\"tab:olive\",\n",
    ")\n",
    "psd_iso_plot.plot_both(\n",
    "    ds_nerf_mlp_psd.ssh,\n",
    "    freq_scale=1e3,\n",
    "    units=\"km\",\n",
    "    label=\"NERF (MLP)\",\n",
    "    color=\"tab:cyan\",\n",
    ")\n",
    "\n",
    "# set custom bounds\n",
    "psd_iso_plot.ax.set_xlim((10 ** (-3) - 0.00025, 10 ** (-1) + 0.025))\n",
    "psd_iso_plot.ax.set_ylabel(\"PSD [SSH]\")\n",
    "plt.tight_layout()\n",
    "plt.gcf().savefig(\"./figures/dc20a/psd/isotropic/dc20a_psd_isotropic_nadir.png\")\n",
    "plt.show()"
   ]
  },
  {
   "attachments": {},
   "cell_type": "markdown",
   "id": "3e61397a-a70d-4d28-9b1f-261284af9f0f",
   "metadata": {},
   "source": [
    "### PSD Isotropic Score"
   ]
  },
  {
   "cell_type": "code",
   "execution_count": null,
   "id": "1c80cb8d-25ef-4744-8285-44a8acc17ec5",
   "metadata": {
    "tags": []
   },
   "outputs": [],
   "source": [
    "%%time\n",
    "\n",
    "# load config\n",
    "psd_config = OmegaConf.load(\"./configs/metrics.yaml\")\n",
    "\n",
    "ds_psd_duacs_score = hydra.utils.instantiate(\n",
    "    psd_config.psd_isotropic_score,\n",
    "    da=ds_duacs.pint.dequantify(),\n",
    "    da_ref=ds_natl60.pint.dequantify(),\n",
    ")\n",
    "\n",
    "ds_psd_miost_score = hydra.utils.instantiate(\n",
    "    psd_config.psd_isotropic_score,\n",
    "    da=ds_miost.pint.dequantify(),\n",
    "    da_ref=ds_natl60.pint.dequantify(),\n",
    ")\n",
    "\n",
    "ds_psd_nerf_mlp_score = hydra.utils.instantiate(\n",
    "    psd_config.psd_isotropic_score,\n",
    "    da=ds_nerf_mlp.pint.dequantify(),\n",
    "    da_ref=ds_natl60.pint.dequantify(),\n",
    ")\n",
    "\n",
    "ds_psd_nerf_ffn_score = hydra.utils.instantiate(\n",
    "    psd_config.psd_isotropic_score,\n",
    "    da=ds_nerf_ffn.pint.dequantify(),\n",
    "    da_ref=ds_natl60.pint.dequantify(),\n",
    ")\n",
    "\n",
    "ds_psd_nerf_siren_score = hydra.utils.instantiate(\n",
    "    psd_config.psd_isotropic_score,\n",
    "    da=ds_nerf_siren.pint.dequantify(),\n",
    "    da_ref=ds_natl60.pint.dequantify(),\n",
    ")"
   ]
  },
  {
   "cell_type": "code",
   "execution_count": null,
   "id": "693f4d4a-ba16-4efc-886d-3bdbcbdf439e",
   "metadata": {},
   "outputs": [],
   "source": [
    "from oceanbench._src.metrics.utils import find_intercept_1D, find_intercept_2D"
   ]
  },
  {
   "cell_type": "code",
   "execution_count": null,
   "id": "6f1a838c-0aaf-4d91-959e-8e9092c04463",
   "metadata": {},
   "outputs": [],
   "source": [
    "psd_iso_plot = PlotPSDScoreIsotropic()\n",
    "psd_iso_plot.init_fig(figsize=(8, 7))\n",
    "psd_iso_plot.plot_score(\n",
    "    ds_psd_duacs_score.ssh,\n",
    "    freq_scale=1e3,\n",
    "    units=\"km\",\n",
    "    name=\"DUACS\",\n",
    "    color=\"green\",\n",
    "    threshhold=0.50,\n",
    "    threshhold_color=\"tab:green\",\n",
    ")\n",
    "psd_iso_plot.plot_score(\n",
    "    ds_psd_miost_score.ssh,\n",
    "    freq_scale=1e3,\n",
    "    units=\"km\",\n",
    "    name=\"MIOST\",\n",
    "    color=\"red\",\n",
    "    threshhold=0.50,\n",
    "    threshhold_color=\"tab:red\",\n",
    ")\n",
    "psd_iso_plot.plot_score(\n",
    "    ds_psd_nerf_mlp_score.ssh,\n",
    "    freq_scale=1e3,\n",
    "    units=\"km\",\n",
    "    name=\"NERF (MLP)\",\n",
    "    color=\"cyan\",\n",
    "    threshhold=0.50,\n",
    "    threshhold_color=\"tab:cyan\",\n",
    ")\n",
    "psd_iso_plot.plot_score(\n",
    "    ds_psd_nerf_ffn_score.ssh,\n",
    "    freq_scale=1e3,\n",
    "    units=\"km\",\n",
    "    name=\"NERF (FFN)\",\n",
    "    color=\"blue\",\n",
    "    threshhold=0.50,\n",
    "    threshhold_color=\"tab:blue\",\n",
    ")\n",
    "psd_iso_plot.plot_score(\n",
    "    ds_psd_nerf_siren_score.ssh,\n",
    "    freq_scale=1e3,\n",
    "    units=\"km\",\n",
    "    name=\"NERF (SIREN)\",\n",
    "    color=\"olive\",\n",
    "    threshhold=0.50,\n",
    "    threshhold_color=\"tab:olive\",\n",
    ")\n",
    "\n",
    "# set custom bounds\n",
    "# psd_iso_plot.ax.set_xlim((10**(-3) - 0.00025, 10**(-1) +0.025))\n",
    "psd_iso_plot.ax.set_ylabel(\"PSD Score [SSH]\")\n",
    "plt.legend()\n",
    "plt.tight_layout()\n",
    "plt.gcf().savefig(\n",
    "    \"./figures/dc20a/psd_score/isotropic/dc20a_psd_isotropic_score_nadir.png\"\n",
    ")\n",
    "plt.show()"
   ]
  },
  {
   "attachments": {},
   "cell_type": "markdown",
   "id": "937bbf97-74ed-4c49-8e83-7a1899c6e47a",
   "metadata": {},
   "source": [
    "## Prediction Datasets - SWOT"
   ]
  },
  {
   "cell_type": "code",
   "execution_count": null,
   "id": "3d34fac9-cf9c-4132-946b-40fdbbc45b80",
   "metadata": {},
   "outputs": [],
   "source": [
    "%%time\n",
    "\n",
    "# load config\n",
    "config_dm = OmegaConf.load(\"./configs/postprocess.yaml\")\n",
    "\n",
    "# instantiate\n",
    "ds_natl60 = hydra.utils.instantiate(config_dm.NATL60_GF_FULL).compute()\n",
    "ds_natl60"
   ]
  },
  {
   "cell_type": "code",
   "execution_count": null,
   "id": "e666b4e7-7356-430f-a856-28b646e6f318",
   "metadata": {},
   "outputs": [],
   "source": [
    "%%time\n",
    "\n",
    "# load config\n",
    "results_config = OmegaConf.load(\"./configs/results_dc20a_swot.yaml\")\n",
    "\n",
    "# instantiate\n",
    "ds_duacs = hydra.utils.instantiate(results_config.DUACS_SWOT.data).compute()\n",
    "ds_miost = hydra.utils.instantiate(results_config.MIOST_SWOT.data).compute()\n",
    "ds_nerf_siren = hydra.utils.instantiate(results_config.NERF_SIREN_SWOT.data).compute()\n",
    "ds_nerf_ffn = hydra.utils.instantiate(results_config.NERF_FFN_SWOT.data).compute()\n",
    "ds_nerf_mlp = hydra.utils.instantiate(results_config.NERF_MLP_SWOT.data).compute()"
   ]
  },
  {
   "attachments": {},
   "cell_type": "markdown",
   "id": "7ddebdc1-0fd1-4ce6-a1bd-2d6fe8338974",
   "metadata": {},
   "source": [
    "## Regrdding"
   ]
  },
  {
   "cell_type": "code",
   "execution_count": null,
   "id": "2b776f5c-5915-4147-8cf6-45cad525afb9",
   "metadata": {},
   "outputs": [],
   "source": [
    "from oceanbench._src.geoprocessing.gridding import grid_to_regular_grid"
   ]
  },
  {
   "cell_type": "code",
   "execution_count": null,
   "id": "d25f2fbb-6b71-489f-adb8-e9c1a38c3abd",
   "metadata": {},
   "outputs": [],
   "source": [
    "%%time\n",
    "\n",
    "ds_duacs = grid_to_regular_grid(\n",
    "    src_grid_ds=ds_duacs.pint.dequantify(),\n",
    "    tgt_grid_ds=ds_natl60.pint.dequantify(),\n",
    "    keep_attrs=False,\n",
    ")\n",
    "ds_miost = grid_to_regular_grid(\n",
    "    src_grid_ds=ds_miost.pint.dequantify(),\n",
    "    tgt_grid_ds=ds_natl60.pint.dequantify(),\n",
    "    keep_attrs=False,\n",
    ")\n",
    "ds_nerf_siren = grid_to_regular_grid(\n",
    "    src_grid_ds=ds_nerf_siren.pint.dequantify(),\n",
    "    tgt_grid_ds=ds_natl60.pint.dequantify(),\n",
    "    keep_attrs=False,\n",
    ")\n",
    "ds_nerf_ffn = grid_to_regular_grid(\n",
    "    src_grid_ds=ds_nerf_ffn.pint.dequantify(),\n",
    "    tgt_grid_ds=ds_natl60.pint.dequantify(),\n",
    "    keep_attrs=False,\n",
    ")\n",
    "ds_nerf_mlp = grid_to_regular_grid(\n",
    "    src_grid_ds=ds_nerf_mlp.pint.dequantify(),\n",
    "    tgt_grid_ds=ds_natl60.pint.dequantify(),\n",
    "    keep_attrs=False,\n",
    ")"
   ]
  },
  {
   "attachments": {},
   "cell_type": "markdown",
   "id": "bc1fd079-b606-4fd1-a466-1f0b14d729f8",
   "metadata": {},
   "source": [
    "### Preprocess Chain"
   ]
  },
  {
   "cell_type": "code",
   "execution_count": null,
   "id": "9e3d5cb0-1d8f-49ff-8841-9de0b0f8e9b2",
   "metadata": {},
   "outputs": [],
   "source": [
    "%%time\n",
    "\n",
    "# load config\n",
    "psd_config = OmegaConf.load(\"./configs/metrics.yaml\")\n",
    "\n",
    "ds_natl60 = hydra.utils.instantiate(psd_config.psd_preprocess_chain)(\n",
    "    ds_natl60.pint.dequantify()\n",
    ")\n",
    "ds_duacs = hydra.utils.instantiate(psd_config.psd_preprocess_chain)(\n",
    "    ds_duacs.pint.dequantify()\n",
    ")\n",
    "ds_miost = hydra.utils.instantiate(psd_config.psd_preprocess_chain)(\n",
    "    ds_miost.pint.dequantify()\n",
    ")\n",
    "ds_nerf_siren = hydra.utils.instantiate(psd_config.psd_preprocess_chain)(\n",
    "    ds_nerf_siren.pint.dequantify()\n",
    ")\n",
    "ds_nerf_ffn = hydra.utils.instantiate(psd_config.psd_preprocess_chain)(\n",
    "    ds_nerf_ffn.pint.dequantify()\n",
    ")\n",
    "ds_nerf_mlp = hydra.utils.instantiate(psd_config.psd_preprocess_chain)(\n",
    "    ds_nerf_mlp.pint.dequantify()\n",
    ")"
   ]
  },
  {
   "attachments": {},
   "cell_type": "markdown",
   "id": "f1984226-15da-4eba-839d-7468882170bb",
   "metadata": {},
   "source": [
    "## Power Spectrum (Isotropic)"
   ]
  },
  {
   "cell_type": "code",
   "execution_count": null,
   "id": "3c53b113-e732-47ff-a361-842311ff054b",
   "metadata": {
    "tags": []
   },
   "outputs": [],
   "source": [
    "%%time\n",
    "\n",
    "# load config\n",
    "psd_config = OmegaConf.load(\"./configs/metrics.yaml\")\n",
    "\n",
    "ds_natl60_psd = hydra.utils.instantiate(psd_config.psd_isotropic_chain)(\n",
    "    ds_natl60.pint.dequantify()\n",
    ")\n",
    "ds_duacs_psd = hydra.utils.instantiate(psd_config.psd_isotropic_chain)(\n",
    "    ds_duacs.pint.dequantify()\n",
    ")\n",
    "ds_miost_psd = hydra.utils.instantiate(psd_config.psd_isotropic_chain)(\n",
    "    ds_miost.pint.dequantify()\n",
    ")\n",
    "ds_nerf_siren_psd = hydra.utils.instantiate(psd_config.psd_isotropic_chain)(\n",
    "    ds_nerf_siren.pint.dequantify()\n",
    ")\n",
    "ds_nerf_ffn_psd = hydra.utils.instantiate(psd_config.psd_isotropic_chain)(\n",
    "    ds_nerf_ffn.pint.dequantify()\n",
    ")\n",
    "ds_nerf_mlp_psd = hydra.utils.instantiate(psd_config.psd_isotropic_chain)(\n",
    "    ds_nerf_mlp.pint.dequantify()\n",
    ")"
   ]
  },
  {
   "cell_type": "code",
   "execution_count": null,
   "id": "02bbee5c-fd4a-494f-ba8d-6b9d9a1533a8",
   "metadata": {},
   "outputs": [],
   "source": [
    "from jejeqx._src.viz.xarray.psd import PlotPSDIsotropic, PlotPSDScoreIsotropic"
   ]
  },
  {
   "cell_type": "code",
   "execution_count": null,
   "id": "5b51b716-446c-4dd2-b64c-99abb07cfab6",
   "metadata": {},
   "outputs": [],
   "source": [
    "psd_iso_plot = PlotPSDIsotropic()\n",
    "psd_iso_plot.init_fig(figsize=(8, 7))\n",
    "psd_iso_plot.plot_both(\n",
    "    ds_natl60_psd.ssh,\n",
    "    freq_scale=1e3,\n",
    "    units=\"km\",\n",
    "    label=\"NATL60\",\n",
    "    color=\"black\",\n",
    ")\n",
    "psd_iso_plot.plot_both(\n",
    "    ds_duacs_psd.ssh,\n",
    "    freq_scale=1e3,\n",
    "    units=\"km\",\n",
    "    label=\"DUACS\",\n",
    "    color=\"tab:green\",\n",
    ")\n",
    "psd_iso_plot.plot_both(\n",
    "    ds_miost_psd.ssh,\n",
    "    freq_scale=1e3,\n",
    "    units=\"km\",\n",
    "    label=\"MIOST\",\n",
    "    color=\"tab:red\",\n",
    ")\n",
    "psd_iso_plot.plot_both(\n",
    "    ds_nerf_ffn_psd.ssh,\n",
    "    freq_scale=1e3,\n",
    "    units=\"km\",\n",
    "    label=\"NERF (FFN)\",\n",
    "    color=\"tab:blue\",\n",
    ")\n",
    "psd_iso_plot.plot_both(\n",
    "    ds_nerf_siren_psd.ssh,\n",
    "    freq_scale=1e3,\n",
    "    units=\"km\",\n",
    "    label=\"NERF (SIREN)\",\n",
    "    color=\"tab:olive\",\n",
    ")\n",
    "psd_iso_plot.plot_both(\n",
    "    ds_nerf_mlp_psd.ssh,\n",
    "    freq_scale=1e3,\n",
    "    units=\"km\",\n",
    "    label=\"NERF (MLP)\",\n",
    "    color=\"tab:cyan\",\n",
    ")\n",
    "\n",
    "# set custom bounds\n",
    "psd_iso_plot.ax.set_xlim((10 ** (-3) - 0.00025, 10 ** (-1) + 0.025))\n",
    "psd_iso_plot.ax.set_ylabel(\"PSD [SSH]\")\n",
    "plt.tight_layout()\n",
    "plt.gcf().savefig(\"./figures/dc20a/psd/isotropic/dc20a_psd_isotropic_swot.png\")\n",
    "plt.show()"
   ]
  },
  {
   "attachments": {},
   "cell_type": "markdown",
   "id": "304927a3-9019-4c53-b19c-6e2dd5c445a8",
   "metadata": {},
   "source": [
    "### PSD Isotropic Score"
   ]
  },
  {
   "cell_type": "code",
   "execution_count": null,
   "id": "22c788df-a55d-404a-aa21-ee3bd2b458f1",
   "metadata": {
    "tags": []
   },
   "outputs": [],
   "source": [
    "%%time\n",
    "\n",
    "# load config\n",
    "psd_config = OmegaConf.load(\"./configs/metrics.yaml\")\n",
    "\n",
    "ds_psd_duacs_score = hydra.utils.instantiate(\n",
    "    psd_config.psd_isotropic_score,\n",
    "    da=ds_duacs.pint.dequantify(),\n",
    "    da_ref=ds_natl60.pint.dequantify(),\n",
    ")\n",
    "\n",
    "ds_psd_miost_score = hydra.utils.instantiate(\n",
    "    psd_config.psd_isotropic_score,\n",
    "    da=ds_miost.pint.dequantify(),\n",
    "    da_ref=ds_natl60.pint.dequantify(),\n",
    ")\n",
    "\n",
    "ds_psd_nerf_mlp_score = hydra.utils.instantiate(\n",
    "    psd_config.psd_isotropic_score,\n",
    "    da=ds_nerf_mlp.pint.dequantify(),\n",
    "    da_ref=ds_natl60.pint.dequantify(),\n",
    ")\n",
    "\n",
    "ds_psd_nerf_ffn_score = hydra.utils.instantiate(\n",
    "    psd_config.psd_isotropic_score,\n",
    "    da=ds_nerf_ffn.pint.dequantify(),\n",
    "    da_ref=ds_natl60.pint.dequantify(),\n",
    ")\n",
    "\n",
    "ds_psd_nerf_siren_score = hydra.utils.instantiate(\n",
    "    psd_config.psd_isotropic_score,\n",
    "    da=ds_nerf_siren.pint.dequantify(),\n",
    "    da_ref=ds_natl60.pint.dequantify(),\n",
    ")"
   ]
  },
  {
   "cell_type": "code",
   "execution_count": null,
   "id": "f3a0aabf-f2c9-4391-bba5-42ecea249da3",
   "metadata": {},
   "outputs": [],
   "source": [
    "from oceanbench._src.metrics.utils import find_intercept_1D, find_intercept_2D"
   ]
  },
  {
   "cell_type": "code",
   "execution_count": null,
   "id": "0a3dbf56-87af-42f6-b3c3-1ca7f841f5f5",
   "metadata": {},
   "outputs": [],
   "source": [
    "psd_iso_plot = PlotPSDScoreIsotropic()\n",
    "psd_iso_plot.init_fig(figsize=(8, 7))\n",
    "psd_iso_plot.plot_score(\n",
    "    ds_psd_duacs_score.ssh,\n",
    "    freq_scale=1e3,\n",
    "    units=\"km\",\n",
    "    name=\"DUACS\",\n",
    "    color=\"green\",\n",
    "    threshhold=0.50,\n",
    "    threshhold_color=\"tab:green\",\n",
    ")\n",
    "psd_iso_plot.plot_score(\n",
    "    ds_psd_miost_score.ssh,\n",
    "    freq_scale=1e3,\n",
    "    units=\"km\",\n",
    "    name=\"MIOST\",\n",
    "    color=\"red\",\n",
    "    threshhold=0.50,\n",
    "    threshhold_color=\"tab:red\",\n",
    ")\n",
    "psd_iso_plot.plot_score(\n",
    "    ds_psd_nerf_mlp_score.ssh,\n",
    "    freq_scale=1e3,\n",
    "    units=\"km\",\n",
    "    name=\"NERF (MLP)\",\n",
    "    color=\"cyan\",\n",
    "    threshhold=0.50,\n",
    "    threshhold_color=\"tab:cyan\",\n",
    ")\n",
    "psd_iso_plot.plot_score(\n",
    "    ds_psd_nerf_ffn_score.ssh,\n",
    "    freq_scale=1e3,\n",
    "    units=\"km\",\n",
    "    name=\"NERF (FFN)\",\n",
    "    color=\"blue\",\n",
    "    threshhold=0.50,\n",
    "    threshhold_color=\"tab:blue\",\n",
    ")\n",
    "psd_iso_plot.plot_score(\n",
    "    ds_psd_nerf_siren_score.ssh,\n",
    "    freq_scale=1e3,\n",
    "    units=\"km\",\n",
    "    name=\"NERF (SIREN)\",\n",
    "    color=\"olive\",\n",
    "    threshhold=0.50,\n",
    "    threshhold_color=\"tab:olive\",\n",
    ")\n",
    "\n",
    "# set custom bounds\n",
    "# psd_iso_plot.ax.set_xlim((10**(-3) - 0.00025, 10**(-1) +0.025))\n",
    "psd_iso_plot.ax.set_ylabel(\"PSD Score [SSH]\")\n",
    "plt.legend()\n",
    "plt.tight_layout()\n",
    "plt.gcf().savefig(\n",
    "    \"./figures/dc20a/psd_score/isotropic/dc20a_psd_isotropic_score_swot.png\"\n",
    ")\n",
    "plt.show()"
   ]
  },
  {
   "cell_type": "code",
   "execution_count": null,
   "id": "6d3ab2a9-4698-4a7f-a362-d94caa2dd7a4",
   "metadata": {},
   "outputs": [],
   "source": []
  }
 ],
 "metadata": {
  "kernelspec": {
   "display_name": "Python [conda env:miniconda3-jejeqx]",
   "language": "python",
   "name": "conda-env-miniconda3-jejeqx-py"
  },
  "language_info": {
   "codemirror_mode": {
    "name": "ipython",
    "version": 3
   },
   "file_extension": ".py",
   "mimetype": "text/x-python",
   "name": "python",
   "nbconvert_exporter": "python",
   "pygments_lexer": "ipython3",
   "version": "3.10.10"
  }
 },
 "nbformat": 4,
 "nbformat_minor": 5
}
