{
 "cells": [
  {
   "cell_type": "markdown",
   "id": "4123c4da-15c8-47f8-9781-7c14c94e2910",
   "metadata": {
    "tags": [],
    "user_expressions": []
   },
   "source": [
    "---\n",
    "title: Gradient Considerations\n",
    "date: 2023-04-01\n",
    "authors:\n",
    "  - name: J. Emmanuel Johnson\n",
    "    affiliations:\n",
    "      - MEOM Lab\n",
    "    roles:\n",
    "      - Primary Programmer\n",
    "    email: jemanjohnson34@gmail.com\n",
    "license: CC-BY-4.0\n",
    "keywords: NerFs, Images\n",
    "---"
   ]
  },
  {
   "cell_type": "code",
   "execution_count": null,
   "id": "bc632417-fe26-49ce-a2c4-9ae125938e93",
   "metadata": {},
   "outputs": [],
   "source": [
    "import sys, os\n",
    "\n",
    "# spyder up to find the root\n",
    "oceanbench_root = \"/gpfswork/rech/cli/uvo53rl/projects/oceanbench\"\n",
    "\n",
    "# append to path\n",
    "sys.path.append(str(oceanbench_root))"
   ]
  },
  {
   "cell_type": "code",
   "execution_count": null,
   "id": "6028f5f4-c74e-42aa-a147-be448542e2de",
   "metadata": {
    "tags": []
   },
   "outputs": [],
   "source": [
    "import autoroot\n",
    "import typing as tp\n",
    "import jax\n",
    "import jax.numpy as jnp\n",
    "import jax.scipy as jsp\n",
    "import jax.random as jrandom\n",
    "import numpy as np\n",
    "import numba as nb\n",
    "import pandas as pd\n",
    "import equinox as eqx\n",
    "import kernex as kex\n",
    "import finitediffx as fdx\n",
    "import diffrax as dfx\n",
    "import xarray as xr\n",
    "import matplotlib.pyplot as plt\n",
    "import seaborn as sns\n",
    "from tqdm.notebook import tqdm, trange\n",
    "from jaxtyping import Float, Array, PyTree, ArrayLike\n",
    "import wandb\n",
    "from omegaconf import OmegaConf\n",
    "import hydra\n",
    "import metpy\n",
    "from sklearn.pipeline import Pipeline\n",
    "from jejeqx._src.transforms.dataframe.spatial import Spherical2Cartesian\n",
    "from jejeqx._src.transforms.dataframe.temporal import TimeDelta\n",
    "from jejeqx._src.transforms.dataframe.scaling import MinMaxDF\n",
    "\n",
    "\n",
    "sns.reset_defaults()\n",
    "sns.set_context(context=\"poster\", font_scale=0.7)\n",
    "jax.config.update(\"jax_enable_x64\", False)\n",
    "\n",
    "%matplotlib inline\n",
    "%load_ext autoreload\n",
    "%autoreload 2"
   ]
  },
  {
   "cell_type": "markdown",
   "id": "aaaeaf71-b606-4992-bea4-4ea8ed377305",
   "metadata": {},
   "source": [
    "## Processing Chain\n",
    "\n",
    "**Part I**:\n",
    "\n",
    "* Open Dataset\n",
    "* Validate Coordinates + Variables\n",
    "* Decode Time\n",
    "* Select Region\n",
    "* Sortby Time\n",
    "\n",
    "**Part II**: Regrid\n",
    "\n",
    "**Part III**:\n",
    "\n",
    "* Interpolate Nans\n",
    "* Add Units\n",
    "* Spatial Rescale\n",
    "* Time Rescale\n",
    "\n",
    "**Part IV**: Metrics\n",
    "\n",
    "*"
   ]
  },
  {
   "cell_type": "markdown",
   "id": "5ac67435-b31d-4788-b79d-3d2e3b5ac1df",
   "metadata": {
    "user_expressions": []
   },
   "source": [
    "## Data"
   ]
  },
  {
   "cell_type": "code",
   "execution_count": null,
   "id": "aefda25b-01ae-4654-b4ce-03c17732a4a6",
   "metadata": {},
   "outputs": [],
   "source": [
    "# !wget wget -nc https://s3.us-east-1.wasabisys.com/melody/osse_data/ref/NATL60-CJM165_GULFSTREAM_ssh_y2013.1y.nc"
   ]
  },
  {
   "cell_type": "code",
   "execution_count": null,
   "id": "3f57a5ce-5b2d-4b0e-a1dc-a80bbfc00844",
   "metadata": {},
   "outputs": [],
   "source": [
    "# !cat configs/postprocess.yaml"
   ]
  },
  {
   "cell_type": "code",
   "execution_count": null,
   "id": "8a26f13e-80a9-467c-8c3d-7d2f3f6beca5",
   "metadata": {},
   "outputs": [],
   "source": [
    "# # load config\n",
    "# config_dm = OmegaConf.load('./configs/postprocess.yaml')\n",
    "\n",
    "# # instantiate\n",
    "# ds = hydra.utils.instantiate(config_dm.NATL60_GF_1Y1D)\n",
    "# ds"
   ]
  },
  {
   "cell_type": "markdown",
   "id": "1c988b80-a5c7-4d01-95bc-e3d4f451b260",
   "metadata": {},
   "source": [
    "## Reference Dataset\n",
    "\n",
    "For the reference dataset, we will look at the NEMO simulation of the Gulfstream."
   ]
  },
  {
   "cell_type": "code",
   "execution_count": null,
   "id": "b434aad4-c3e0-4e96-8ec1-2ebceb6f5473",
   "metadata": {},
   "outputs": [],
   "source": [
    "%%time\n",
    "\n",
    "# load config\n",
    "config_dm = OmegaConf.load(\"./configs/postprocess.yaml\")\n",
    "\n",
    "# instantiate\n",
    "ds_natl60 = hydra.utils.instantiate(config_dm.NATL60_GF_FULL).compute()\n",
    "ds_natl60"
   ]
  },
  {
   "cell_type": "markdown",
   "id": "953427c1-ed8e-49f5-b660-60054fbd5ed9",
   "metadata": {},
   "source": [
    "### Prediction Datasets - NADIR"
   ]
  },
  {
   "cell_type": "code",
   "execution_count": null,
   "id": "2f0e0d80-eccf-49ad-a51a-0d011ad7a214",
   "metadata": {},
   "outputs": [],
   "source": [
    "%%time\n",
    "\n",
    "experiment = \"swot\"  # \"nadir\" #\n",
    "if experiment == \"nadir\":\n",
    "    # load config\n",
    "    results_config = OmegaConf.load(f\"./configs/results_dc20a_nadir.yaml\")\n",
    "\n",
    "    # instantiate\n",
    "    ds_duacs = hydra.utils.instantiate(results_config.DUACS_NADIR.data).compute()\n",
    "    ds_miost = hydra.utils.instantiate(results_config.MIOST_NADIR.data).compute()\n",
    "    ds_nerf_siren = hydra.utils.instantiate(\n",
    "        results_config.NERF_SIREN_NADIR.data\n",
    "    ).compute()\n",
    "    ds_nerf_ffn = hydra.utils.instantiate(results_config.NERF_FFN_NADIR.data).compute()\n",
    "    ds_nerf_mlp = hydra.utils.instantiate(results_config.NERF_MLP_NADIR.data).compute()\n",
    "elif experiment == \"swot\":\n",
    "    # load config\n",
    "    results_config = OmegaConf.load(f\"./configs/results_dc20a_swot.yaml\")\n",
    "\n",
    "    # instantiate\n",
    "    ds_duacs = hydra.utils.instantiate(results_config.DUACS_SWOT.data).compute()\n",
    "    ds_miost = hydra.utils.instantiate(results_config.MIOST_SWOT.data).compute()\n",
    "    ds_nerf_siren = hydra.utils.instantiate(\n",
    "        results_config.NERF_SIREN_SWOT.data\n",
    "    ).compute()\n",
    "    ds_nerf_ffn = hydra.utils.instantiate(results_config.NERF_FFN_SWOT.data).compute()\n",
    "    ds_nerf_mlp = hydra.utils.instantiate(results_config.NERF_MLP_SWOT.data).compute()"
   ]
  },
  {
   "cell_type": "markdown",
   "id": "73fa461e-44dd-4dff-80da-3eb59239ea5b",
   "metadata": {},
   "source": [
    "## Regrdding"
   ]
  },
  {
   "cell_type": "code",
   "execution_count": null,
   "id": "b22492c3-6f5d-4783-b33d-27ff11e4ca64",
   "metadata": {},
   "outputs": [],
   "source": [
    "from oceanbench._src.geoprocessing.gridding import grid_to_regular_grid"
   ]
  },
  {
   "cell_type": "code",
   "execution_count": null,
   "id": "9822001b-e95d-418b-82bf-e2c211d1e680",
   "metadata": {},
   "outputs": [],
   "source": [
    "%%time\n",
    "\n",
    "ds_duacs = grid_to_regular_grid(\n",
    "    src_grid_ds=ds_duacs.pint.dequantify(),\n",
    "    tgt_grid_ds=ds_natl60.pint.dequantify(),\n",
    "    keep_attrs=False,\n",
    ")\n",
    "ds_miost = grid_to_regular_grid(\n",
    "    src_grid_ds=ds_miost.pint.dequantify(),\n",
    "    tgt_grid_ds=ds_natl60.pint.dequantify(),\n",
    "    keep_attrs=False,\n",
    ")\n",
    "ds_nerf_siren = grid_to_regular_grid(\n",
    "    src_grid_ds=ds_nerf_siren.pint.dequantify(),\n",
    "    tgt_grid_ds=ds_natl60.pint.dequantify(),\n",
    "    keep_attrs=False,\n",
    ")\n",
    "ds_nerf_ffn = grid_to_regular_grid(\n",
    "    src_grid_ds=ds_nerf_ffn.pint.dequantify(),\n",
    "    tgt_grid_ds=ds_natl60.pint.dequantify(),\n",
    "    keep_attrs=False,\n",
    ")\n",
    "ds_nerf_mlp = grid_to_regular_grid(\n",
    "    src_grid_ds=ds_nerf_mlp.pint.dequantify(),\n",
    "    tgt_grid_ds=ds_natl60.pint.dequantify(),\n",
    "    keep_attrs=False,\n",
    ")"
   ]
  },
  {
   "cell_type": "markdown",
   "id": "10b0f701-9fc6-4fad-95f0-4f138f3b9258",
   "metadata": {},
   "source": [
    "### Preprocess Chain"
   ]
  },
  {
   "cell_type": "code",
   "execution_count": null,
   "id": "681b402b-7cb3-4a1c-81e7-e2296181f60d",
   "metadata": {},
   "outputs": [],
   "source": [
    "%%time\n",
    "\n",
    "# load config\n",
    "psd_config = OmegaConf.load(\"./configs/metrics.yaml\")\n",
    "\n",
    "ds_natl60 = hydra.utils.instantiate(psd_config.psd_preprocess_chain)(\n",
    "    ds_natl60.pint.dequantify()\n",
    ")\n",
    "ds_duacs = hydra.utils.instantiate(psd_config.psd_preprocess_chain)(\n",
    "    ds_duacs.pint.dequantify()\n",
    ")\n",
    "ds_miost = hydra.utils.instantiate(psd_config.psd_preprocess_chain)(\n",
    "    ds_miost.pint.dequantify()\n",
    ")\n",
    "ds_nerf_siren = hydra.utils.instantiate(psd_config.psd_preprocess_chain)(\n",
    "    ds_nerf_siren.pint.dequantify()\n",
    ")\n",
    "ds_nerf_ffn = hydra.utils.instantiate(psd_config.psd_preprocess_chain)(\n",
    "    ds_nerf_ffn.pint.dequantify()\n",
    ")\n",
    "ds_nerf_mlp = hydra.utils.instantiate(psd_config.psd_preprocess_chain)(\n",
    "    ds_nerf_mlp.pint.dequantify()\n",
    ")"
   ]
  },
  {
   "cell_type": "markdown",
   "id": "f89fb06e-cf0d-42bd-aa4e-1ed0de630e88",
   "metadata": {},
   "source": [
    "## Power Spectrum (Spacetime)"
   ]
  },
  {
   "cell_type": "code",
   "execution_count": null,
   "id": "35b1cf47-fa95-4b6e-8bb8-c8c4063e58d9",
   "metadata": {
    "tags": []
   },
   "outputs": [],
   "source": [
    "%%time\n",
    "\n",
    "# load config\n",
    "psd_config = OmegaConf.load(\"./configs/metrics.yaml\")\n",
    "\n",
    "ds_natl60_psd = hydra.utils.instantiate(psd_config.psd_spacetime_chain)(\n",
    "    ds_natl60.pint.dequantify()\n",
    ")\n",
    "ds_duacs_psd = hydra.utils.instantiate(psd_config.psd_spacetime_chain)(\n",
    "    ds_duacs.pint.dequantify()\n",
    ")\n",
    "ds_miost_psd = hydra.utils.instantiate(psd_config.psd_spacetime_chain)(\n",
    "    ds_miost.pint.dequantify()\n",
    ")\n",
    "ds_nerf_siren_psd = hydra.utils.instantiate(psd_config.psd_spacetime_chain)(\n",
    "    ds_nerf_siren.pint.dequantify()\n",
    ")\n",
    "ds_nerf_ffn_psd = hydra.utils.instantiate(psd_config.psd_spacetime_chain)(\n",
    "    ds_nerf_ffn.pint.dequantify()\n",
    ")\n",
    "ds_nerf_mlp_psd = hydra.utils.instantiate(psd_config.psd_spacetime_chain)(\n",
    "    ds_nerf_mlp.pint.dequantify()\n",
    ")"
   ]
  },
  {
   "cell_type": "code",
   "execution_count": null,
   "id": "3aa56698-b46a-426d-acf3-af5cacce97b9",
   "metadata": {},
   "outputs": [],
   "source": [
    "from jejeqx._src.viz.xarray.psd import PlotPSDSpaceTime, PlotPSDSpaceTimeScore"
   ]
  },
  {
   "cell_type": "code",
   "execution_count": null,
   "id": "43142d76-e57f-4ac9-b915-b0d1a44c2e95",
   "metadata": {
    "tags": []
   },
   "outputs": [],
   "source": [
    "fig, ax = plt.subplots(ncols=2, nrows=3, figsize=(15, 20))\n",
    "\n",
    "# NATL60\n",
    "psd_st_plot = PlotPSDSpaceTime()\n",
    "psd_st_plot.init_fig(ax=ax[0, 0])\n",
    "psd_st_plot.plot_wavelength(\n",
    "    ds_natl60_psd.ssh,\n",
    "    space_scale=1e3,\n",
    "    space_units=\"km\",\n",
    "    time_units=\"days\",\n",
    "    psd_units=\"SSH\",\n",
    ")\n",
    "ax[0, 0].set(title=\"NATL60\")\n",
    "\n",
    "# DUACS\n",
    "psd_st_plot = PlotPSDSpaceTime()\n",
    "psd_st_plot.init_fig(ax=ax[0, 1])\n",
    "psd_st_plot.plot_wavelength(\n",
    "    ds_duacs_psd.ssh,\n",
    "    space_scale=1e3,\n",
    "    space_units=\"km\",\n",
    "    time_units=\"days\",\n",
    "    psd_units=\"SSH\",\n",
    ")\n",
    "ax[0, 1].set(title=\"DUACS\")\n",
    "\n",
    "# MIOST\n",
    "psd_st_plot = PlotPSDSpaceTime()\n",
    "psd_st_plot.init_fig(ax=ax[1, 0])\n",
    "psd_st_plot.plot_wavelength(\n",
    "    ds_miost_psd.ssh,\n",
    "    space_scale=1e3,\n",
    "    space_units=\"km\",\n",
    "    time_units=\"days\",\n",
    "    psd_units=\"SSH\",\n",
    ")\n",
    "ax[1, 0].set(title=\"MIOST\")\n",
    "\n",
    "# NERF - MLP\n",
    "psd_st_plot = PlotPSDSpaceTime()\n",
    "psd_st_plot.init_fig(ax=ax[1, 1])\n",
    "psd_st_plot.plot_wavelength(\n",
    "    ds_nerf_mlp_psd.ssh,\n",
    "    space_scale=1e3,\n",
    "    space_units=\"km\",\n",
    "    time_units=\"days\",\n",
    "    psd_units=\"SSH\",\n",
    ")\n",
    "ax[1, 1].set(title=\"NerF (MLP)\")\n",
    "\n",
    "# NERF - FFN\n",
    "psd_st_plot = PlotPSDSpaceTime()\n",
    "psd_st_plot.init_fig(ax=ax[2, 0])\n",
    "psd_st_plot.plot_wavelength(\n",
    "    ds_nerf_ffn_psd.ssh,\n",
    "    space_scale=1e3,\n",
    "    space_units=\"km\",\n",
    "    time_units=\"days\",\n",
    "    psd_units=\"SSH\",\n",
    ")\n",
    "ax[2, 0].set(title=\"NerF (FFN)\")\n",
    "\n",
    "# NERF - SIREN\n",
    "psd_st_plot = PlotPSDSpaceTime()\n",
    "psd_st_plot.init_fig(ax=ax[2, 1])\n",
    "psd_st_plot.plot_wavelength(\n",
    "    ds_nerf_siren_psd.ssh,\n",
    "    space_scale=1e3,\n",
    "    space_units=\"km\",\n",
    "    time_units=\"days\",\n",
    "    psd_units=\"SSH\",\n",
    ")\n",
    "ax[2, 1].set(title=\"NerF (SIREN)\")\n",
    "\n",
    "plt.tight_layout()\n",
    "plt.gcf().savefig(f\"./figures/dc20a/psd/spacetime/dc20a_psd_spacetime_{experiment}.png\")\n",
    "plt.show()"
   ]
  },
  {
   "cell_type": "markdown",
   "id": "c3471950-e00c-4dfc-a818-639430c65c82",
   "metadata": {},
   "source": [
    "## Power Spectrum Score (Spacetime)"
   ]
  },
  {
   "cell_type": "code",
   "execution_count": null,
   "id": "bd62dd68-2e55-49f8-930c-9e428b2051fb",
   "metadata": {
    "tags": []
   },
   "outputs": [],
   "source": [
    "%%time\n",
    "\n",
    "# load config\n",
    "psd_config = OmegaConf.load(\"./configs/metrics.yaml\")\n",
    "\n",
    "ds_psd_duacs_score = hydra.utils.instantiate(\n",
    "    psd_config.psd_spacetime_score,\n",
    "    da=ds_duacs.pint.dequantify(),\n",
    "    da_ref=ds_natl60.pint.dequantify(),\n",
    ")\n",
    "\n",
    "ds_psd_miost_score = hydra.utils.instantiate(\n",
    "    psd_config.psd_spacetime_score,\n",
    "    da=ds_miost.pint.dequantify(),\n",
    "    da_ref=ds_natl60.pint.dequantify(),\n",
    ")\n",
    "\n",
    "ds_psd_nerf_mlp_score = hydra.utils.instantiate(\n",
    "    psd_config.psd_spacetime_score,\n",
    "    da=ds_nerf_mlp.pint.dequantify(),\n",
    "    da_ref=ds_natl60.pint.dequantify(),\n",
    ")\n",
    "\n",
    "ds_psd_nerf_ffn_score = hydra.utils.instantiate(\n",
    "    psd_config.psd_spacetime_score,\n",
    "    da=ds_nerf_ffn.pint.dequantify(),\n",
    "    da_ref=ds_natl60.pint.dequantify(),\n",
    ")\n",
    "\n",
    "ds_psd_nerf_siren_score = hydra.utils.instantiate(\n",
    "    psd_config.psd_spacetime_score,\n",
    "    da=ds_nerf_siren.pint.dequantify(),\n",
    "    da_ref=ds_natl60.pint.dequantify(),\n",
    ")"
   ]
  },
  {
   "cell_type": "markdown",
   "id": "8feb595d-bfbd-47ad-a4b4-2bf7e1c51ace",
   "metadata": {},
   "source": [
    "### NATL60"
   ]
  },
  {
   "cell_type": "code",
   "execution_count": null,
   "id": "76573901-a0be-49ac-a55b-45e1b6dc5cad",
   "metadata": {
    "jupyter": {
     "source_hidden": true
    },
    "tags": []
   },
   "outputs": [],
   "source": [
    "# NATL60\n",
    "fig, ax = plt.subplots(figsize=(7, 5.5))\n",
    "\n",
    "psd_st_plot = PlotPSDSpaceTime()\n",
    "psd_st_plot.init_fig(ax=ax)\n",
    "psd_st_plot.plot_wavelength(\n",
    "    ds_natl60_psd.ssh,\n",
    "    space_scale=1e3,\n",
    "    space_units=\"km\",\n",
    "    time_units=\"days\",\n",
    "    psd_units=\"SSH\",\n",
    ")\n",
    "plt.tight_layout()\n",
    "plt.gcf().savefig(\n",
    "    f\"./figures/dc20a/psd/spacetime/dc20a_psd_spacetime_ssh_natl60_{experiment}.png\"\n",
    ")\n",
    "plt.close()"
   ]
  },
  {
   "cell_type": "markdown",
   "id": "8d0febb1-1929-4b37-806f-bd021f8de642",
   "metadata": {},
   "source": [
    "### DUACS"
   ]
  },
  {
   "cell_type": "code",
   "execution_count": null,
   "id": "2e3f46ac-78ff-4eaa-a6e5-f6b536e207ff",
   "metadata": {
    "jupyter": {
     "source_hidden": true
    },
    "tags": []
   },
   "outputs": [],
   "source": [
    "# DUACS\n",
    "fig, ax = plt.subplots(figsize=(7, 5.5))\n",
    "\n",
    "psd_st_plot = PlotPSDSpaceTime()\n",
    "psd_st_plot.init_fig(ax=ax)\n",
    "psd_st_plot.plot_wavelength(\n",
    "    ds_duacs_psd.ssh,\n",
    "    space_scale=1e3,\n",
    "    space_units=\"km\",\n",
    "    time_units=\"days\",\n",
    "    psd_units=\"SSH\",\n",
    ")\n",
    "plt.tight_layout()\n",
    "plt.gcf().savefig(\n",
    "    f\"./figures/dc20a/psd/spacetime/dc20a_psd_spacetime_ssh_duacs_{experiment}.png\"\n",
    ")\n",
    "plt.close()"
   ]
  },
  {
   "cell_type": "markdown",
   "id": "a90ac5b1-cacf-4ce8-8128-4f3cc63b3739",
   "metadata": {},
   "source": [
    "### MIOST"
   ]
  },
  {
   "cell_type": "code",
   "execution_count": null,
   "id": "8d1dd388-11f4-47d1-8a77-a9b6ed73e487",
   "metadata": {
    "jupyter": {
     "source_hidden": true
    },
    "tags": []
   },
   "outputs": [],
   "source": [
    "# DUACS\n",
    "fig, ax = plt.subplots(figsize=(7, 5.5))\n",
    "\n",
    "psd_st_plot = PlotPSDSpaceTime()\n",
    "psd_st_plot.init_fig(ax=ax)\n",
    "psd_st_plot.plot_wavelength(\n",
    "    ds_miost_psd.ssh,\n",
    "    space_scale=1e3,\n",
    "    space_units=\"km\",\n",
    "    time_units=\"days\",\n",
    "    psd_units=\"SSH\",\n",
    ")\n",
    "plt.tight_layout()\n",
    "plt.gcf().savefig(\n",
    "    f\"./figures/dc20a/psd/spacetime/dc20a_psd_spacetime_ssh_miost_{experiment}.png\"\n",
    ")\n",
    "plt.close()"
   ]
  },
  {
   "cell_type": "markdown",
   "id": "ef36bf64-b36f-4e9f-b4f5-5e9ec67d15e6",
   "metadata": {},
   "source": [
    "### NERF (MLP)"
   ]
  },
  {
   "cell_type": "code",
   "execution_count": null,
   "id": "4ee3821e-f469-482f-935e-316a42f1c422",
   "metadata": {
    "jupyter": {
     "source_hidden": true
    },
    "tags": []
   },
   "outputs": [],
   "source": [
    "# DUACS\n",
    "fig, ax = plt.subplots(figsize=(7, 5.5))\n",
    "\n",
    "psd_st_plot = PlotPSDSpaceTime()\n",
    "psd_st_plot.init_fig(ax=ax)\n",
    "psd_st_plot.plot_wavelength(\n",
    "    ds_nerf_mlp_psd.ssh,\n",
    "    space_scale=1e3,\n",
    "    space_units=\"km\",\n",
    "    time_units=\"days\",\n",
    "    psd_units=\"SSH\",\n",
    ")\n",
    "plt.tight_layout()\n",
    "plt.gcf().savefig(\n",
    "    f\"./figures/dc20a/psd/spacetime/dc20a_psd_spacetime_ssh_nerf_mlp_{experiment}.png\"\n",
    ")\n",
    "plt.close()"
   ]
  },
  {
   "cell_type": "markdown",
   "id": "e03514fd-b2db-47e6-bb90-a203a6929dd0",
   "metadata": {},
   "source": [
    "### NERF (FFN)"
   ]
  },
  {
   "cell_type": "code",
   "execution_count": null,
   "id": "0179a169-7b19-4cf2-a5ee-97690639ff21",
   "metadata": {
    "jupyter": {
     "source_hidden": true
    },
    "tags": []
   },
   "outputs": [],
   "source": [
    "# DUACS\n",
    "fig, ax = plt.subplots(figsize=(7, 5.5))\n",
    "\n",
    "psd_st_plot = PlotPSDSpaceTime()\n",
    "psd_st_plot.init_fig(ax=ax)\n",
    "psd_st_plot.plot_wavelength(\n",
    "    ds_nerf_ffn_psd.ssh,\n",
    "    space_scale=1e3,\n",
    "    space_units=\"km\",\n",
    "    time_units=\"days\",\n",
    "    psd_units=\"SSH\",\n",
    ")\n",
    "plt.tight_layout()\n",
    "plt.gcf().savefig(\n",
    "    f\"./figures/dc20a/psd/spacetime/dc20a_psd_spacetime_ssh_nerf_ffn_{experiment}.png\"\n",
    ")\n",
    "plt.close()"
   ]
  },
  {
   "cell_type": "markdown",
   "id": "38f58613-8a5c-406d-92c4-23f265248dd1",
   "metadata": {},
   "source": [
    "### NERF (SIREN)"
   ]
  },
  {
   "cell_type": "code",
   "execution_count": null,
   "id": "f5c8c5ad-8b85-4133-9353-0f5be1770b69",
   "metadata": {
    "jupyter": {
     "source_hidden": true
    },
    "tags": []
   },
   "outputs": [],
   "source": [
    "# DUACS\n",
    "fig, ax = plt.subplots(figsize=(7, 5.5))\n",
    "\n",
    "psd_st_plot = PlotPSDSpaceTime()\n",
    "psd_st_plot.init_fig(ax=ax)\n",
    "psd_st_plot.plot_wavelength(\n",
    "    ds_nerf_siren_psd.ssh,\n",
    "    space_scale=1e3,\n",
    "    space_units=\"km\",\n",
    "    time_units=\"days\",\n",
    "    psd_units=\"SSH\",\n",
    ")\n",
    "plt.tight_layout()\n",
    "plt.gcf().savefig(\n",
    "    f\"./figures/dc20a/psd/spacetime/dc20a_psd_spacetime_ssh_nerf_siren_{experiment}.png\"\n",
    ")\n",
    "plt.close()"
   ]
  },
  {
   "cell_type": "code",
   "execution_count": null,
   "id": "96c367e1-d0f2-49bb-92df-811ce2b08406",
   "metadata": {},
   "outputs": [],
   "source": [
    "from jejeqx._src.viz.xarray.psd import PlotPSDSpaceTime, PlotPSDSpaceTimeScore"
   ]
  },
  {
   "cell_type": "code",
   "execution_count": null,
   "id": "efea42e2-6d51-420f-9b73-62fe20b9817d",
   "metadata": {
    "tags": []
   },
   "outputs": [],
   "source": [
    "fig, ax = plt.subplots(ncols=2, nrows=3, figsize=(15, 20))\n",
    "\n",
    "# NATL60\n",
    "psd_st_plot = PlotPSDSpaceTime()\n",
    "psd_st_plot.init_fig(ax=ax[0, 0])\n",
    "psd_st_plot.plot_wavelength(\n",
    "    ds_natl60_psd.ssh,\n",
    "    space_scale=1e3,\n",
    "    space_units=\"km\",\n",
    "    time_units=\"days\",\n",
    "    psd_units=\"SSH\",\n",
    ")\n",
    "ax[0, 0].set(title=\"NATL60\")\n",
    "\n",
    "# DUACS\n",
    "psd_st_plot = PlotPSDSpaceTimeScore()\n",
    "psd_st_plot.init_fig(ax=ax[0, 1])\n",
    "psd_st_plot.plot_wavelength(\n",
    "    ds_psd_duacs_score.ssh,\n",
    "    space_scale=1e3,\n",
    "    space_units=\"km\",\n",
    "    time_units=\"days\",\n",
    "    psd_units=\"SSH\",\n",
    ")\n",
    "ax[0, 1].set(title=\"DUACS\")\n",
    "\n",
    "# MIOST\n",
    "psd_st_plot = PlotPSDSpaceTimeScore()\n",
    "psd_st_plot.init_fig(ax=ax[1, 0])\n",
    "psd_st_plot.plot_wavelength(\n",
    "    ds_psd_miost_score.ssh,\n",
    "    space_scale=1e3,\n",
    "    space_units=\"km\",\n",
    "    time_units=\"days\",\n",
    "    psd_units=\"SSH\",\n",
    ")\n",
    "ax[1, 0].set(title=\"MIOST\")\n",
    "\n",
    "# NERF - MLP\n",
    "psd_st_plot = PlotPSDSpaceTimeScore()\n",
    "psd_st_plot.init_fig(ax=ax[1, 1])\n",
    "psd_st_plot.plot_wavelength(\n",
    "    ds_psd_nerf_mlp_score.ssh,\n",
    "    space_scale=1e3,\n",
    "    space_units=\"km\",\n",
    "    time_units=\"days\",\n",
    "    psd_units=\"SSH\",\n",
    ")\n",
    "ax[1, 1].set(title=\"NerF (MLP)\")\n",
    "\n",
    "# NERF - FFN\n",
    "psd_st_plot = PlotPSDSpaceTimeScore()\n",
    "psd_st_plot.init_fig(ax=ax[2, 0])\n",
    "psd_st_plot.plot_wavelength(\n",
    "    ds_psd_nerf_ffn_score.ssh,\n",
    "    space_scale=1e3,\n",
    "    space_units=\"km\",\n",
    "    time_units=\"days\",\n",
    "    psd_units=\"SSH\",\n",
    ")\n",
    "ax[2, 0].set(title=\"NerF (FFN)\")\n",
    "\n",
    "# NERF - SIREN\n",
    "psd_st_plot = PlotPSDSpaceTimeScore()\n",
    "psd_st_plot.init_fig(ax=ax[2, 1])\n",
    "psd_st_plot.plot_wavelength(\n",
    "    ds_psd_nerf_siren_score.ssh,\n",
    "    space_scale=1e3,\n",
    "    space_units=\"km\",\n",
    "    time_units=\"days\",\n",
    "    psd_units=\"SSH\",\n",
    ")\n",
    "ax[2, 1].set(title=\"NerF (SIREN)\")\n",
    "\n",
    "plt.tight_layout()\n",
    "plt.gcf().savefig(\n",
    "    f\"./figures/dc20a/psd_score/spacetime/dc20a_psd_spacetime_score_{experiment}.png\"\n",
    ")\n",
    "plt.show()"
   ]
  },
  {
   "cell_type": "markdown",
   "id": "508d0c6a-df35-42a5-b67c-e52ba92c1606",
   "metadata": {},
   "source": [
    "### DUACS"
   ]
  },
  {
   "cell_type": "code",
   "execution_count": null,
   "id": "3298fe2d-3401-4f8d-800d-6e74a7941d63",
   "metadata": {
    "jupyter": {
     "source_hidden": true
    },
    "tags": []
   },
   "outputs": [],
   "source": [
    "# DUACS\n",
    "fig, ax = plt.subplots(figsize=(7, 5.5))\n",
    "\n",
    "psd_st_plot = PlotPSDSpaceTimeScore()\n",
    "psd_st_plot.init_fig(ax=ax)\n",
    "psd_st_plot.plot_wavelength(\n",
    "    ds_psd_duacs_score.ssh,\n",
    "    space_scale=1e3,\n",
    "    space_units=\"km\",\n",
    "    time_units=\"days\",\n",
    "    psd_units=\"SSH\",\n",
    ")\n",
    "plt.tight_layout()\n",
    "plt.gcf().savefig(\n",
    "    f\"./figures//dc20a/psd_score/spacetime/dc20a_psd_spacetime_score_ssh_duacs_{experiment}.png\"\n",
    ")\n",
    "plt.close()"
   ]
  },
  {
   "cell_type": "markdown",
   "id": "95972cab-e5c8-4503-972a-b5995a448505",
   "metadata": {},
   "source": [
    "### MIOST"
   ]
  },
  {
   "cell_type": "code",
   "execution_count": null,
   "id": "04ea66a7-b548-4a40-9529-1aa76cb53512",
   "metadata": {
    "jupyter": {
     "source_hidden": true
    },
    "tags": []
   },
   "outputs": [],
   "source": [
    "# DUACS\n",
    "fig, ax = plt.subplots(figsize=(7, 5.5))\n",
    "\n",
    "psd_st_plot = PlotPSDSpaceTimeScore()\n",
    "psd_st_plot.init_fig(ax=ax)\n",
    "psd_st_plot.plot_wavelength(\n",
    "    ds_psd_miost_score.ssh,\n",
    "    space_scale=1e3,\n",
    "    space_units=\"km\",\n",
    "    time_units=\"days\",\n",
    "    psd_units=\"SSH\",\n",
    ")\n",
    "plt.tight_layout()\n",
    "plt.gcf().savefig(\n",
    "    f\"./figures/dc20a/psd_score/spacetime/dc20a_psd_spacetime_score_ssh_miost_{experiment}.png\"\n",
    ")\n",
    "plt.close()"
   ]
  },
  {
   "cell_type": "markdown",
   "id": "9904dd0d-253a-48eb-af64-cf8fbeee7b50",
   "metadata": {},
   "source": [
    "### NERF (MLP)"
   ]
  },
  {
   "cell_type": "code",
   "execution_count": null,
   "id": "ae744736-d339-49c8-900d-af072d76b7b7",
   "metadata": {
    "jupyter": {
     "source_hidden": true
    },
    "tags": []
   },
   "outputs": [],
   "source": [
    "# DUACS\n",
    "fig, ax = plt.subplots(figsize=(7, 5.5))\n",
    "\n",
    "psd_st_plot = PlotPSDSpaceTimeScore()\n",
    "psd_st_plot.init_fig(ax=ax)\n",
    "psd_st_plot.plot_wavelength(\n",
    "    ds_psd_nerf_mlp_score.ssh,\n",
    "    space_scale=1e3,\n",
    "    space_units=\"km\",\n",
    "    time_units=\"days\",\n",
    "    psd_units=\"SSH\",\n",
    ")\n",
    "plt.tight_layout()\n",
    "plt.gcf().savefig(\n",
    "    f\"./figures/dc20a/psd_score/spacetime/dc20a_psd_spacetime_score_ssh_nerf_mlp_{experiment}.png\"\n",
    ")\n",
    "plt.close()"
   ]
  },
  {
   "cell_type": "markdown",
   "id": "3ac101ee-19b6-4fdf-b405-ace89c0444c6",
   "metadata": {},
   "source": [
    "### NERF (FFN)"
   ]
  },
  {
   "cell_type": "code",
   "execution_count": null,
   "id": "ace26f53-b168-4470-9523-57ac54ec3e13",
   "metadata": {
    "jupyter": {
     "source_hidden": true
    },
    "tags": []
   },
   "outputs": [],
   "source": [
    "# DUACS\n",
    "fig, ax = plt.subplots(figsize=(7, 5.5))\n",
    "\n",
    "psd_st_plot = PlotPSDSpaceTimeScore()\n",
    "psd_st_plot.init_fig(ax=ax)\n",
    "psd_st_plot.plot_wavelength(\n",
    "    ds_psd_nerf_ffn_score.ssh,\n",
    "    space_scale=1e3,\n",
    "    space_units=\"km\",\n",
    "    time_units=\"days\",\n",
    "    psd_units=\"SSH\",\n",
    ")\n",
    "plt.tight_layout()\n",
    "plt.gcf().savefig(\n",
    "    f\"./figures/dc20a/psd_score/spacetime/dc20a_psd_spacetime_score_ssh_nerf_ffn_{experiment}.png\"\n",
    ")\n",
    "plt.close()"
   ]
  },
  {
   "cell_type": "markdown",
   "id": "a31c6a17-b107-433e-995d-ca64e54f360b",
   "metadata": {},
   "source": [
    "### NERF (SIREN)"
   ]
  },
  {
   "cell_type": "code",
   "execution_count": null,
   "id": "452986a5-bf3c-446f-af17-d3975dc26d05",
   "metadata": {
    "jupyter": {
     "source_hidden": true
    },
    "tags": []
   },
   "outputs": [],
   "source": [
    "# DUACS\n",
    "fig, ax = plt.subplots(figsize=(7, 5.5))\n",
    "\n",
    "psd_st_plot = PlotPSDSpaceTimeScore()\n",
    "psd_st_plot.init_fig(ax=ax)\n",
    "psd_st_plot.plot_wavelength(\n",
    "    ds_psd_nerf_siren_score.ssh,\n",
    "    space_scale=1e3,\n",
    "    space_units=\"km\",\n",
    "    time_units=\"days\",\n",
    "    psd_units=\"SSH\",\n",
    ")\n",
    "plt.tight_layout()\n",
    "plt.gcf().savefig(\n",
    "    f\"./figures/dc20a/psd_score/spacetime/dc20a_psd_spacetime_score_ssh_nerf_siren_{experiment}.png\"\n",
    ")\n",
    "plt.close()"
   ]
  },
  {
   "cell_type": "code",
   "execution_count": null,
   "id": "2e1d209b-9253-4edf-997c-43989e3c1948",
   "metadata": {},
   "outputs": [],
   "source": []
  },
  {
   "cell_type": "code",
   "execution_count": null,
   "id": "b81695e6-f693-426c-803b-336ebfaff9ae",
   "metadata": {},
   "outputs": [],
   "source": []
  }
 ],
 "metadata": {
  "kernelspec": {
   "display_name": "Python [conda env:miniconda3-jejeqx]",
   "language": "python",
   "name": "conda-env-miniconda3-jejeqx-py"
  },
  "language_info": {
   "codemirror_mode": {
    "name": "ipython",
    "version": 3
   },
   "file_extension": ".py",
   "mimetype": "text/x-python",
   "name": "python",
   "nbconvert_exporter": "python",
   "pygments_lexer": "ipython3",
   "version": "3.10.10"
  }
 },
 "nbformat": 4,
 "nbformat_minor": 5
}
