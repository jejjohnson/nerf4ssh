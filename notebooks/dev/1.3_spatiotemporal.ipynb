{
 "cells": [
  {
   "cell_type": "markdown",
   "id": "4123c4da-15c8-47f8-9781-7c14c94e2910",
   "metadata": {
    "tags": [],
    "user_expressions": []
   },
   "source": [
    "<!-- --- -->\n",
    "title: Spatial Temporal\n",
    "date: 2023-04-01\n",
    "authors:\n",
    "  - name: J. Emmanuel Johnson\n",
    "    affiliations:\n",
    "      - MEOM Lab\n",
    "    roles:\n",
    "      - Primary Programmer\n",
    "    email: jemanjohnson34@gmail.com\n",
    "license: CC-BY-4.0\n",
    "keywords: NerFs, Images\n",
    "---"
   ]
  },
  {
   "cell_type": "code",
   "execution_count": null,
   "id": "6028f5f4-c74e-42aa-a147-be448542e2de",
   "metadata": {
    "tags": []
   },
   "outputs": [],
   "source": [
    "import autoroot\n",
    "import jax\n",
    "import jax.numpy as jnp\n",
    "import jax.scipy as jsp\n",
    "import jax.random as jrandom\n",
    "import numpy as np\n",
    "import numba as nb\n",
    "import equinox as eqx\n",
    "import kernex as kex\n",
    "import finitediffx as fdx\n",
    "import diffrax as dfx\n",
    "import xarray as xr\n",
    "import metpy\n",
    "import matplotlib.pyplot as plt\n",
    "import seaborn as sns\n",
    "from tqdm.notebook import tqdm, trange\n",
    "from jaxtyping import Float, Array, PyTree, ArrayLike\n",
    "import wandb\n",
    "from omegaconf import OmegaConf\n",
    "import hydra\n",
    "from sklearn import pipeline\n",
    "from sklearn.compose import ColumnTransformer\n",
    "from sklearn.pipeline import Pipeline\n",
    "from jejeqx._src.transforms.dataframe.spatial import Spherical2Cartesian\n",
    "from jejeqx._src.transforms.dataframe.temporal import TimeDelta\n",
    "from jejeqx._src.transforms.dataframe.scaling import MinMaxDF\n",
    "\n",
    "sns.reset_defaults()\n",
    "sns.set_context(context=\"talk\", font_scale=0.7)\n",
    "jax.config.update(\"jax_enable_x64\", False)\n",
    "\n",
    "%env XLA_PYTHON_CLIENT_PREALLOCATE=false\n",
    "\n",
    "%matplotlib inline\n",
    "%load_ext autoreload\n",
    "%autoreload 2"
   ]
  },
  {
   "cell_type": "markdown",
   "id": "c71086b9-24cb-4b1d-9eab-93ce21ac8d12",
   "metadata": {
    "user_expressions": []
   },
   "source": [
    "## Recap Formulation\n",
    "\n",
    "We are interested in learning non-linear functions $\\boldsymbol{f}$.\n",
    "\n",
    "$$\n",
    "\\begin{aligned}\n",
    "\\boldsymbol{f}(\\mathbf{x}) &=\n",
    "\\mathbf{w}^\\top\\boldsymbol{\\phi}(\\mathbf{x})+\\mathbf{b}\n",
    "\\end{aligned}\n",
    "$$\n",
    "\n",
    "where the $\\boldsymbol{\\phi}(\\cdot)$ is a basis function. Neural Fields typically try to learn this basis funciton via a series of composite functions of the form\n",
    "\n",
    "$$\n",
    "\\boldsymbol{\\phi}(\\mathbf{x}) =\n",
    "\\boldsymbol{\\phi}_L\\circ\\boldsymbol{\\phi}_{L-1}\n",
    "\\circ\\cdots\\circ\n",
    "\\boldsymbol{\\phi}_2\\circ\\boldsymbol{\\phi}_{1}(\\mathbf{x})\n",
    "$$"
   ]
  },
  {
   "cell_type": "markdown",
   "id": "c9495206-f1e1-42d6-beba-13fe42d9253f",
   "metadata": {
    "user_expressions": []
   },
   "source": [
    "## Problems\n",
    "\n",
    "Here, we will demonstrate a problem that a naive network has."
   ]
  },
  {
   "cell_type": "markdown",
   "id": "5ac67435-b31d-4788-b79d-3d2e3b5ac1df",
   "metadata": {
    "user_expressions": []
   },
   "source": [
    "## Data"
   ]
  },
  {
   "cell_type": "code",
   "execution_count": null,
   "id": "aefda25b-01ae-4654-b4ce-03c17732a4a6",
   "metadata": {},
   "outputs": [],
   "source": [
    "# !wget wget -nc https://s3.us-east-1.wasabisys.com/melody/osse_data/ref/NATL60-CJM165_GULFSTREAM_ssh_y2013.1y.nc"
   ]
  },
  {
   "cell_type": "code",
   "execution_count": null,
   "id": "80de7073-939d-4ab9-a419-d5564a660681",
   "metadata": {},
   "outputs": [],
   "source": [
    "from pathlib import Path"
   ]
  },
  {
   "cell_type": "code",
   "execution_count": null,
   "id": "dde389d0-00ed-4b52-b577-f97c1231a66e",
   "metadata": {},
   "outputs": [],
   "source": [
    "Path(\n",
    "    \"/gpfswork/rech/cli/uvo53rl/projects/jejeqx/data/natl60/NATL60-CJM165_GULFSTREAM_ssh_y2013.1y.nc\"\n",
    ").is_file()"
   ]
  },
  {
   "cell_type": "code",
   "execution_count": null,
   "id": "236b7d19-607e-47a8-9e56-7b34dcf3d2b0",
   "metadata": {},
   "outputs": [],
   "source": [
    "# @dataclass\n",
    "# class Subset:\n",
    "#     _target_: str = \"slice\"\n",
    "#     _args_: List = field(default_factory=lambda :[\"2013-01-01\", \"2013-01-10\"])"
   ]
  },
  {
   "cell_type": "code",
   "execution_count": null,
   "id": "940d5566-74c1-484e-9469-e5b95ddd9d51",
   "metadata": {},
   "outputs": [],
   "source": [
    "from dataclasses import dataclass, field\n",
    "from typing import List, Dict\n",
    "\n",
    "\n",
    "# @dataclass\n",
    "# class SSHDM:\n",
    "#     _target_: str = \"jejeqx._src.datamodules.natl60.SSHSTNATL60\"\n",
    "#     batch_size: int = 10_000\n",
    "#     shuffle: bool = False\n",
    "#     split_method: str = \"random\"\n",
    "#     train_size: float = 0.80\n",
    "#     spatial_coords: List = field(default_factory=lambda : [\"x\", \"y\", \"z\"])\n",
    "#     temporal_coords: List = field(default_factory=lambda: [\"time\"])\n",
    "#     variables: List = field(default_factory=lambda : [\"ssh\"])\n",
    "#     coarsen: Dict = field(default_factory=lambda : {\"lon\": 4, \"lat\": 4})\n",
    "#     directory: str = \"/gpfswork/rech/cli/uvo53rl/projects/jejeqx/data/natl60/\"\n",
    "\n",
    "\n",
    "@dataclass\n",
    "class SSHDM:\n",
    "    _target_: str = \"jejeqx._src.datamodules.coords.AlongTrackDM\"\n",
    "    batch_size: int = 10_000\n",
    "    shuffle: bool = False\n",
    "    train_size: float = 0.80\n",
    "    spatial_coords: List = field(default_factory=lambda: [\"lat\", \"lon\"])\n",
    "    temporal_coords: List = field(default_factory=lambda: [\"time\"])\n",
    "    variables: List = field(default_factory=lambda: [\"ssh\"])\n",
    "    coarsen: Dict = field(default_factory=lambda: {\"lon\": 2, \"lat\": 2})\n",
    "    decode_times: bool = False\n",
    "    resample: str = \"1D\"\n",
    "    paths: str = \"/gpfswork/rech/cli/uvo53rl/projects/jejeqx/data/natl60/NATL60-CJM165_GULFSTREAM_ssh_y2013.1y.nc\"\n",
    "    # paths: str = \"/gpfswork/rech/yrf/commun/data_challenges/dc20a_osse/test/dc_ref/NATL60-CJM165_GULFSTREAM*\"\n",
    "\n",
    "\n",
    "# spatial transform\n",
    "spatial_transforms = Pipeline(\n",
    "    [\n",
    "        (\"cartesian3d\", Spherical2Cartesian(radius=1.0, units=\"degrees\")),\n",
    "        (\"spatialminmax\", MinMaxDF([\"x\", \"y\", \"z\"], -1, 1)),\n",
    "    ]\n",
    ")\n",
    "\n",
    "temporal_transforms = Pipeline(\n",
    "    [\n",
    "        (\"timedelta\", TimeDelta(\"2012-10-01\", 1, \"s\")),\n",
    "        (\"timeminmax\", MinMaxDF([\"time\"], -1, 1)),\n",
    "    ]\n",
    ")"
   ]
  },
  {
   "cell_type": "code",
   "execution_count": null,
   "id": "af5d46d3-df1d-433f-9467-86b6498b0ff6",
   "metadata": {},
   "outputs": [],
   "source": [
    "select = {\"time\": slice(\"2013-01-01\", \"2013-10-30\")}\n",
    "\n",
    "config_dm = OmegaConf.structured(SSHDM())\n",
    "\n",
    "dm = hydra.utils.instantiate(\n",
    "    config_dm,\n",
    "    select=select,\n",
    "    spatial_transform=spatial_transforms,\n",
    "    temporal_transform=temporal_transforms,\n",
    ")\n",
    "\n",
    "dm.setup()\n",
    "\n",
    "\n",
    "init = dm.ds_train[:32]\n",
    "x_init, t_init, y_init = init[\"spatial\"], init[\"temporal\"], init[\"data\"]\n",
    "x_init.min(), x_init.max(), x_init.shape, t_init.min(), t_init.max(), t_init.shape"
   ]
  },
  {
   "cell_type": "code",
   "execution_count": null,
   "id": "7aada7fe-c387-4dee-aea9-f60b0c698013",
   "metadata": {},
   "outputs": [],
   "source": [
    "len(dm.ds_train), len(dm.ds_test)"
   ]
  },
  {
   "cell_type": "code",
   "execution_count": null,
   "id": "9e367177-80a4-4490-acdc-02d6a2932f73",
   "metadata": {},
   "outputs": [],
   "source": [
    "xrda = dm.load_xrds()"
   ]
  },
  {
   "cell_type": "code",
   "execution_count": null,
   "id": "b6041259-00a2-4de1-85b1-2569744ee922",
   "metadata": {},
   "outputs": [],
   "source": [
    "# import geoviews as gv\n",
    "# import geoviews.feature as gf\n",
    "# from cartopy import crs\n",
    "\n",
    "# gv.extension('bokeh', 'matplotlib')"
   ]
  },
  {
   "cell_type": "code",
   "execution_count": null,
   "id": "b2043e33-8790-4e66-af64-c7f0f2758af8",
   "metadata": {},
   "outputs": [],
   "source": [
    "xrda"
   ]
  },
  {
   "cell_type": "code",
   "execution_count": null,
   "id": "ba1b7c5d-fbc2-4360-91af-1ff791219a5b",
   "metadata": {},
   "outputs": [],
   "source": [
    "# import geoviews as gv\n",
    "# import geoviews.feature as gf\n",
    "# from cartopy import crs\n",
    "\n",
    "# gv.extension('bokeh', 'matplotlib')"
   ]
  },
  {
   "cell_type": "code",
   "execution_count": null,
   "id": "d6ee0b85-ab94-4ff4-ad74-20d5ec5ec6a4",
   "metadata": {},
   "outputs": [],
   "source": [
    "# dataset = gv.Dataset(xrda_obs)\n",
    "# ensemble1 = dataset.to(gv.Image, ['lon', 'lat'], \"ssh\")\n",
    "# gv.output(ensemble1.opts(cmap='viridis', colorbar=True, fig_size=200, backend='matplotlib') * gf.coastline(),\n",
    "#           backend='matplotlib')"
   ]
  },
  {
   "cell_type": "code",
   "execution_count": null,
   "id": "405d8c5d-7fe3-4d1f-8943-d8268fc87de3",
   "metadata": {},
   "outputs": [],
   "source": [
    "# dataset = gv.Dataset(xrda)\n",
    "# ensemble1 = dataset.to(gv.Image, ['lon', 'lat'], \"ssh\")\n",
    "# ensemble2 = dataset.to(gv.Image, ['lon', 'lat'], \"ssh_lmsiren\")\n",
    "# gv.output(ensemble1.opts(cmap='viridis', colorbar=True, fig_size=200, backend='matplotlib') * gf.coastline(),\n",
    "#           backend='matplotlib')"
   ]
  },
  {
   "cell_type": "code",
   "execution_count": null,
   "id": "56142d46-dfd6-468d-9976-cef33366fbb0",
   "metadata": {},
   "outputs": [],
   "source": [
    "!ls /gpfswork/rech/cli/uvo53rl/checkpoints/nerfs/siren/natl60/full/"
   ]
  },
  {
   "cell_type": "code",
   "execution_count": null,
   "id": "95b75719-7691-49c4-ada4-358cb3f7e812",
   "metadata": {},
   "outputs": [],
   "source": [
    "import joblib\n",
    "\n",
    "model_config_file = (\n",
    "    \"/gpfswork/rech/cli/uvo53rl/checkpoints/nerfs/siren/natl60/full/config.pkl\"\n",
    ")\n",
    "checkpoint_file = \"/gpfswork/rech/cli/uvo53rl/checkpoints/nerfs/siren/natl60/full/checkpoint_model.ckpt\"\n",
    "\n",
    "old_config = joblib.load(model_config_file)\n",
    "\n",
    "model = hydra.utils.instantiate(old_config[\"model\"])"
   ]
  },
  {
   "cell_type": "code",
   "execution_count": null,
   "id": "e3207006-b336-4b50-a38f-405670968b8c",
   "metadata": {},
   "outputs": [],
   "source": [
    "old_config[\"model\"]"
   ]
  },
  {
   "cell_type": "code",
   "execution_count": null,
   "id": "96b101a1-c0ed-4239-ad5a-62590255b153",
   "metadata": {},
   "outputs": [],
   "source": [
    "eqx.pprint(model)"
   ]
  },
  {
   "cell_type": "markdown",
   "id": "1b3580d3-6711-4cfd-8e73-fc5703c0842b",
   "metadata": {
    "user_expressions": []
   },
   "source": [
    "## Optimizer (+ Learning Rate)"
   ]
  },
  {
   "cell_type": "code",
   "execution_count": null,
   "id": "99036348-eb3d-4d53-835d-4262c7546c9b",
   "metadata": {
    "tags": []
   },
   "outputs": [],
   "source": [
    "import optax\n",
    "\n",
    "num_epochs = 2_000\n",
    "\n",
    "\n",
    "@dataclass\n",
    "class Optimizer:\n",
    "    _target_: str = \"optax.adam\"\n",
    "    learning_rate: float = 1e-4\n",
    "\n",
    "\n",
    "# FINETUNE!\n",
    "@dataclass\n",
    "class Scheduler:\n",
    "    _target_: str = \"optax.warmup_cosine_decay_schedule\"\n",
    "    init_value: float = 0.0\n",
    "    peak_value: float = 1e-2\n",
    "    warmup_steps: int = 500\n",
    "    end_value: float = 1e-6\n",
    "\n",
    "\n",
    "scheduler_config = OmegaConf.structured(Scheduler())"
   ]
  },
  {
   "cell_type": "code",
   "execution_count": null,
   "id": "6a8676fe-0cac-465f-a1bc-f1951b1b6e11",
   "metadata": {
    "tags": []
   },
   "outputs": [],
   "source": [
    "optim_config = OmegaConf.structured(Optimizer())\n",
    "\n",
    "optimizer = hydra.utils.instantiate(optim_config)\n",
    "\n",
    "# num_steps_per_epoch = len(dm.ds_train)\n",
    "\n",
    "# scheduler = hydra.utils.instantiate(\n",
    "#     scheduler_config,\n",
    "#     decay_steps=int(num_epochs * num_steps_per_epoch)\n",
    "# )\n",
    "\n",
    "# optimizer = optax.chain(optimizer, optax.scale_by_schedule(scheduler))"
   ]
  },
  {
   "cell_type": "markdown",
   "id": "7327bdf1-7e7d-458c-99f7-2d85ba48d185",
   "metadata": {
    "user_expressions": []
   },
   "source": [
    "## Trainer Module"
   ]
  },
  {
   "cell_type": "code",
   "execution_count": null,
   "id": "8a54b919-1dd4-4bad-bd4d-1c9d4dc92a0f",
   "metadata": {
    "jupyter": {
     "outputs_hidden": false
    }
   },
   "outputs": [],
   "source": [
    "import glob\n",
    "import os\n",
    "from pathlib import Path\n",
    "\n",
    "from jejeqx._src.trainers.base import TrainerModule\n",
    "from jejeqx._src.trainers.callbacks import wandb_model_artifact\n",
    "from jejeqx._src.losses import psnr\n",
    "\n",
    "\n",
    "class RegressorTrainer(TrainerModule):\n",
    "    def __init__(self, model, optimizer, **kwargs):\n",
    "        super().__init__(model=model, optimizer=optimizer, pl_logger=None, **kwargs)\n",
    "\n",
    "    @property\n",
    "    def model(self):\n",
    "        return self.state.params\n",
    "\n",
    "    @property\n",
    "    def model_batch(self):\n",
    "        return jax.vmap(self.state.params, in_axes=(0, 0))\n",
    "\n",
    "    def create_functions(self):\n",
    "        @eqx.filter_value_and_grad\n",
    "        def mse_loss(model, batch):\n",
    "            x, t, y = batch[\"spatial\"], batch[\"temporal\"], batch[\"data\"]\n",
    "            pred = jax.vmap(model)(jnp.hstack([x, t]))\n",
    "            # x, t, y = batch[\"spatial\"], batch[\"temporal\"], batch[\"data\"]\n",
    "            # pred = jax.vmap(model, in_axes=(0,0))(x, t)\n",
    "            loss = jnp.mean((y - pred) ** 2)\n",
    "            return loss\n",
    "\n",
    "        def train_step(state, batch):\n",
    "            loss, grads = mse_loss(state.params, batch)\n",
    "            state = state.update_state(state, grads)\n",
    "            psnr_loss = psnr(loss)\n",
    "            metrics = {\"loss\": loss, \"psnr\": psnr_loss}\n",
    "            return state, loss, metrics\n",
    "\n",
    "        def eval_step(model, batch):\n",
    "            loss, _ = mse_loss(model, batch)\n",
    "            psnr_loss = psnr(loss)\n",
    "            return {\"loss\": loss, \"psnr\": psnr_loss}\n",
    "\n",
    "        def test_step(model, batch):\n",
    "            x, t, y = batch[\"spatial\"], batch[\"temporal\"], batch[\"data\"]\n",
    "            out = jax.vmap(model)(jnp.hstack([x, t]))\n",
    "            loss, _ = mse_loss(model, batch)\n",
    "            psnr_loss = psnr(loss)\n",
    "            return out, {\"loss\": loss, \"psnr\": psnr_loss}\n",
    "\n",
    "        def predict_step(model, batch):\n",
    "            x, t = batch[\"spatial\"], batch[\"temporal\"]\n",
    "            out = jax.vmap(model)(jnp.hstack([x, t]))\n",
    "            return out\n",
    "\n",
    "        return train_step, eval_step, test_step, predict_step\n",
    "\n",
    "    def on_training_end(\n",
    "        self,\n",
    "    ):\n",
    "        if self.pl_logger:\n",
    "            save_dir = Path(self.log_dir).joinpath(self.save_name)\n",
    "            self.save_model(save_dir)\n",
    "            wandb_model_artifact(self)\n",
    "            self.pl_logger.finalize(\"success\")"
   ]
  },
  {
   "cell_type": "code",
   "execution_count": null,
   "id": "e1df158c-9126-4e8e-b5ab-ae01c0a34c06",
   "metadata": {
    "jupyter": {
     "outputs_hidden": false
    }
   },
   "outputs": [],
   "source": [
    "seed = 123\n",
    "debug = False\n",
    "enable_progress_bar = False\n",
    "log_dir = \"./\"\n",
    "\n",
    "trainer = RegressorTrainer(\n",
    "    model,\n",
    "    optimizer,\n",
    "    seed=seed,\n",
    "    debug=debug,\n",
    "    enable_progress_bar=enable_progress_bar,\n",
    "    log_dir=log_dir,\n",
    ")\n",
    "\n",
    "train_more = False\n",
    "save_new = True"
   ]
  },
  {
   "cell_type": "code",
   "execution_count": null,
   "id": "c665b26d-4d0b-479b-b92c-f9dc110a1f54",
   "metadata": {},
   "outputs": [],
   "source": []
  },
  {
   "cell_type": "code",
   "execution_count": null,
   "id": "54591d79-21a2-4787-8bb8-7f25c595f2e7",
   "metadata": {},
   "outputs": [],
   "source": [
    "%%time\n",
    "\n",
    "\n",
    "out, metrics = trainer.test_model(dm.test_dataloader())\n",
    "metrics"
   ]
  },
  {
   "cell_type": "code",
   "execution_count": null,
   "id": "bc2e3054-e77b-43f7-9b38-73c5566642f0",
   "metadata": {
    "tags": []
   },
   "outputs": [],
   "source": [
    "# trainer.load_model(\"./checkpoints/checkpoint_model_stlmsiren_ssh_more.ckpt\")\n",
    "# trainer.load_model(\"./checkpoints/checkpoint_natl60_model_rff.ckpt\")\n",
    "trainer.load_model(checkpoint_file)"
   ]
  },
  {
   "cell_type": "code",
   "execution_count": null,
   "id": "091d3ca0-a1b3-4766-945c-6cb516895aea",
   "metadata": {},
   "outputs": [],
   "source": [
    "%%time\n",
    "\n",
    "\n",
    "out, metrics = trainer.test_model(dm.test_dataloader())\n",
    "metrics"
   ]
  },
  {
   "cell_type": "code",
   "execution_count": null,
   "id": "73b5d0fd-628d-45f4-8eff-21be28d1c977",
   "metadata": {
    "tags": []
   },
   "outputs": [],
   "source": [
    "%%time\n",
    "if train_more:\n",
    "    metrics = trainer.train_model(dm, num_epochs=num_epochs)"
   ]
  },
  {
   "cell_type": "code",
   "execution_count": null,
   "id": "5d0aa296-9fa9-4a57-b803-404206aebb73",
   "metadata": {
    "tags": []
   },
   "outputs": [],
   "source": [
    "%%time\n",
    "\n",
    "if train_more:\n",
    "    out, metrics = trainer.test_model(dm.test_dataloader())\n",
    "    print(metrics)"
   ]
  },
  {
   "cell_type": "code",
   "execution_count": null,
   "id": "fe234bf6-871e-4180-818d-f4271fffc9ba",
   "metadata": {
    "jupyter": {
     "outputs_hidden": false
    }
   },
   "outputs": [],
   "source": [
    "# if save_new:\n",
    "#     # trainer.save_model(\"./checkpoints/check point_model_stlmsiren_ssh_more.ckpt\")\n",
    "#     trainer.save_model(\"./checkpoints/checkpoint_natl60_model_rff.ckpt\")\n",
    "# # # trainer.save_state(\"checkpoint_state.ckpt\")"
   ]
  },
  {
   "cell_type": "code",
   "execution_count": null,
   "id": "d1336da9-e5aa-4611-bffe-311e810c4f89",
   "metadata": {},
   "outputs": [],
   "source": [
    "xrda[\"ssh_siren\"] = dm.data_to_df(out).to_xarray().ssh"
   ]
  },
  {
   "cell_type": "code",
   "execution_count": null,
   "id": "5ff36230-1361-4f0a-8778-7a5503ab0b1c",
   "metadata": {},
   "outputs": [],
   "source": [
    "fig, ax = plt.subplots(ncols=2, figsize=(8, 3))\n",
    "\n",
    "xrda.ssh.isel(time=0).plot.pcolormesh(ax=ax[0], cmap=\"viridis\")\n",
    "ax[0].set(title=\"Original\")\n",
    "\n",
    "xrda.ssh_siren.isel(time=0).plot.pcolormesh(ax=ax[1], cmap=\"viridis\")\n",
    "ax[1].set(title=\"SIREN\")\n",
    "\n",
    "plt.tight_layout()\n",
    "plt.show()"
   ]
  },
  {
   "cell_type": "markdown",
   "id": "b9111b03-d075-4035-ae33-56da1553409f",
   "metadata": {},
   "source": [
    "## Analysis"
   ]
  },
  {
   "cell_type": "code",
   "execution_count": null,
   "id": "9bd50f4b-d831-4197-aa6a-e596b3f2988c",
   "metadata": {},
   "outputs": [],
   "source": [
    "import common_utils as cutils"
   ]
  },
  {
   "cell_type": "code",
   "execution_count": null,
   "id": "f78c1275-1ccb-4221-90c6-a59be09b4ceb",
   "metadata": {},
   "outputs": [],
   "source": [
    "ds_rff = cutils.calculate_physical_quantities(xrda.ssh_siren)\n",
    "ds_natl60 = cutils.calculate_physical_quantities(xrda.ssh)"
   ]
  },
  {
   "cell_type": "code",
   "execution_count": null,
   "id": "c082ae21-f3fa-46b3-ab81-b749f93ae201",
   "metadata": {},
   "outputs": [],
   "source": [
    "import holoviews as hv\n",
    "\n",
    "hv.extension(\"matplotlib\")\n",
    "\n",
    "\n",
    "variable = \"ssh\"  # \"vort_r\" # \"ke\" #\n",
    "cmap = \"viridis\"  # \"RdBu_r\" # \"YlGnBu_r\" #\n",
    "\n",
    "ssh_ds = xr.Dataset(\n",
    "    {\n",
    "        \"NATL60\": ds_natl60[variable],\n",
    "        \"SIREN\": ds_rff[variable],\n",
    "    }\n",
    ")\n",
    "\n",
    "ssh_ds[\"NATL60\"] = ((\"time\", \"lat\", \"lon\"), ds_natl60[variable].data.magnitude)\n",
    "ssh_ds[\"SIREN\"] = ((\"time\", \"lat\", \"lon\"), ds_rff[variable].data.magnitude)\n",
    "\n",
    "to_plot_ds = ssh_ds.isel(time=slice(25, 55, 1)).transpose(\"time\", \"lat\", \"lon\")\n",
    "\n",
    "clim = (\n",
    "    to_plot_ds[[\"NATL60\", \"SIREN\"]]\n",
    "    .to_array()\n",
    "    .pipe(lambda da: (da.quantile(0.005).item(), da.quantile(0.995).item()))\n",
    ")\n",
    "\n",
    "images = (\n",
    "    hv.Layout(\n",
    "        [\n",
    "            hv.Dataset(to_plot_ds)\n",
    "            .to(hv.QuadMesh, [\"lon\", \"lat\"], v)\n",
    "            .relabel(v)\n",
    "            .options(cmap=cmap, clim=clim)\n",
    "            for v in to_plot_ds\n",
    "        ]\n",
    "    )\n",
    "    .cols(2)\n",
    "    .opts(sublabel_format=\"\")\n",
    ")\n",
    "\n",
    "hv.output(images, holomap=\"gif\", fps=2, dpi=300)"
   ]
  },
  {
   "cell_type": "code",
   "execution_count": null,
   "id": "9d1039f4-249d-41f7-b6bd-487650c43ca1",
   "metadata": {},
   "outputs": [],
   "source": [
    "fig, ax = cutils.plot_analysis_vars(\n",
    "    [\n",
    "        ds_natl60.isel(time=5),\n",
    "        ds_rff.isel(time=5),\n",
    "    ],\n",
    "    figsize=(12, 25),\n",
    ")\n",
    "plt.show()"
   ]
  },
  {
   "cell_type": "markdown",
   "id": "ab2efb09-ab8c-403f-891b-39b1ea0f5261",
   "metadata": {},
   "source": [
    "### Simple Stats"
   ]
  },
  {
   "cell_type": "code",
   "execution_count": null,
   "id": "f48d17b1-74bb-4da1-b92f-ede699fca702",
   "metadata": {
    "jupyter": {
     "source_hidden": true
    },
    "tags": []
   },
   "outputs": [],
   "source": [
    "def rmse_da(da, da_ref, dim):\n",
    "    return ((da - da_ref) ** 2).mean(dim=dim) ** 0.5\n",
    "\n",
    "\n",
    "def nrmse_da(da, da_ref, dim):\n",
    "    rmse = rmse_da(da=da, da_ref=da_ref, dim=dim)\n",
    "    std = (da_ref**2).mean(dim=dim) ** 0.5\n",
    "    return 1.0 - (rmse / std).data.magnitude"
   ]
  },
  {
   "cell_type": "code",
   "execution_count": null,
   "id": "e7f4cb9b-30cb-4156-b6ba-b6a93fe9da58",
   "metadata": {
    "jupyter": {
     "source_hidden": true
    },
    "tags": []
   },
   "outputs": [],
   "source": [
    "import pandas as pd\n",
    "\n",
    "results_df = pd.DataFrame()\n",
    "\n",
    "for imodel, iname in zip([ds_rff], [\"SIREN\"]):\n",
    "    for ivar in imodel:\n",
    "        error_space = nrmse_da(imodel[ivar], ds_natl60[ivar], [\"lat\", \"lon\", \"time\"])\n",
    "        error_time = nrmse_da(imodel[ivar], ds_natl60[ivar], [\"time\"]).std()\n",
    "\n",
    "        ires_df = pd.DataFrame(\n",
    "            data=[[iname, ivar, error_space.item(), error_time.item()]],\n",
    "            columns=[\"model\", \"variable\", \"nrmse (mu)\", \"nrsme (std)\"],\n",
    "        )\n",
    "\n",
    "        results_df = pd.concat([ires_df, results_df.loc[:]], axis=0)"
   ]
  },
  {
   "cell_type": "code",
   "execution_count": null,
   "id": "b97d6463-5ab1-4103-b984-a640b12e044c",
   "metadata": {},
   "outputs": [],
   "source": [
    "results_df"
   ]
  },
  {
   "cell_type": "code",
   "execution_count": null,
   "id": "949195b9-6d5e-44da-addb-c1a596f0dc15",
   "metadata": {},
   "outputs": [],
   "source": [
    "ds_psd_natl60 = cutils.calculate_isotropic_psd(ds_natl60)\n",
    "ds_psd_rff = cutils.calculate_isotropic_psd(ds_rff)"
   ]
  },
  {
   "cell_type": "code",
   "execution_count": null,
   "id": "f70dfd3a-e61c-4a24-836d-fb46c6021e7f",
   "metadata": {},
   "outputs": [],
   "source": [
    "%matplotlib inline\n",
    "\n",
    "fig, ax = cutils.plot_analysis_psd_iso(\n",
    "    [\n",
    "        ds_psd_natl60,\n",
    "        ds_psd_rff,\n",
    "    ],\n",
    "    [\n",
    "        \"NATL60\",\n",
    "        \"RFE\",\n",
    "    ],\n",
    ")\n",
    "plt.show()"
   ]
  },
  {
   "cell_type": "code",
   "execution_count": null,
   "id": "3dd3c3c5-a83d-43a4-95b8-f540ec6754eb",
   "metadata": {},
   "outputs": [],
   "source": [
    "ds_scores = cutils.calculate_isotropic_psd_score(ds_rff, ds_natl60)"
   ]
  },
  {
   "cell_type": "code",
   "execution_count": null,
   "id": "67a3afdf-a1cd-4c1c-a228-6308abdd6aed",
   "metadata": {
    "tags": []
   },
   "outputs": [],
   "source": [
    "%matplotlib inline\n",
    "\n",
    "cutils.plot_analysis_psd_iso_score([ds_scores], [\"RFE\"], [\"k\"])\n",
    "plt.show()"
   ]
  },
  {
   "cell_type": "code",
   "execution_count": null,
   "id": "bea3d0cd-a054-4519-bb47-2aa335e27bfe",
   "metadata": {},
   "outputs": [],
   "source": [
    "ds_psd_natl60 = cutils.calculate_spacetime_psd(ds_natl60)\n",
    "ds_psd_rff = cutils.calculate_spacetime_psd(ds_rff)"
   ]
  },
  {
   "cell_type": "code",
   "execution_count": null,
   "id": "65547fbe-aade-4bbc-8872-d799c46a8e20",
   "metadata": {
    "tags": []
   },
   "outputs": [],
   "source": [
    "%matplotlib inline\n",
    "\n",
    "fig, ax = cutils.plot_analysis_psd_spacetime(\n",
    "    [\n",
    "        ds_psd_natl60,\n",
    "        ds_psd_rff,\n",
    "    ],\n",
    "    [\n",
    "        \"NATL60\",\n",
    "        \"RFE\",\n",
    "    ],\n",
    ")\n",
    "plt.show()"
   ]
  },
  {
   "cell_type": "code",
   "execution_count": null,
   "id": "a951953b-b33a-4fd6-9ece-389d6ce10e07",
   "metadata": {},
   "outputs": [],
   "source": [
    "ds_psd_rff = cutils.calculate_spacetime_psd_score(ds_rff, ds_natl60)"
   ]
  },
  {
   "cell_type": "code",
   "execution_count": null,
   "id": "64267eff-a90f-4202-9866-6195d8245954",
   "metadata": {},
   "outputs": [],
   "source": [
    "%matplotlib inline\n",
    "\n",
    "_ = cutils.plot_analysis_psd_spacetime_score([ds_psd_rff], [\"rff\"])"
   ]
  },
  {
   "cell_type": "code",
   "execution_count": null,
   "id": "0b1e8c74-bebc-4860-b157-126b29b02ec3",
   "metadata": {},
   "outputs": [],
   "source": []
  }
 ],
 "metadata": {
  "kernelspec": {
   "display_name": "Python [conda env:miniconda3-jejeqx]",
   "language": "python",
   "name": "conda-env-miniconda3-jejeqx-py"
  },
  "language_info": {
   "codemirror_mode": {
    "name": "ipython",
    "version": 3
   },
   "file_extension": ".py",
   "mimetype": "text/x-python",
   "name": "python",
   "nbconvert_exporter": "python",
   "pygments_lexer": "ipython3",
   "version": "3.10.10"
  }
 },
 "nbformat": 4,
 "nbformat_minor": 5
}
